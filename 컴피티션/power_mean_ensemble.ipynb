{
 "cells": [
  {
   "cell_type": "markdown",
   "metadata": {},
   "source": [
    "## Creating mean ensembles from submission files"
   ]
  },
  {
   "cell_type": "code",
   "execution_count": 1,
   "metadata": {
    "tags": [
     "parameters"
    ]
   },
   "outputs": [],
   "source": [
    "# 사용법: \n",
    "# 1) 스크립트를 실행하기 전에 submissions 폴더를 먼저 만듭니다. \n",
    "# 2) 앙상블할 submission 화일을 submissions 폴더에 저장합니다.\n",
    "# 3) 실행하면 현재 폴더에 앙상블한 submission 화일이 생성됩니다.\n",
    "\n",
    "P = 5             # 이 값에 따라 성능이 달라짐 (P=1: 산술평균, P>1: 멱평균)"
   ]
  },
  {
   "cell_type": "code",
   "execution_count": 2,
   "metadata": {},
   "outputs": [
    {
     "name": "stdout",
     "output_type": "stream",
     "text": [
      "ready to submit.\n"
     ]
    }
   ],
   "source": [
    "import pandas as pd\n",
    "import numpy as np\n",
    "import seaborn as sns\n",
    "import os\n",
    "import warnings\n",
    "warnings.filterwarnings(\"ignore\")\n",
    "\n",
    "# 아래 폴더가 있다는 가정 하에 수행\n",
    "folder = 'submissions'\n",
    "nf = 0\n",
    "for f in os.listdir(folder):\n",
    "    ext = os.path.splitext(f)[-1]\n",
    "    if ext == '.csv': \n",
    "        s = pd.read_csv(folder+\"/\"+f)\n",
    "    else: \n",
    "        continue\n",
    "    if nf == 0: \n",
    "        slist = s\n",
    "    else: \n",
    "        slist = pd.merge(slist, s, on=\"index\")\n",
    "    nf += 1\n",
    "    \n",
    "if nf >= 2:\n",
    "    pred0 = 0\n",
    "    pred1 = 0\n",
    "    pred2 = 0\n",
    "    for j in range(nf):\n",
    "        pred0 = pred0 + slist.iloc[:,j+1]**P\n",
    "        pred1 = pred1 + slist.iloc[:,j+2]**P\n",
    "        pred2 = pred2 + slist.iloc[:,j+3]**P\n",
    "    pred0 = pred0 / nf\n",
    "    pred1 = pred1 / nf\n",
    "    pred2 = pred2 / nf   \n",
    "    pred0 = pred0**(1/P)\n",
    "    pred1 = pred1**(1/P)\n",
    "    pred2 = pred2**(1/P)\n",
    "    pd.DataFrame({'index': slist.index, '0': pred0, '1': pred1, '2': pred2}).to_csv('p5-6.csv', index=False)\n",
    "    print( \"ready to submit.\") \n",
    "    \n",
    "    #sns.distplot(pd.DataFrame(pred))       "
   ]
  },
  {
   "cell_type": "markdown",
   "metadata": {},
   "source": [
    "### End"
   ]
  }
 ],
 "metadata": {
  "celltoolbar": "Tags",
  "kernelspec": {
   "display_name": "Python 3 (ipykernel)",
   "language": "python",
   "name": "python3"
  },
  "language_info": {
   "codemirror_mode": {
    "name": "ipython",
    "version": 3
   },
   "file_extension": ".py",
   "mimetype": "text/x-python",
   "name": "python",
   "nbconvert_exporter": "python",
   "pygments_lexer": "ipython3",
   "version": "3.9.12"
  }
 },
 "nbformat": 4,
 "nbformat_minor": 4
}
