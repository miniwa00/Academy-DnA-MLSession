{
 "cells": [
  {
   "cell_type": "markdown",
   "id": "3c8c80bf",
   "metadata": {},
   "source": [
    "# <span style=\"color:gray\">ML_Session_4주차_과제</span>  "
   ]
  },
  {
   "cell_type": "code",
   "execution_count": 1,
   "id": "92f06560",
   "metadata": {},
   "outputs": [],
   "source": [
    "import pandas as pd\n",
    "from pandas import DataFrame, Series\n",
    "\n",
    "import numpy as np\n",
    "import os\n",
    "\n",
    "# sklearn\n",
    "import sklearn\n",
    "\n",
    "import warnings\n",
    "warnings.filterwarnings(action='ignore') \n",
    "\n",
    "# 노트북 실행 결과를 동일하게 유지하기 위해\n",
    "np.random.seed(42)"
   ]
  },
  {
   "cell_type": "code",
   "execution_count": 2,
   "id": "b4f5c8af",
   "metadata": {},
   "outputs": [],
   "source": [
    "from sklearn.model_selection import train_test_split\n",
    "from sklearn.preprocessing import StandardScaler\n",
    "\n",
    "from sklearn.pipeline import Pipeline\n",
    "\n",
    "from sklearn.svm import LinearSVC\n",
    "from sklearn.svm import SVC\n",
    "from sklearn.neighbors import KNeighborsClassifier\n",
    "from sklearn.tree import DecisionTreeClassifier\n",
    "\n",
    "from sklearn.metrics import roc_auc_score\n",
    "from sklearn.metrics import accuracy_score\n",
    "\n",
    "from sklearn.tree import plot_tree\n",
    "import matplotlib.pyplot as plt"
   ]
  },
  {
   "cell_type": "markdown",
   "id": "2b97fbff",
   "metadata": {},
   "source": [
    "# "
   ]
  },
  {
   "cell_type": "markdown",
   "id": "76191953",
   "metadata": {},
   "source": [
    "# 01. SVM (총 25점)"
   ]
  },
  {
   "cell_type": "markdown",
   "id": "eaca52f5",
   "metadata": {},
   "source": [
    "### 01-1) SVM은 어떤 모델이고, 어떤 아이디어를 사용하나요? (5점)"
   ]
  },
  {
   "cell_type": "code",
   "execution_count": 4,
   "id": "d9777cfe",
   "metadata": {},
   "outputs": [
    {
     "name": "stdout",
     "output_type": "stream",
     "text": [
      "SVM: 선형 분류, 비선형 분류, 회귀, 이상치 탐색에도 사용할 수 있는 다목적 머신 러닝 모델, 클래스가 다른 데이터들을 가장 큰 마진(margin)으로 분리해내는 선 또는 면을 찾아내는 것\n",
      "기본 아이디어 : 클래스 사이에 가장 폭 넓은 도로를 찾는 것\n"
     ]
    }
   ],
   "source": [
    "# 답)  \n",
    "print(\"SVM: 선형 분류, 비선형 분류, 회귀, 이상치 탐색에도 사용할 수 있는 다목적 머신 러닝 모델, 클래스가 다른 데이터들을 가장 큰 마진(margin)으로 분리해내는 선 또는 면을 찾아내는 것\")\n",
    "print(\"기본 아이디어 : 클래스 사이에 가장 폭 넓은 도로를 찾는 것\")"
   ]
  },
  {
   "cell_type": "markdown",
   "id": "ce0cd574",
   "metadata": {},
   "source": [
    "### 01-2) SVM모델을 불러오고, (데이터)에 적용해보세요. (총 8점)\n",
    "\n",
    "X_train, X_test, y_train, y_test로 X와y를 분리하세요.  \n",
    "test_size는 0.3, random_state는 42로 설정해주세요.  \n",
    "모델은 Pipeline을 사용해서 StandardScaler도 같이 사용한 경우와 안사용했을 경우도 해보세요~  \n",
    "\n",
    "fit할 때, X_train,y_train 사용하시고, Acuuracy 점수 낼 때는 X_test와 y_test를 사용해주세요  "
   ]
  },
  {
   "cell_type": "code",
   "execution_count": 58,
   "id": "512ec1f6",
   "metadata": {},
   "outputs": [
    {
     "name": "stdout",
     "output_type": "stream",
     "text": [
      "Accuracy =  0.9814814814814815\n",
      "Accuracy =  0.7037037037037037\n",
      "Accuracy =  0.9814814814814815\n",
      "Accuracy =  0.25925925925925924\n"
     ]
    }
   ],
   "source": [
    "#(총 8점)\n",
    "# data import\n",
    "from sklearn.datasets import load_wine\n",
    "from sklearn.metrics import accuracy_score\n",
    "from sklearn.model_selection import train_test_split\n",
    "\n",
    "# data 불러오기\n",
    "wine=load_wine()\n",
    "X, y = wine.data, wine.target\n",
    "\n",
    "# X, y 분류 (3점)\n",
    "X_train, X_test, y_train, y_test = train_test_split(X, y, test_size=0.3, random_state=42) \n",
    "\n",
    "# 적용 (4점)\n",
    "from sklearn.pipeline import Pipeline\n",
    "from sklearn.preprocessing import StandardScaler\n",
    "from sklearn.svm import LinearSVC\n",
    "from sklearn.svm import SVC\n",
    "from sklearn.preprocessing import PolynomialFeatures\n",
    "\n",
    "\n",
    "svm_clf = Pipeline([\n",
    "        (\"scaler\", StandardScaler()),\n",
    "        (\"linear_svc\", LinearSVC(C=1, random_state=42)),\n",
    "    ])\n",
    "\n",
    "svm_clf.fit(X_train, y_train).predict(X_test)\n",
    "\n",
    "svm_clf_0 = Pipeline([\n",
    "        (\"linear_svc\", LinearSVC(C=100, loss=\"hinge\", random_state=42)),\n",
    "    ])\n",
    "\n",
    "svm_clf_0.fit(X_train, y_train).predict(X_test)\n",
    "\n",
    "svm_clf_Poly = Pipeline([\n",
    "        (\"poly_features\", PolynomialFeatures(degree=3)),\n",
    "        (\"scaler\", StandardScaler()),\n",
    "        (\"linear_svc\", LinearSVC(C=1, loss=\"hinge\", random_state=42)),\n",
    "    ])\n",
    "\n",
    "svm_clf_Poly.fit(X_train, y_train).predict(X_test)\n",
    "\n",
    "svm_clf_kernel = Pipeline([\n",
    "        (\"scaler\", StandardScaler()),\n",
    "        (\"svm_clf\", SVC(kernel=\"poly\", degree=100000, coef0=1, C=100)),\n",
    "    ])\n",
    "\n",
    "svm_clf_kernel.fit(X_train, y_train).predict(X_test)\n",
    "\n",
    "# predict (1점)\n",
    "print('Accuracy = ', svm_clf.score(X_test, y_test))\n",
    "print('Accuracy = ', svm_clf_0.score(X_test, y_test))\n",
    "print('Accuracy = ', svm_clf_Poly.score(X_test, y_test))\n",
    "print('Accuracy = ', svm_clf_kernel.score(X_test, y_test))\n"
   ]
  },
  {
   "cell_type": "markdown",
   "id": "c1eb5078",
   "metadata": {},
   "source": [
    "### 01-3) 파라미터를 조정해보고, 조정했을 때 어떻게 달라지는지 알아보세요. (3가지 이상 해보세요~) (12점)"
   ]
  },
  {
   "cell_type": "code",
   "execution_count": 61,
   "id": "ec58d762",
   "metadata": {},
   "outputs": [
    {
     "name": "stdout",
     "output_type": "stream",
     "text": [
      "C값은 변화를 주어도 스코어에 큰 차이가 없었다. 스케일링은 왠만하면 해주는 편이 스코어가 좋았다. 커널을 폴리로 두고 여러 파라미터값을 조정해보았을때 가장 좋은 성능을 내는 파라미터 값을 찾는 것이 쟁점이었다.\n"
     ]
    }
   ],
   "source": [
    "print(\"C값은 변화를 주어도 스코어에 큰 차이가 없었다. 스케일링은 왠만하면 해주는 편이 스코어가 좋았다. 커널을 폴리로 두고 여러 파라미터값을 조정해보았을때 가장 좋은 성능을 내는 파라미터 값을 찾는 것이 쟁점이었다.\")"
   ]
  },
  {
   "cell_type": "markdown",
   "id": "be9ae926",
   "metadata": {},
   "source": [
    "---"
   ]
  },
  {
   "cell_type": "markdown",
   "id": "4ec6c4f2",
   "metadata": {},
   "source": [
    "# 02. Naive Bayes (총 7점)"
   ]
  },
  {
   "cell_type": "markdown",
   "id": "81996053",
   "metadata": {},
   "source": [
    "### 02-1) Naive Bayes는 어떤 모델인가요? (5점)"
   ]
  },
  {
   "cell_type": "code",
   "execution_count": 64,
   "id": "31bac86e",
   "metadata": {},
   "outputs": [
    {
     "name": "stdout",
     "output_type": "stream",
     "text": [
      "특성들 사이의 독립을 가정하는 'Bayes 정리'를 적용한 확률 분류기의 일종\n"
     ]
    }
   ],
   "source": [
    "# 답)  \n",
    "print(\"특성들 사이의 독립을 가정하는 'Bayes 정리'를 적용한 확률 분류기의 일종\")"
   ]
  },
  {
   "cell_type": "markdown",
   "id": "1c44e8a1",
   "metadata": {},
   "source": [
    "### 02-2) Naive Bayes가 많이 사용되는 분야는 어디인가요? (2점)"
   ]
  },
  {
   "cell_type": "code",
   "execution_count": 65,
   "id": "f220e992",
   "metadata": {},
   "outputs": [
    {
     "name": "stdout",
     "output_type": "stream",
     "text": [
      "단순화 시켜 쉽고 빠르게 판단을 내릴 때 주로 사용됨. Ex) 문서 분류, 질병 진단, 스팸 메일 분류 등에 많이 사용\n"
     ]
    }
   ],
   "source": [
    "# 답)  \n",
    "print(\"단순화 시켜 쉽고 빠르게 판단을 내릴 때 주로 사용됨. Ex) 문서 분류, 질병 진단, 스팸 메일 분류 등에 많이 사용\")"
   ]
  },
  {
   "cell_type": "markdown",
   "id": "8bd8705c",
   "metadata": {},
   "source": [
    "---"
   ]
  },
  {
   "cell_type": "markdown",
   "id": "0a266e5f",
   "metadata": {},
   "source": [
    "# 03. KNN (총 34점)"
   ]
  },
  {
   "cell_type": "markdown",
   "id": "aba35738",
   "metadata": {},
   "source": [
    "### 03-1) KNN은 어떤 모델인가요? (5점)"
   ]
  },
  {
   "cell_type": "code",
   "execution_count": 66,
   "id": "d5ec099a",
   "metadata": {},
   "outputs": [
    {
     "name": "stdout",
     "output_type": "stream",
     "text": [
      "새로운 데이터가 주어지면 가장 가까운 k개 이웃의 데이터를 살펴본 뒤, 더 많은 데이터가 포함되어 있는 범주로 데이터를 예측하는 방식\n"
     ]
    }
   ],
   "source": [
    "# 답)  \n",
    "print(\"새로운 데이터가 주어지면 가장 가까운 k개 이웃의 데이터를 살펴본 뒤, 더 많은 데이터가 포함되어 있는 범주로 데이터를 예측하는 방식\")"
   ]
  },
  {
   "cell_type": "markdown",
   "id": "21387c47",
   "metadata": {},
   "source": [
    "### 03-2) 파라미터 n_neighbors를 작게할 경우와 많이 크게할 경우 어떤 차이점이 있나요? (3점)"
   ]
  },
  {
   "cell_type": "code",
   "execution_count": 67,
   "id": "3d68051e",
   "metadata": {},
   "outputs": [
    {
     "name": "stdout",
     "output_type": "stream",
     "text": [
      "너무 작게하면 오버피팅 크게하면 언더피팅이 발생할 수 있다.\n"
     ]
    }
   ],
   "source": [
    "# 답)  \n",
    "print(\"너무 작게하면 오버피팅 크게하면 언더피팅이 발생할 수 있다.\")"
   ]
  },
  {
   "cell_type": "markdown",
   "id": "ecae6045",
   "metadata": {},
   "source": [
    "### 03-3) 유클리드 거리를 사용하려면 파라미터를 어떻게 설정해야되나요? (3점)"
   ]
  },
  {
   "cell_type": "code",
   "execution_count": 68,
   "id": "c592c095",
   "metadata": {},
   "outputs": [
    {
     "name": "stdout",
     "output_type": "stream",
     "text": [
      "p값을 2로 한다\n"
     ]
    }
   ],
   "source": [
    "# 답)  \n",
    "print(\"p값을 2로 한다\")"
   ]
  },
  {
   "cell_type": "markdown",
   "id": "fd48581e",
   "metadata": {},
   "source": [
    "### 03-4) 맨하튼 거리를 사용하려면 파라미터를 어떻게 설정해야되나요? (3점)"
   ]
  },
  {
   "cell_type": "code",
   "execution_count": 69,
   "id": "e2cca4a3",
   "metadata": {},
   "outputs": [
    {
     "name": "stdout",
     "output_type": "stream",
     "text": [
      "p값을 1로 한다\n"
     ]
    }
   ],
   "source": [
    "# 답)  \n",
    "print(\"p값을 1로 한다\")"
   ]
  },
  {
   "cell_type": "markdown",
   "id": "77787062",
   "metadata": {},
   "source": [
    "### 03-5) KNN모델을 불러오고, (데이터)에 적용해보세요. (총 8점)\n",
    "\n",
    "X_train, X_test, y_train, y_test로 X와y를 분리하세요.  \n",
    "test_size는 0.3, random_state는 42로 설정해주세요.  \n",
    "모델은 Pipeline을 사용해서 StandardScaler도 같이 사용한 경우와 안사용했을 경우도 해보세요~  \n",
    "\n",
    "fit할 때, X_train,y_train 사용하시고, Acuuracy 점수 낼 때는 X_test와 y_test를 사용해주세요  "
   ]
  },
  {
   "cell_type": "code",
   "execution_count": 82,
   "id": "c4d77561",
   "metadata": {},
   "outputs": [
    {
     "name": "stdout",
     "output_type": "stream",
     "text": [
      "Accuracy =  0.9740740740740741\n"
     ]
    }
   ],
   "source": [
    "#(총 8점)\n",
    "# data import\n",
    "from sklearn.datasets import load_digits\n",
    "from sklearn.neighbors import KNeighborsClassifier\n",
    "\n",
    "\n",
    "# data 불러오기\n",
    "digits=load_digits()\n",
    "X, y = digits.data, digits.target\n",
    "\n",
    "# X, y 분류 (3점)\n",
    "X_train, X_test, y_train, y_test = train_test_split(X, y, test_size=0.3, random_state=42) \n",
    "\n",
    "# 적용 (4점)\n",
    "knn = Pipeline([\n",
    "        (\"scaler\", StandardScaler()),\n",
    "        (\"knn\", KNeighborsClassifier(n_neighbors=10, weights='distance', p=2)),\n",
    "    ])\n",
    "\n",
    "knn.fit(X_train, y_train).predict(X_test)\n",
    "\n",
    "# predict (1점)\n",
    "print('Accuracy = ', knn.score(X_test, y_test))"
   ]
  },
  {
   "cell_type": "markdown",
   "id": "abf2ce4f",
   "metadata": {},
   "source": [
    "### 03-6) 파라미터를 조정해보고, 조정했을 때 어떻게 달라지는지 알아보세요. (12점)"
   ]
  },
  {
   "cell_type": "code",
   "execution_count": 83,
   "id": "d4d668eb",
   "metadata": {},
   "outputs": [
    {
     "name": "stdout",
     "output_type": "stream",
     "text": [
      "n값이 과도하게 커지면 에러가 나고 uniform과 distance의 차이는 크게 없었다. p가 1일때와 2일때도 차이가 크게 없었다.\n"
     ]
    }
   ],
   "source": [
    "# 파라미터를 변경해보세요~ (3가지 이상 해보세요~)\n",
    "print(\"n값이 과도하게 커지면 에러가 나고 uniform과 distance의 차이는 크게 없었다. p가 1일때와 2일때도 차이가 크게 없었다.\")"
   ]
  },
  {
   "cell_type": "markdown",
   "id": "aef94109",
   "metadata": {},
   "source": [
    "---"
   ]
  },
  {
   "cell_type": "markdown",
   "id": "257ad5a9",
   "metadata": {},
   "source": [
    "# 04. Decision Tree (총 34점)"
   ]
  },
  {
   "cell_type": "markdown",
   "id": "8b9ad48f",
   "metadata": {},
   "source": [
    "### 04-1) Decision Tree는 어떤 모델인가요? (5점)"
   ]
  },
  {
   "cell_type": "code",
   "execution_count": 84,
   "id": "48ea5d79",
   "metadata": {},
   "outputs": [
    {
     "name": "stdout",
     "output_type": "stream",
     "text": [
      "특정 규칙에 따라서 레이블을 분류하는 모델 데이터의 어떤 기준을 바탕으로 규칙을 만드느냐가 성능을 결정하는 중요한 요소 분류와 회귀, 다중 출력이 가능한 머신 러닝 알고리즘\n"
     ]
    }
   ],
   "source": [
    "# 답)  \n",
    "print(\"특정 규칙에 따라서 레이블을 분류하는 모델 데이터의 어떤 기준을 바탕으로 규칙을 만드느냐가 성능을 결정하는 중요한 요소 분류와 회귀, 다중 출력이 가능한 머신 러닝 알고리즘\")"
   ]
  },
  {
   "cell_type": "markdown",
   "id": "b1b3095d",
   "metadata": {},
   "source": [
    "### 04-2) 아래 그림의 빈칸을 채우세요. (각 1점)"
   ]
  },
  {
   "cell_type": "markdown",
   "id": "8e4f1d49",
   "metadata": {},
   "source": [
    "<img src='http://drive.google.com/uc?export=view&id=1romkz8fVQ5Hg5rwCiWlrTqgUIa4GxS_X' /><br>"
   ]
  },
  {
   "cell_type": "code",
   "execution_count": null,
   "id": "b6dc971b",
   "metadata": {},
   "outputs": [],
   "source": [
    "# 답)  \n",
    "\n",
    "# 1)  Root node\n",
    "# 2)  Branch\n",
    "# 3)  Parent node\n",
    "# 4)  Leaf node"
   ]
  },
  {
   "cell_type": "markdown",
   "id": "26537112",
   "metadata": {},
   "source": [
    "### 04-3) DT모델을 불러오고, (데이터)에 적용해보세요. (총 13점)\n",
    "\n",
    "#### 데이터를 불러온 뒤, X와y를 설정하고, test_size를 0.3으로 random_state는 42로 설정해서 train과 test로 나눠보세요\n",
    "#### random_state를 0으로 한 경우와 다양하게 파라미터를 변경해보고, tree를 시각화했을 때 변하는 것이 있는지 확인해보세요\n",
    "\n",
    "plot_tree(모델이름, feature_names = explt_vars, class_names = fct_val, filled = True) 을 사용해서 시각화해보세요  \n",
    "ROC_AUC와 Accuarcy 점수를 구해보세요  "
   ]
  },
  {
   "cell_type": "code",
   "execution_count": 85,
   "id": "89f544fd",
   "metadata": {},
   "outputs": [],
   "source": [
    "# 사용한 데이터 : breast_cancer dataset\n",
    "from sklearn.datasets import load_breast_cancer\n",
    "\n",
    "breast_cancer=load_breast_cancer()\n",
    "X, y = breast_cancer.data, breast_cancer.target\n",
    "\n",
    "explt_vars = ['mean radius', 'mean texture', 'mean perimeter', 'mean area','mean smoothness', 'mean compactness', 'mean concavity',\n",
    "       'mean concave points', 'mean symmetry', 'mean fractal dimension','radius error', 'texture error', 'perimeter error', 'area error',\n",
    "       'smoothness error', 'compactness error', 'concavity error','concave points error', 'symmetry error',\n",
    "       'fractal dimension error', 'worst radius', 'worst texture','worst perimeter', 'worst area', 'worst smoothness',\n",
    "       'worst compactness', 'worst concavity', 'worst concave points','worst symmetry', 'worst fractal dimension']\n",
    "fct_val = {0: 'malignant', 1: 'benign'}"
   ]
  },
  {
   "cell_type": "code",
   "execution_count": 100,
   "id": "bd5f2c1d",
   "metadata": {},
   "outputs": [
    {
     "name": "stdout",
     "output_type": "stream",
     "text": [
      "AUC =  0.958994708994709\n",
      "Accuracy =  0.9649122807017544\n"
     ]
    },
    {
     "data": {
      "image/png": "[encoded data removed]",
      "text/plain": [
       "<Figure size 1296x720 with 1 Axes>"
      ]
     },
     "metadata": {
      "needs_background": "light"
     },
     "output_type": "display_data"
    }
   ],
   "source": [
    "# (총 13점)\n",
    "# X, y 분류 (3점)\n",
    "X_train, X_test, y_train, y_test = train_test_split(X, y, test_size=0.3, random_state=42) \n",
    "\n",
    "# 적용 fit (4점)\n",
    "from sklearn.tree import DecisionTreeClassifier\n",
    "\n",
    "tree_clf = DecisionTreeClassifier(max_depth=3, random_state=42)\n",
    "pred = tree_clf.fit(X_train, y_train).predict(X_test)\n",
    "\n",
    "# predict (2점)\n",
    "from sklearn.metrics import roc_auc_score\n",
    "\n",
    "print('AUC = ', roc_auc_score(y_test, pred))\n",
    "print('Accuracy = ', tree_clf.score(X_test, y_test))\n",
    "\n",
    "# tree 시각화 (4점)\n",
    "from sklearn.tree import plot_tree\n",
    "\n",
    "plt.figure(figsize=(18,10))\n",
    "plot_tree(tree_clf, feature_names = explt_vars, class_names = fct_val, filled = True)\n",
    "\n",
    "plt.show()"
   ]
  },
  {
   "cell_type": "markdown",
   "id": "a385b72b",
   "metadata": {},
   "source": [
    "### 04-4) 파라미터를 조정해보고, 조정했을 때 어떻게 달라지는지 알아보세요. (12점)\n",
    "각 파라미터가 어떤 역할을 하는지 간단하게 설명도 해주세요"
   ]
  },
  {
   "cell_type": "code",
   "execution_count": null,
   "id": "21441854",
   "metadata": {},
   "outputs": [],
   "source": [
    "# 파라미터를 변경해보세요~ (3가지 이상 해보세요~) (12점)\n",
    "max_depth : int, default=None\n",
    "최대 깊이 지정\n",
    "\n",
    "min_samples_split : int or float, default=2\n",
    "분할되기 위해 노드가 가져야 하는 최고 샘플 수\n",
    "\n",
    "min_samples_leaf : int or float, default=1\n",
    "리프 노드가 가지고 있어야 할 최소 샘플 수\n",
    "\n",
    "max_features : int, float or {\"auto\", \"sqrt\", \"log2\"}, default=None\n",
    "각 노드에서 분할에 사용할 feature의 최대 수\n",
    "\n",
    "max_leaf_nodes : int, default=None\n",
    "리프 노드의 최대수"
   ]
  }
 ],
 "metadata": {
  "kernelspec": {
   "display_name": "Python 3 (ipykernel)",
   "language": "python",
   "name": "python3"
  },
  "language_info": {
   "codemirror_mode": {
    "name": "ipython",
    "version": 3
   },
   "file_extension": ".py",
   "mimetype": "text/x-python",
   "name": "python",
   "nbconvert_exporter": "python",
   "pygments_lexer": "ipython3",
   "version": "3.9.12"
  }
 },
 "nbformat": 4,
 "nbformat_minor": 5
}
