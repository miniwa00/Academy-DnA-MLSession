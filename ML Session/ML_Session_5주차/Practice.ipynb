{
 "cells": [
  {
   "cell_type": "markdown",
   "metadata": {
    "id": "J7tJD_7hnIFZ"
   },
   "source": [
    "# 목차\n",
    "\n",
    "<font color = \"blue\"><p>\n",
    "- [데이터 정보 확인](#데이터-정보-확인)\n",
    "- [결측치 처리](#결측치-처리)\n",
    "- [범주형 변수 처리](#범주형-변수-처리)\n",
    "- [이상치 처리](#이상치-처리)\n",
    "- [Scaling](#Scaling)\n",
    "- [Transform](#Transform)\n",
    "- [Feature Selection](#Feature-Selection)\n",
    "- [PCA](#PCA)\n",
    "- [Hyperparameter Tuning](#Hyperparameter-Tuning)"
   ]
  },
  {
   "cell_type": "markdown",
   "metadata": {
    "id": "IO6q8lMnnIFb"
   },
   "source": [
    "# 라이브러리 및 데이터 로드 "
   ]
  },
  {
   "cell_type": "code",
   "execution_count": 1,
   "metadata": {
    "colab": {
     "base_uri": "https://localhost:8080/"
    },
    "executionInfo": {
     "elapsed": 11342,
     "status": "ok",
     "timestamp": 1661761077376,
     "user": {
      "displayName": "김정하",
      "userId": "03202548441796445148"
     },
     "user_tz": -540
    },
    "id": "ajPdOlnUnIFc",
    "outputId": "34aa03e8-ace1-4749-a572-2d669238d2cb"
   },
   "outputs": [
    {
     "name": "stdout",
     "output_type": "stream",
     "text": [
      "Collecting klib\n",
      "  Downloading klib-1.0.5-py3-none-any.whl (20 kB)\n",
      "Requirement already satisfied: seaborn<0.12.0,>=0.11.2 in c:\\users\\user\\anaconda3\\lib\\site-packages (from klib) (0.11.2)\n",
      "Requirement already satisfied: numpy<2.0.0,>=1.16.3 in c:\\users\\user\\anaconda3\\lib\\site-packages (from klib) (1.21.5)\n",
      "Requirement already satisfied: pandas<2.0.0,>=1.2.0 in c:\\users\\user\\anaconda3\\lib\\site-packages (from klib) (1.4.2)\n",
      "Collecting Jinja2<4.0.0,>=3.0.3\n",
      "  Downloading Jinja2-3.1.2-py3-none-any.whl (133 kB)\n",
      "Requirement already satisfied: scipy<2.0.0,>=1.1.0 in c:\\users\\user\\anaconda3\\lib\\site-packages (from klib) (1.7.3)\n",
      "Requirement already satisfied: matplotlib<4.0.0,>=3.0.3 in c:\\users\\user\\anaconda3\\lib\\site-packages (from klib) (3.5.1)\n",
      "Requirement already satisfied: MarkupSafe>=2.0 in c:\\users\\user\\anaconda3\\lib\\site-packages (from Jinja2<4.0.0,>=3.0.3->klib) (2.0.1)\n",
      "Requirement already satisfied: kiwisolver>=1.0.1 in c:\\users\\user\\anaconda3\\lib\\site-packages (from matplotlib<4.0.0,>=3.0.3->klib) (1.3.2)\n",
      "Requirement already satisfied: python-dateutil>=2.7 in c:\\users\\user\\anaconda3\\lib\\site-packages (from matplotlib<4.0.0,>=3.0.3->klib) (2.8.2)\n",
      "Requirement already satisfied: pyparsing>=2.2.1 in c:\\users\\user\\anaconda3\\lib\\site-packages (from matplotlib<4.0.0,>=3.0.3->klib) (3.0.4)\n",
      "Requirement already satisfied: pillow>=6.2.0 in c:\\users\\user\\anaconda3\\lib\\site-packages (from matplotlib<4.0.0,>=3.0.3->klib) (9.0.1)\n",
      "Requirement already satisfied: fonttools>=4.22.0 in c:\\users\\user\\anaconda3\\lib\\site-packages (from matplotlib<4.0.0,>=3.0.3->klib) (4.25.0)\n",
      "Requirement already satisfied: cycler>=0.10 in c:\\users\\user\\anaconda3\\lib\\site-packages (from matplotlib<4.0.0,>=3.0.3->klib) (0.11.0)\n",
      "Requirement already satisfied: packaging>=20.0 in c:\\users\\user\\anaconda3\\lib\\site-packages (from matplotlib<4.0.0,>=3.0.3->klib) (21.3)\n",
      "Requirement already satisfied: pytz>=2020.1 in c:\\users\\user\\anaconda3\\lib\\site-packages (from pandas<2.0.0,>=1.2.0->klib) (2021.3)\n",
      "Requirement already satisfied: six>=1.5 in c:\\users\\user\\anaconda3\\lib\\site-packages (from python-dateutil>=2.7->matplotlib<4.0.0,>=3.0.3->klib) (1.16.0)\n",
      "Installing collected packages: Jinja2, klib\n",
      "  Attempting uninstall: Jinja2\n",
      "    Found existing installation: Jinja2 2.11.3\n",
      "    Uninstalling Jinja2-2.11.3:\n",
      "      Successfully uninstalled Jinja2-2.11.3\n",
      "Successfully installed Jinja2-3.1.2 klib-1.0.5\n"
     ]
    },
    {
     "name": "stderr",
     "output_type": "stream",
     "text": [
      "ERROR: pip's dependency resolver does not currently take into account all the packages that are installed. This behaviour is the source of the following dependency conflicts.\n",
      "anaconda-project 0.10.2 requires ruamel-yaml, which is not installed.\n",
      "jupyter-server 1.13.5 requires pywinpty<2; os_name == \"nt\", but you have pywinpty 2.0.2 which is incompatible.\n"
     ]
    }
   ],
   "source": [
    "! pip install klib"
   ]
  },
  {
   "cell_type": "code",
   "execution_count": 1,
   "metadata": {
    "executionInfo": {
     "elapsed": 994,
     "status": "ok",
     "timestamp": 1661761078365,
     "user": {
      "displayName": "김정하",
      "userId": "03202548441796445148"
     },
     "user_tz": -540
    },
    "id": "Wg6mcsKCnIFd",
    "scrolled": true
   },
   "outputs": [],
   "source": [
    "import pandas as pd\n",
    "import numpy as np\n",
    "import matplotlib.pylab as plt\n",
    "import seaborn as sns\n",
    "import klib\n",
    "\n",
    "#ignore warningss\n",
    "import warnings\n",
    "warnings.filterwarnings('ignore')"
   ]
  },
  {
   "cell_type": "code",
   "execution_count": 2,
   "metadata": {
    "executionInfo": {
     "elapsed": 28661,
     "status": "ok",
     "timestamp": 1661761271239,
     "user": {
      "displayName": "김정하",
      "userId": "03202548441796445148"
     },
     "user_tz": -540
    },
    "id": "B3dnWo34nIFe"
   },
   "outputs": [],
   "source": [
    "# 원본데이터가 상하지 않게 copy해서 불러오는 습관 들이기\n",
    "train_df = pd.read_csv('./data/train.csv').copy()\n",
    "test_df = pd.read_csv('./data/test.csv').copy()"
   ]
  },
  {
   "cell_type": "markdown",
   "metadata": {
    "id": "9dgEm3I-nIFe"
   },
   "source": [
    "# 데이터 정보 확인"
   ]
  },
  {
   "cell_type": "code",
   "execution_count": 3,
   "metadata": {
    "colab": {
     "base_uri": "https://localhost:8080/"
    },
    "executionInfo": {
     "elapsed": 407,
     "status": "ok",
     "timestamp": 1661761290201,
     "user": {
      "displayName": "김정하",
      "userId": "03202548441796445148"
     },
     "user_tz": -540
    },
    "id": "tfbXc-wInIFf",
    "outputId": "34126fd8-2620-4153-ed4f-6630ef29d6c3"
   },
   "outputs": [
    {
     "name": "stdout",
     "output_type": "stream",
     "text": [
      "<class 'pandas.core.frame.DataFrame'>\n",
      "RangeIndex: 916 entries, 0 to 915\n",
      "Data columns (total 10 columns):\n",
      " #   Column    Non-Null Count  Dtype  \n",
      "---  ------    --------------  -----  \n",
      " 0   Pclass    916 non-null    float64\n",
      " 1   Sex       916 non-null    object \n",
      " 2   Age       741 non-null    float64\n",
      " 3   Sibsp     916 non-null    float64\n",
      " 4   Parch     916 non-null    float64\n",
      " 5   Ticket    916 non-null    object \n",
      " 6   Fare      916 non-null    float64\n",
      " 7   Cabin     214 non-null    object \n",
      " 8   Embarked  914 non-null    object \n",
      " 9   survived  916 non-null    int64  \n",
      "dtypes: float64(5), int64(1), object(4)\n",
      "memory usage: 71.7+ KB\n"
     ]
    }
   ],
   "source": [
    "train_df.info()"
   ]
  },
  {
   "cell_type": "code",
   "execution_count": 4,
   "metadata": {
    "colab": {
     "base_uri": "https://localhost:8080/"
    },
    "executionInfo": {
     "elapsed": 2248,
     "status": "ok",
     "timestamp": 1661761294701,
     "user": {
      "displayName": "김정하",
      "userId": "03202548441796445148"
     },
     "user_tz": -540
    },
    "id": "tTTM3carnIFg",
    "outputId": "02621170-379a-4286-d08a-81b66c3760d5"
   },
   "outputs": [
    {
     "name": "stdout",
     "output_type": "stream",
     "text": [
      "<class 'pandas.core.frame.DataFrame'>\n",
      "RangeIndex: 393 entries, 0 to 392\n",
      "Data columns (total 9 columns):\n",
      " #   Column    Non-Null Count  Dtype  \n",
      "---  ------    --------------  -----  \n",
      " 0   Pclass    393 non-null    float64\n",
      " 1   Sex       393 non-null    object \n",
      " 2   Age       305 non-null    float64\n",
      " 3   Sibsp     393 non-null    float64\n",
      " 4   Parch     393 non-null    float64\n",
      " 5   Ticket    393 non-null    object \n",
      " 6   Fare      392 non-null    float64\n",
      " 7   Cabin     81 non-null     object \n",
      " 8   Embarked  393 non-null    object \n",
      "dtypes: float64(5), object(4)\n",
      "memory usage: 27.8+ KB\n"
     ]
    }
   ],
   "source": [
    "test_df.info()"
   ]
  },
  {
   "cell_type": "code",
   "execution_count": 5,
   "metadata": {
    "colab": {
     "base_uri": "https://localhost:8080/",
     "height": 453
    },
    "executionInfo": {
     "elapsed": 12,
     "status": "ok",
     "timestamp": 1661761296079,
     "user": {
      "displayName": "김정하",
      "userId": "03202548441796445148"
     },
     "user_tz": -540
    },
    "id": "VzlhbJnPnIFg",
    "outputId": "0b66fdbc-4ddc-43e7-c84e-01b2651fdc8c"
   },
   "outputs": [
    {
     "data": {
      "text/html": [
       "<div>\n",
       "<style scoped>\n",
       "    .dataframe tbody tr th:only-of-type {\n",
       "        vertical-align: middle;\n",
       "    }\n",
       "\n",
       "    .dataframe tbody tr th {\n",
       "        vertical-align: top;\n",
       "    }\n",
       "\n",
       "    .dataframe thead th {\n",
       "        text-align: right;\n",
       "    }\n",
       "</style>\n",
       "<table border=\"1\" class=\"dataframe\">\n",
       "  <thead>\n",
       "    <tr style=\"text-align: right;\">\n",
       "      <th></th>\n",
       "      <th>Pclass</th>\n",
       "      <th>Sex</th>\n",
       "      <th>Age</th>\n",
       "      <th>Sibsp</th>\n",
       "      <th>Parch</th>\n",
       "      <th>Ticket</th>\n",
       "      <th>Fare</th>\n",
       "      <th>Cabin</th>\n",
       "      <th>Embarked</th>\n",
       "      <th>survived</th>\n",
       "    </tr>\n",
       "  </thead>\n",
       "  <tbody>\n",
       "    <tr>\n",
       "      <th>0</th>\n",
       "      <td>2.0</td>\n",
       "      <td>female</td>\n",
       "      <td>13.0</td>\n",
       "      <td>0.0</td>\n",
       "      <td>1.0</td>\n",
       "      <td>250644</td>\n",
       "      <td>19.5000</td>\n",
       "      <td>NaN</td>\n",
       "      <td>S</td>\n",
       "      <td>1</td>\n",
       "    </tr>\n",
       "    <tr>\n",
       "      <th>1</th>\n",
       "      <td>2.0</td>\n",
       "      <td>female</td>\n",
       "      <td>4.0</td>\n",
       "      <td>1.0</td>\n",
       "      <td>1.0</td>\n",
       "      <td>29103</td>\n",
       "      <td>23.0000</td>\n",
       "      <td>NaN</td>\n",
       "      <td>S</td>\n",
       "      <td>1</td>\n",
       "    </tr>\n",
       "    <tr>\n",
       "      <th>2</th>\n",
       "      <td>2.0</td>\n",
       "      <td>female</td>\n",
       "      <td>30.0</td>\n",
       "      <td>1.0</td>\n",
       "      <td>0.0</td>\n",
       "      <td>SC/PARIS 2148</td>\n",
       "      <td>13.8583</td>\n",
       "      <td>NaN</td>\n",
       "      <td>C</td>\n",
       "      <td>1</td>\n",
       "    </tr>\n",
       "    <tr>\n",
       "      <th>3</th>\n",
       "      <td>3.0</td>\n",
       "      <td>male</td>\n",
       "      <td>NaN</td>\n",
       "      <td>0.0</td>\n",
       "      <td>0.0</td>\n",
       "      <td>36209</td>\n",
       "      <td>7.7250</td>\n",
       "      <td>NaN</td>\n",
       "      <td>Q</td>\n",
       "      <td>0</td>\n",
       "    </tr>\n",
       "    <tr>\n",
       "      <th>4</th>\n",
       "      <td>3.0</td>\n",
       "      <td>female</td>\n",
       "      <td>22.0</td>\n",
       "      <td>0.0</td>\n",
       "      <td>0.0</td>\n",
       "      <td>334914</td>\n",
       "      <td>7.7250</td>\n",
       "      <td>NaN</td>\n",
       "      <td>Q</td>\n",
       "      <td>1</td>\n",
       "    </tr>\n",
       "  </tbody>\n",
       "</table>\n",
       "</div>"
      ],
      "text/plain": [
       "   Pclass     Sex   Age  Sibsp  Parch         Ticket     Fare Cabin Embarked  \\\n",
       "0     2.0  female  13.0    0.0    1.0         250644  19.5000   NaN        S   \n",
       "1     2.0  female   4.0    1.0    1.0          29103  23.0000   NaN        S   \n",
       "2     2.0  female  30.0    1.0    0.0  SC/PARIS 2148  13.8583   NaN        C   \n",
       "3     3.0    male   NaN    0.0    0.0          36209   7.7250   NaN        Q   \n",
       "4     3.0  female  22.0    0.0    0.0         334914   7.7250   NaN        Q   \n",
       "\n",
       "   survived  \n",
       "0         1  \n",
       "1         1  \n",
       "2         1  \n",
       "3         0  \n",
       "4         1  "
      ]
     },
     "execution_count": 5,
     "metadata": {},
     "output_type": "execute_result"
    }
   ],
   "source": [
    "train_df.head()"
   ]
  },
  {
   "cell_type": "code",
   "execution_count": 6,
   "metadata": {
    "colab": {
     "base_uri": "https://localhost:8080/",
     "height": 592
    },
    "executionInfo": {
     "elapsed": 8,
     "status": "ok",
     "timestamp": 1661761296500,
     "user": {
      "displayName": "김정하",
      "userId": "03202548441796445148"
     },
     "user_tz": -540
    },
    "id": "PpF3j4VjnIFg",
    "outputId": "9588cf60-d0c0-4ea6-e0e1-ad1dcd1b43c1"
   },
   "outputs": [
    {
     "data": {
      "text/html": [
       "<div>\n",
       "<style scoped>\n",
       "    .dataframe tbody tr th:only-of-type {\n",
       "        vertical-align: middle;\n",
       "    }\n",
       "\n",
       "    .dataframe tbody tr th {\n",
       "        vertical-align: top;\n",
       "    }\n",
       "\n",
       "    .dataframe thead th {\n",
       "        text-align: right;\n",
       "    }\n",
       "</style>\n",
       "<table border=\"1\" class=\"dataframe\">\n",
       "  <thead>\n",
       "    <tr style=\"text-align: right;\">\n",
       "      <th></th>\n",
       "      <th>Pclass</th>\n",
       "      <th>Sex</th>\n",
       "      <th>Age</th>\n",
       "      <th>Sibsp</th>\n",
       "      <th>Parch</th>\n",
       "      <th>Ticket</th>\n",
       "      <th>Fare</th>\n",
       "      <th>Cabin</th>\n",
       "      <th>Embarked</th>\n",
       "    </tr>\n",
       "  </thead>\n",
       "  <tbody>\n",
       "    <tr>\n",
       "      <th>0</th>\n",
       "      <td>3.0</td>\n",
       "      <td>male</td>\n",
       "      <td>38.0</td>\n",
       "      <td>0.0</td>\n",
       "      <td>0.0</td>\n",
       "      <td>349249</td>\n",
       "      <td>7.8958</td>\n",
       "      <td>NaN</td>\n",
       "      <td>S</td>\n",
       "    </tr>\n",
       "    <tr>\n",
       "      <th>1</th>\n",
       "      <td>2.0</td>\n",
       "      <td>female</td>\n",
       "      <td>21.0</td>\n",
       "      <td>0.0</td>\n",
       "      <td>1.0</td>\n",
       "      <td>S.O./P.P. 2</td>\n",
       "      <td>21.0000</td>\n",
       "      <td>NaN</td>\n",
       "      <td>S</td>\n",
       "    </tr>\n",
       "    <tr>\n",
       "      <th>2</th>\n",
       "      <td>2.0</td>\n",
       "      <td>male</td>\n",
       "      <td>42.0</td>\n",
       "      <td>1.0</td>\n",
       "      <td>0.0</td>\n",
       "      <td>243847</td>\n",
       "      <td>27.0000</td>\n",
       "      <td>NaN</td>\n",
       "      <td>S</td>\n",
       "    </tr>\n",
       "    <tr>\n",
       "      <th>3</th>\n",
       "      <td>3.0</td>\n",
       "      <td>male</td>\n",
       "      <td>NaN</td>\n",
       "      <td>0.0</td>\n",
       "      <td>0.0</td>\n",
       "      <td>364498</td>\n",
       "      <td>14.5000</td>\n",
       "      <td>NaN</td>\n",
       "      <td>S</td>\n",
       "    </tr>\n",
       "    <tr>\n",
       "      <th>4</th>\n",
       "      <td>2.0</td>\n",
       "      <td>male</td>\n",
       "      <td>25.0</td>\n",
       "      <td>0.0</td>\n",
       "      <td>0.0</td>\n",
       "      <td>C.A. 31029</td>\n",
       "      <td>31.5000</td>\n",
       "      <td>NaN</td>\n",
       "      <td>S</td>\n",
       "    </tr>\n",
       "  </tbody>\n",
       "</table>\n",
       "</div>"
      ],
      "text/plain": [
       "   Pclass     Sex   Age  Sibsp  Parch       Ticket     Fare Cabin Embarked\n",
       "0     3.0    male  38.0    0.0    0.0       349249   7.8958   NaN        S\n",
       "1     2.0  female  21.0    0.0    1.0  S.O./P.P. 2  21.0000   NaN        S\n",
       "2     2.0    male  42.0    1.0    0.0       243847  27.0000   NaN        S\n",
       "3     3.0    male   NaN    0.0    0.0       364498  14.5000   NaN        S\n",
       "4     2.0    male  25.0    0.0    0.0   C.A. 31029  31.5000   NaN        S"
      ]
     },
     "execution_count": 6,
     "metadata": {},
     "output_type": "execute_result"
    }
   ],
   "source": [
    "# survived column은 y값이기 때문에 없음\n",
    "\n",
    "test_df.head()"
   ]
  },
  {
   "cell_type": "markdown",
   "metadata": {
    "id": "d3odexGWnIFh"
   },
   "source": [
    "# 결측치 확인 "
   ]
  },
  {
   "cell_type": "code",
   "execution_count": 10,
   "metadata": {
    "colab": {
     "base_uri": "https://localhost:8080/"
    },
    "executionInfo": {
     "elapsed": 1805,
     "status": "ok",
     "timestamp": 1661761302476,
     "user": {
      "displayName": "김정하",
      "userId": "03202548441796445148"
     },
     "user_tz": -540
    },
    "id": "juifUsTznIFh",
    "outputId": "2bbf5f3c-1d92-49b8-c833-f32655d107b8"
   },
   "outputs": [
    {
     "name": "stdout",
     "output_type": "stream",
     "text": [
      "train data 결측치 비율 \n",
      "\n",
      "column:     Pclass\t Percent of NaN value: 0.00%\n",
      "column:        Sex\t Percent of NaN value: 0.00%\n",
      "column:        Age\t Percent of NaN value: 19.10%\n",
      "column:      Sibsp\t Percent of NaN value: 0.00%\n",
      "column:      Parch\t Percent of NaN value: 0.00%\n",
      "column:     Ticket\t Percent of NaN value: 0.00%\n",
      "column:       Fare\t Percent of NaN value: 0.00%\n",
      "column:      Cabin\t Percent of NaN value: 76.64%\n",
      "column:   Embarked\t Percent of NaN value: 0.22%\n",
      "column:   survived\t Percent of NaN value: 0.00%\n"
     ]
    }
   ],
   "source": [
    "print('train data 결측치 비율 \\n')\n",
    "\n",
    "for col in train_df.columns:\n",
    "    msg = 'column: {:>10}\\t Percent of NaN value: {:.2f}%'.format(col, 100 * train_df[col].isnull().sum() / train_df[col].shape[0])\n",
    "    print(msg)"
   ]
  },
  {
   "cell_type": "code",
   "execution_count": 11,
   "metadata": {
    "colab": {
     "base_uri": "https://localhost:8080/"
    },
    "executionInfo": {
     "elapsed": 880,
     "status": "ok",
     "timestamp": 1661761303348,
     "user": {
      "displayName": "김정하",
      "userId": "03202548441796445148"
     },
     "user_tz": -540
    },
    "id": "4g2YDMuknIFi",
    "outputId": "b917adba-38de-4340-fe6f-60c828ca8f05"
   },
   "outputs": [
    {
     "name": "stdout",
     "output_type": "stream",
     "text": [
      "test data 결측치 비율 \n",
      "\n",
      "column:     Pclass\t Percent of NaN value: 0.00%\n",
      "column:        Sex\t Percent of NaN value: 0.00%\n",
      "column:        Age\t Percent of NaN value: 22.39%\n",
      "column:      Sibsp\t Percent of NaN value: 0.00%\n",
      "column:      Parch\t Percent of NaN value: 0.00%\n",
      "column:     Ticket\t Percent of NaN value: 0.00%\n",
      "column:       Fare\t Percent of NaN value: 0.25%\n",
      "column:      Cabin\t Percent of NaN value: 79.39%\n",
      "column:   Embarked\t Percent of NaN value: 0.00%\n"
     ]
    }
   ],
   "source": [
    "print('test data 결측치 비율 \\n')\n",
    "for col in test_df.columns:\n",
    "    msg = 'column: {:>10}\\t Percent of NaN value: {:.2f}%'.format(col, 100 * test_df[col].isnull().sum() / test_df[col].shape[0])\n",
    "    print(msg)"
   ]
  },
  {
   "cell_type": "markdown",
   "metadata": {
    "id": "5iEk7uf3nIFi"
   },
   "source": [
    "### 시각화를 통한 결측치 확인"
   ]
  },
  {
   "cell_type": "markdown",
   "metadata": {
    "id": "n5yjl1QanIFi"
   },
   "source": [
    "<font color = blue> klib 패키지 활용"
   ]
  },
  {
   "cell_type": "code",
   "execution_count": 12,
   "metadata": {
    "colab": {
     "base_uri": "https://localhost:8080/"
    },
    "executionInfo": {
     "elapsed": 4422,
     "status": "ok",
     "timestamp": 1661761307767,
     "user": {
      "displayName": "김정하",
      "userId": "03202548441796445148"
     },
     "user_tz": -540
    },
    "id": "HxJ6owdZnIFi",
    "outputId": "859151aa-42af-4fd3-e9d2-3a1737939907",
    "scrolled": false
   },
   "outputs": [
    {
     "data": {
      "text/plain": [
       "GridSpec(6, 6)"
      ]
     },
     "execution_count": 12,
     "metadata": {},
     "output_type": "execute_result"
    },
    {
     "data": {
      "image/png": "[encoded data removed]",
      "text/plain": [
       "<Figure size 1440x1440 with 4 Axes>"
      ]
     },
     "metadata": {
      "needs_background": "light"
     },
     "output_type": "display_data"
    }
   ],
   "source": [
    "klib.missingval_plot(train_df)"
   ]
  },
  {
   "cell_type": "code",
   "execution_count": 10,
   "metadata": {
    "colab": {
     "base_uri": "https://localhost:8080/"
    },
    "executionInfo": {
     "elapsed": 2341,
     "status": "ok",
     "timestamp": 1661761310102,
     "user": {
      "displayName": "김정하",
      "userId": "03202548441796445148"
     },
     "user_tz": -540
    },
    "id": "YrTByYRLnIFj",
    "outputId": "75a70dbe-f402-4f8d-914d-2c12afbd414a",
    "scrolled": false
   },
   "outputs": [
    {
     "data": {
      "text/plain": [
       "GridSpec(6, 6)"
      ]
     },
     "execution_count": 10,
     "metadata": {},
     "output_type": "execute_result"
    },
    {
     "data": {
      "image/png": "[encoded data removed]",
      "text/plain": [
       "<Figure size 1440x1440 with 4 Axes>"
      ]
     },
     "metadata": {
      "needs_background": "light"
     },
     "output_type": "display_data"
    }
   ],
   "source": [
    "klib.missingval_plot(test_df)"
   ]
  },
  {
   "cell_type": "markdown",
   "metadata": {
    "id": "SS78GwVQnIFk"
   },
   "source": [
    "# 결측치 처리"
   ]
  },
  {
   "cell_type": "markdown",
   "metadata": {
    "id": "20oxwZN4nIFk"
   },
   "source": [
    "모든 결측치 처리 방법은 train data를 기준으로 한 뒤 test data에는 적용하는 방식으로 진행되어야함\n",
    "\n",
    "age, cabin, embarked 3개의 Feature에 대해 각각 다른 결측치 처리 방법을 적용"
   ]
  },
  {
   "cell_type": "markdown",
   "metadata": {
    "id": "wd2c2S8BnIFl"
   },
   "source": [
    "### [Cabin]"
   ]
  },
  {
   "cell_type": "code",
   "execution_count": 11,
   "metadata": {
    "id": "SFhQH31nnIFl",
    "outputId": "acc55ef6-cea8-42c4-80da-8fef236356ac"
   },
   "outputs": [
    {
     "data": {
      "text/plain": [
       "((916, 10), (393, 9))"
      ]
     },
     "execution_count": 11,
     "metadata": {},
     "output_type": "execute_result"
    }
   ],
   "source": [
    "train_df.shape, test_df.shape"
   ]
  },
  {
   "cell_type": "code",
   "execution_count": 12,
   "metadata": {
    "id": "ELKsfVDCnIFl"
   },
   "outputs": [],
   "source": [
    "train_df.drop('Cabin', axis = 1, inplace=True)\n",
    "test_df.drop('Cabin', axis = 1, inplace=True)"
   ]
  },
  {
   "cell_type": "code",
   "execution_count": 13,
   "metadata": {
    "id": "78OkeIU7nIFl",
    "outputId": "655a304f-8117-4f67-d24a-d05a5b9ed5ab",
    "scrolled": true
   },
   "outputs": [
    {
     "data": {
      "text/plain": [
       "((916, 9), (393, 8))"
      ]
     },
     "execution_count": 13,
     "metadata": {},
     "output_type": "execute_result"
    }
   ],
   "source": [
    "train_df.shape, test_df.shape"
   ]
  },
  {
   "cell_type": "markdown",
   "metadata": {
    "id": "TWqIVQhbnIFl"
   },
   "source": [
    "### [Age]"
   ]
  },
  {
   "cell_type": "markdown",
   "metadata": {
    "id": "ZuEd-w5vnIFm"
   },
   "source": [
    "데이터의 속성에 따라 결측치를 처리하는 방법도 달라져야함    \n",
    "Numeric? Categoric?"
   ]
  },
  {
   "cell_type": "code",
   "execution_count": 14,
   "metadata": {
    "id": "xxaPBDVcnIFm",
    "outputId": "718b1ed9-c032-4530-baa8-db60b640bdd4",
    "scrolled": true
   },
   "outputs": [
    {
     "data": {
      "text/plain": [
       "Age         float64\n",
       "Embarked     object\n",
       "dtype: object"
      ]
     },
     "execution_count": 14,
     "metadata": {},
     "output_type": "execute_result"
    }
   ],
   "source": [
    "train_df.loc[:, ['Age', 'Embarked']].dtypes"
   ]
  },
  {
   "cell_type": "markdown",
   "metadata": {
    "id": "SInWU4bunIFm"
   },
   "source": [
    "#### 단순대체"
   ]
  },
  {
   "cell_type": "code",
   "execution_count": 15,
   "metadata": {
    "id": "PukiPMu6nIFm",
    "outputId": "dbbca5d1-c55c-4a85-add2-7ae52f1182f2"
   },
   "outputs": [
    {
     "data": {
      "text/plain": [
       "30.23144399460189"
      ]
     },
     "execution_count": 15,
     "metadata": {},
     "output_type": "execute_result"
    }
   ],
   "source": [
    "train_df.Age.mean()"
   ]
  },
  {
   "cell_type": "code",
   "execution_count": 16,
   "metadata": {
    "id": "yJfM96FinIFn",
    "outputId": "44c65b70-a36b-4599-e6ea-fcf4efabeae2",
    "scrolled": true
   },
   "outputs": [
    {
     "data": {
      "text/plain": [
       "28.0"
      ]
     },
     "execution_count": 16,
     "metadata": {},
     "output_type": "execute_result"
    }
   ],
   "source": [
    "train_df.Age.median()"
   ]
  },
  {
   "cell_type": "code",
   "execution_count": 17,
   "metadata": {
    "id": "8-HB_4-JnIFn",
    "outputId": "10a9b369-5de8-48f6-b05c-c08e1eaf2c6f"
   },
   "outputs": [
    {
     "data": {
      "text/plain": [
       "24.0000    32\n",
       "21.0000    31\n",
       "30.0000    30\n",
       "22.0000    29\n",
       "18.0000    27\n",
       "           ..\n",
       "45.5000     1\n",
       "66.0000     1\n",
       "0.8333      1\n",
       "7.0000      1\n",
       "0.1667      1\n",
       "Name: Age, Length: 86, dtype: int64"
      ]
     },
     "execution_count": 17,
     "metadata": {},
     "output_type": "execute_result"
    }
   ],
   "source": [
    "train_df.Age.value_counts()"
   ]
  },
  {
   "cell_type": "code",
   "execution_count": 18,
   "metadata": {
    "id": "Ybg7GYNUnIFn",
    "outputId": "bad90bfb-242f-4197-cc78-7508edde262e",
    "scrolled": true
   },
   "outputs": [
    {
     "data": {
      "text/plain": [
       "0"
      ]
     },
     "execution_count": 18,
     "metadata": {},
     "output_type": "execute_result"
    }
   ],
   "source": [
    "train_df.Age.fillna(24).isna().sum()\n",
    "\n",
    "# 아직 assign을 하지 않았기 때문에 원본 data에는 적용되지 않음"
   ]
  },
  {
   "cell_type": "markdown",
   "metadata": {
    "id": "KYggTTLKnIFn"
   },
   "source": [
    "#### 다중대체"
   ]
  },
  {
   "cell_type": "markdown",
   "metadata": {
    "id": "bWrEt3usnIFn"
   },
   "source": [
    "다중대체 시에는 문자 변수는 들어갈 수 없다."
   ]
  },
  {
   "cell_type": "code",
   "execution_count": 19,
   "metadata": {
    "id": "2S5iBTHMnIFo",
    "outputId": "ceab58d8-e1ee-4980-931c-cc480859c4a2",
    "scrolled": false
   },
   "outputs": [
    {
     "data": {
      "text/html": [
       "<div>\n",
       "<style scoped>\n",
       "    .dataframe tbody tr th:only-of-type {\n",
       "        vertical-align: middle;\n",
       "    }\n",
       "\n",
       "    .dataframe tbody tr th {\n",
       "        vertical-align: top;\n",
       "    }\n",
       "\n",
       "    .dataframe thead th {\n",
       "        text-align: right;\n",
       "    }\n",
       "</style>\n",
       "<table border=\"1\" class=\"dataframe\">\n",
       "  <thead>\n",
       "    <tr style=\"text-align: right;\">\n",
       "      <th></th>\n",
       "      <th>Pclass</th>\n",
       "      <th>Sex</th>\n",
       "      <th>Age</th>\n",
       "      <th>Sibsp</th>\n",
       "      <th>Parch</th>\n",
       "      <th>Fare</th>\n",
       "    </tr>\n",
       "  </thead>\n",
       "  <tbody>\n",
       "    <tr>\n",
       "      <th>0</th>\n",
       "      <td>2.0</td>\n",
       "      <td>0</td>\n",
       "      <td>13.0000</td>\n",
       "      <td>0.0</td>\n",
       "      <td>1.0</td>\n",
       "      <td>19.5000</td>\n",
       "    </tr>\n",
       "    <tr>\n",
       "      <th>1</th>\n",
       "      <td>2.0</td>\n",
       "      <td>0</td>\n",
       "      <td>4.0000</td>\n",
       "      <td>1.0</td>\n",
       "      <td>1.0</td>\n",
       "      <td>23.0000</td>\n",
       "    </tr>\n",
       "    <tr>\n",
       "      <th>2</th>\n",
       "      <td>2.0</td>\n",
       "      <td>0</td>\n",
       "      <td>30.0000</td>\n",
       "      <td>1.0</td>\n",
       "      <td>0.0</td>\n",
       "      <td>13.8583</td>\n",
       "    </tr>\n",
       "    <tr>\n",
       "      <th>3</th>\n",
       "      <td>3.0</td>\n",
       "      <td>1</td>\n",
       "      <td>NaN</td>\n",
       "      <td>0.0</td>\n",
       "      <td>0.0</td>\n",
       "      <td>7.7250</td>\n",
       "    </tr>\n",
       "    <tr>\n",
       "      <th>4</th>\n",
       "      <td>3.0</td>\n",
       "      <td>0</td>\n",
       "      <td>22.0000</td>\n",
       "      <td>0.0</td>\n",
       "      <td>0.0</td>\n",
       "      <td>7.7250</td>\n",
       "    </tr>\n",
       "    <tr>\n",
       "      <th>...</th>\n",
       "      <td>...</td>\n",
       "      <td>...</td>\n",
       "      <td>...</td>\n",
       "      <td>...</td>\n",
       "      <td>...</td>\n",
       "      <td>...</td>\n",
       "    </tr>\n",
       "    <tr>\n",
       "      <th>911</th>\n",
       "      <td>3.0</td>\n",
       "      <td>0</td>\n",
       "      <td>0.1667</td>\n",
       "      <td>1.0</td>\n",
       "      <td>2.0</td>\n",
       "      <td>20.5750</td>\n",
       "    </tr>\n",
       "    <tr>\n",
       "      <th>912</th>\n",
       "      <td>3.0</td>\n",
       "      <td>1</td>\n",
       "      <td>NaN</td>\n",
       "      <td>0.0</td>\n",
       "      <td>0.0</td>\n",
       "      <td>8.0500</td>\n",
       "    </tr>\n",
       "    <tr>\n",
       "      <th>913</th>\n",
       "      <td>3.0</td>\n",
       "      <td>0</td>\n",
       "      <td>NaN</td>\n",
       "      <td>0.0</td>\n",
       "      <td>0.0</td>\n",
       "      <td>7.7333</td>\n",
       "    </tr>\n",
       "    <tr>\n",
       "      <th>914</th>\n",
       "      <td>2.0</td>\n",
       "      <td>0</td>\n",
       "      <td>20.0000</td>\n",
       "      <td>0.0</td>\n",
       "      <td>0.0</td>\n",
       "      <td>36.7500</td>\n",
       "    </tr>\n",
       "    <tr>\n",
       "      <th>915</th>\n",
       "      <td>3.0</td>\n",
       "      <td>0</td>\n",
       "      <td>32.0000</td>\n",
       "      <td>1.0</td>\n",
       "      <td>1.0</td>\n",
       "      <td>15.5000</td>\n",
       "    </tr>\n",
       "  </tbody>\n",
       "</table>\n",
       "<p>916 rows × 6 columns</p>\n",
       "</div>"
      ],
      "text/plain": [
       "     Pclass  Sex      Age  Sibsp  Parch     Fare\n",
       "0       2.0    0  13.0000    0.0    1.0  19.5000\n",
       "1       2.0    0   4.0000    1.0    1.0  23.0000\n",
       "2       2.0    0  30.0000    1.0    0.0  13.8583\n",
       "3       3.0    1      NaN    0.0    0.0   7.7250\n",
       "4       3.0    0  22.0000    0.0    0.0   7.7250\n",
       "..      ...  ...      ...    ...    ...      ...\n",
       "911     3.0    0   0.1667    1.0    2.0  20.5750\n",
       "912     3.0    1      NaN    0.0    0.0   8.0500\n",
       "913     3.0    0      NaN    0.0    0.0   7.7333\n",
       "914     2.0    0  20.0000    0.0    0.0  36.7500\n",
       "915     3.0    0  32.0000    1.0    1.0  15.5000\n",
       "\n",
       "[916 rows x 6 columns]"
      ]
     },
     "execution_count": 19,
     "metadata": {},
     "output_type": "execute_result"
    }
   ],
   "source": [
    "# 다중대체 사용하기 전 전처리\n",
    "\n",
    "data_imp = train_df.copy()\n",
    "data_imp.drop(['survived','Ticket', 'Embarked'], axis = 1, inplace = True)\n",
    "data_imp['Sex'] = data_imp.Sex.map(lambda x: 1 if x == 'male' else 0)\n",
    "data_imp"
   ]
  },
  {
   "cell_type": "code",
   "execution_count": 20,
   "metadata": {
    "id": "6DaHP0C1nIFo",
    "outputId": "0492bceb-e578-4cff-f307-b8c47a1cbd45",
    "scrolled": true
   },
   "outputs": [
    {
     "data": {
      "text/html": [
       "<div>\n",
       "<style scoped>\n",
       "    .dataframe tbody tr th:only-of-type {\n",
       "        vertical-align: middle;\n",
       "    }\n",
       "\n",
       "    .dataframe tbody tr th {\n",
       "        vertical-align: top;\n",
       "    }\n",
       "\n",
       "    .dataframe thead th {\n",
       "        text-align: right;\n",
       "    }\n",
       "</style>\n",
       "<table border=\"1\" class=\"dataframe\">\n",
       "  <thead>\n",
       "    <tr style=\"text-align: right;\">\n",
       "      <th></th>\n",
       "      <th>Pclass</th>\n",
       "      <th>Sex</th>\n",
       "      <th>Age</th>\n",
       "      <th>Sibsp</th>\n",
       "      <th>Parch</th>\n",
       "      <th>Fare</th>\n",
       "    </tr>\n",
       "  </thead>\n",
       "  <tbody>\n",
       "    <tr>\n",
       "      <th>0</th>\n",
       "      <td>3.0</td>\n",
       "      <td>1</td>\n",
       "      <td>38.0</td>\n",
       "      <td>0.0</td>\n",
       "      <td>0.0</td>\n",
       "      <td>7.8958</td>\n",
       "    </tr>\n",
       "    <tr>\n",
       "      <th>1</th>\n",
       "      <td>2.0</td>\n",
       "      <td>0</td>\n",
       "      <td>21.0</td>\n",
       "      <td>0.0</td>\n",
       "      <td>1.0</td>\n",
       "      <td>21.0000</td>\n",
       "    </tr>\n",
       "    <tr>\n",
       "      <th>2</th>\n",
       "      <td>2.0</td>\n",
       "      <td>1</td>\n",
       "      <td>42.0</td>\n",
       "      <td>1.0</td>\n",
       "      <td>0.0</td>\n",
       "      <td>27.0000</td>\n",
       "    </tr>\n",
       "    <tr>\n",
       "      <th>3</th>\n",
       "      <td>3.0</td>\n",
       "      <td>1</td>\n",
       "      <td>NaN</td>\n",
       "      <td>0.0</td>\n",
       "      <td>0.0</td>\n",
       "      <td>14.5000</td>\n",
       "    </tr>\n",
       "    <tr>\n",
       "      <th>4</th>\n",
       "      <td>2.0</td>\n",
       "      <td>1</td>\n",
       "      <td>25.0</td>\n",
       "      <td>0.0</td>\n",
       "      <td>0.0</td>\n",
       "      <td>31.5000</td>\n",
       "    </tr>\n",
       "    <tr>\n",
       "      <th>...</th>\n",
       "      <td>...</td>\n",
       "      <td>...</td>\n",
       "      <td>...</td>\n",
       "      <td>...</td>\n",
       "      <td>...</td>\n",
       "      <td>...</td>\n",
       "    </tr>\n",
       "    <tr>\n",
       "      <th>388</th>\n",
       "      <td>3.0</td>\n",
       "      <td>1</td>\n",
       "      <td>33.0</td>\n",
       "      <td>0.0</td>\n",
       "      <td>0.0</td>\n",
       "      <td>7.8542</td>\n",
       "    </tr>\n",
       "    <tr>\n",
       "      <th>389</th>\n",
       "      <td>2.0</td>\n",
       "      <td>0</td>\n",
       "      <td>31.0</td>\n",
       "      <td>0.0</td>\n",
       "      <td>0.0</td>\n",
       "      <td>21.0000</td>\n",
       "    </tr>\n",
       "    <tr>\n",
       "      <th>390</th>\n",
       "      <td>3.0</td>\n",
       "      <td>1</td>\n",
       "      <td>NaN</td>\n",
       "      <td>0.0</td>\n",
       "      <td>0.0</td>\n",
       "      <td>7.7500</td>\n",
       "    </tr>\n",
       "    <tr>\n",
       "      <th>391</th>\n",
       "      <td>3.0</td>\n",
       "      <td>1</td>\n",
       "      <td>NaN</td>\n",
       "      <td>0.0</td>\n",
       "      <td>0.0</td>\n",
       "      <td>7.7500</td>\n",
       "    </tr>\n",
       "    <tr>\n",
       "      <th>392</th>\n",
       "      <td>1.0</td>\n",
       "      <td>0</td>\n",
       "      <td>33.0</td>\n",
       "      <td>0.0</td>\n",
       "      <td>0.0</td>\n",
       "      <td>151.5500</td>\n",
       "    </tr>\n",
       "  </tbody>\n",
       "</table>\n",
       "<p>393 rows × 6 columns</p>\n",
       "</div>"
      ],
      "text/plain": [
       "     Pclass  Sex   Age  Sibsp  Parch      Fare\n",
       "0       3.0    1  38.0    0.0    0.0    7.8958\n",
       "1       2.0    0  21.0    0.0    1.0   21.0000\n",
       "2       2.0    1  42.0    1.0    0.0   27.0000\n",
       "3       3.0    1   NaN    0.0    0.0   14.5000\n",
       "4       2.0    1  25.0    0.0    0.0   31.5000\n",
       "..      ...  ...   ...    ...    ...       ...\n",
       "388     3.0    1  33.0    0.0    0.0    7.8542\n",
       "389     2.0    0  31.0    0.0    0.0   21.0000\n",
       "390     3.0    1   NaN    0.0    0.0    7.7500\n",
       "391     3.0    1   NaN    0.0    0.0    7.7500\n",
       "392     1.0    0  33.0    0.0    0.0  151.5500\n",
       "\n",
       "[393 rows x 6 columns]"
      ]
     },
     "execution_count": 20,
     "metadata": {},
     "output_type": "execute_result"
    }
   ],
   "source": [
    "# test set에도 같은 방법 적용\n",
    "data_imp_te = test_df.copy()\n",
    "data_imp_te.drop(['Ticket', 'Embarked'], axis = 1, inplace = True)\n",
    "data_imp_te['Sex'] = data_imp_te.Sex.map(lambda x: 1 if x == 'male' else 0)\n",
    "data_imp_te"
   ]
  },
  {
   "cell_type": "code",
   "execution_count": 21,
   "metadata": {
    "id": "Ah8YYdQonIFo",
    "scrolled": true
   },
   "outputs": [],
   "source": [
    "from sklearn.impute import KNNImputer\n",
    "\n",
    "imputer = KNNImputer(n_neighbors=5, weights='uniform')\n",
    "value = imputer.fit_transform(data_imp)\n",
    "data_imp = pd.DataFrame(columns = data_imp.columns, data = value)"
   ]
  },
  {
   "cell_type": "code",
   "execution_count": 22,
   "metadata": {
    "id": "UFk5zB9TnIFo",
    "outputId": "2da05959-7300-4ce4-d4c5-ca81cb111d7f",
    "scrolled": true
   },
   "outputs": [
    {
     "data": {
      "text/plain": [
       "3      41.0\n",
       "5      31.0\n",
       "14     31.0\n",
       "19     31.0\n",
       "20     24.0\n",
       "       ... \n",
       "904    26.0\n",
       "909    24.0\n",
       "910    26.0\n",
       "912    31.0\n",
       "913    29.0\n",
       "Name: Age, Length: 175, dtype: float64"
      ]
     },
     "execution_count": 22,
     "metadata": {},
     "output_type": "execute_result"
    }
   ],
   "source": [
    "# 결측치 였던 값들이 어떻게 변했나??\n",
    "np.round(data_imp.loc[train_df[train_df['Age'].isna()].index]['Age'])"
   ]
  },
  {
   "cell_type": "code",
   "execution_count": 23,
   "metadata": {
    "id": "5qLYuIY-nIFp"
   },
   "outputs": [],
   "source": [
    "data_imp['Age'] = np.round(data_imp['Age'])"
   ]
  },
  {
   "cell_type": "code",
   "execution_count": 24,
   "metadata": {
    "id": "xdo5B_dPnIFp",
    "outputId": "4dab8d72-f7d0-47be-88f7-65e6fb9bde0c",
    "scrolled": false
   },
   "outputs": [
    {
     "data": {
      "image/png": "[encoded data removed]",
      "text/plain": [
       "<Figure size 936x432 with 2 Axes>"
      ]
     },
     "metadata": {
      "needs_background": "light"
     },
     "output_type": "display_data"
    }
   ],
   "source": [
    "# 결측치 처리 전과 결측치 처리 후의 분포를 비교\n",
    "\n",
    "fig, axes = plt.subplots(1,2, figsize = (13, 6))\n",
    "sns.histplot(data = train_df, x = 'Age', ax = axes[0], bins=10, kde = True)\n",
    "sns.histplot(data = data_imp, x = 'Age', ax = axes[1], bins=10, kde = True)\n",
    "\n",
    "axes[0].set_title('original Age Dsitribution')\n",
    "axes[1].set_title('KNN Age Dsitribution')\n",
    "plt.show()"
   ]
  },
  {
   "cell_type": "code",
   "execution_count": 25,
   "metadata": {
    "id": "AZwoW2LHnIFp"
   },
   "outputs": [],
   "source": [
    "# 원본 데이터에서 결측치 처리\n",
    "train_df['Age'] = data_imp['Age']"
   ]
  },
  {
   "cell_type": "code",
   "execution_count": 26,
   "metadata": {
    "id": "MXKW2KbpnIFp"
   },
   "outputs": [],
   "source": [
    "# 테스트 데이터에도 같은 결측치 처리\n",
    "\n",
    "value_te = imputer.transform(data_imp_te) # test 데이터에는 transform만 수행!!\n",
    "data_imp_te = pd.DataFrame(columns = data_imp_te.columns, data = value_te)\n",
    "test_df['Age'] = np.round(data_imp_te['Age'])"
   ]
  },
  {
   "cell_type": "markdown",
   "metadata": {
    "id": "TvgkBQ9BnIFq"
   },
   "source": [
    "### [Embarked]"
   ]
  },
  {
   "cell_type": "code",
   "execution_count": 27,
   "metadata": {
    "id": "oE3tn1HgnIFq"
   },
   "outputs": [],
   "source": [
    "from sklearn.impute import SimpleImputer\n",
    "s_imputer = SimpleImputer(strategy='most_frequent')\n",
    "\n",
    "train_df['Embarked'] = s_imputer.fit_transform(train_df[['Embarked']])\n",
    "test_df['Embarked'] = s_imputer.transform(test_df[['Embarked']])"
   ]
  },
  {
   "cell_type": "markdown",
   "metadata": {
    "id": "p6c-XxpQnIFq"
   },
   "source": [
    " <font color = red> 항상 train set과 test set에 같은 처리를 해주어야함!"
   ]
  },
  {
   "cell_type": "markdown",
   "metadata": {
    "id": "4eh0HNTUnIFq"
   },
   "source": [
    "### [Fare]"
   ]
  },
  {
   "cell_type": "code",
   "execution_count": 28,
   "metadata": {
    "id": "kiB7ssyLnIFq"
   },
   "outputs": [],
   "source": [
    "# Fare에 있는 결측값 제거\n",
    "test_df.drop(test_df[test_df['Fare'].isna()].index, axis = 0, inplace = True)"
   ]
  },
  {
   "cell_type": "markdown",
   "metadata": {
    "id": "WQwGzPEEnIFq"
   },
   "source": [
    "#### 최종확인 "
   ]
  },
  {
   "cell_type": "code",
   "execution_count": 29,
   "metadata": {
    "id": "WanTAJcSnIFr",
    "outputId": "5f4864e9-cc20-4ca9-ba3d-15580d72ca3e",
    "scrolled": false
   },
   "outputs": [
    {
     "name": "stdout",
     "output_type": "stream",
     "text": [
      "No missing values found in the dataset.\n"
     ]
    }
   ],
   "source": [
    "klib.missingval_plot(train_df)"
   ]
  },
  {
   "cell_type": "code",
   "execution_count": 30,
   "metadata": {
    "id": "6ywnkW_onIFr",
    "outputId": "bcbe9cc1-1c72-4119-8e81-b735db7ae268",
    "scrolled": false
   },
   "outputs": [
    {
     "name": "stdout",
     "output_type": "stream",
     "text": [
      "No missing values found in the dataset.\n"
     ]
    }
   ],
   "source": [
    "klib.missingval_plot(test_df)"
   ]
  },
  {
   "cell_type": "markdown",
   "metadata": {
    "id": "jpWn0doEnIFr"
   },
   "source": [
    "# 범주형 변수 처리"
   ]
  },
  {
   "cell_type": "markdown",
   "metadata": {
    "id": "AGc78mgAqTjM"
   },
   "source": [
    "## Label encoding"
   ]
  },
  {
   "cell_type": "code",
   "execution_count": 31,
   "metadata": {
    "id": "RhgSAYGQqSoW"
   },
   "outputs": [],
   "source": [
    "from sklearn.preprocessing import LabelEncoder\n",
    "\n",
    "encoder = LabelEncoder() #labelencoder함수를 가져온다.\n",
    "encoder.fit(train_df.Embarked) #내가 가지고 있는 데이터에 학습시킨다\n",
    "Embarked_label = encoder.transform(train_df.Embarked) # transform으로 변환한다"
   ]
  },
  {
   "cell_type": "code",
   "execution_count": 32,
   "metadata": {
    "id": "yhYkQxMdtgwi"
   },
   "outputs": [],
   "source": [
    "# 여러 열에 적용하고 싶은 경우, for문 이용\n",
    "\n",
    "label = ['Sex', 'Embarked']\n",
    "\n",
    "for i in label:\n",
    "    encoder = LabelEncoder()\n",
    "    encoder.fit(train_df[i])\n",
    "    # train_df[i]= encoder.transform(train_df[i])\n",
    "    # test_df[i]= encoder.transform(test_df[i])"
   ]
  },
  {
   "cell_type": "markdown",
   "metadata": {
    "id": "5nwy2YTZqLgw"
   },
   "source": [
    "## one-hot encoding"
   ]
  },
  {
   "cell_type": "code",
   "execution_count": 33,
   "metadata": {
    "id": "DgcJBEVanIFr",
    "outputId": "814ad2a9-922b-4fb3-d28f-10fb1f5d6089",
    "scrolled": false
   },
   "outputs": [
    {
     "data": {
      "text/plain": [
       "array(['S', 'C', 'Q'], dtype=object)"
      ]
     },
     "execution_count": 33,
     "metadata": {},
     "output_type": "execute_result"
    }
   ],
   "source": [
    "train_df.Embarked.unique()"
   ]
  },
  {
   "cell_type": "code",
   "execution_count": 31,
   "metadata": {
    "id": "NVOe1b-tnIFs",
    "outputId": "92c698c8-dd4d-499f-e917-8ca4942c231b"
   },
   "outputs": [
    {
     "data": {
      "text/html": [
       "<div>\n",
       "<style scoped>\n",
       "    .dataframe tbody tr th:only-of-type {\n",
       "        vertical-align: middle;\n",
       "    }\n",
       "\n",
       "    .dataframe tbody tr th {\n",
       "        vertical-align: top;\n",
       "    }\n",
       "\n",
       "    .dataframe thead th {\n",
       "        text-align: right;\n",
       "    }\n",
       "</style>\n",
       "<table border=\"1\" class=\"dataframe\">\n",
       "  <thead>\n",
       "    <tr style=\"text-align: right;\">\n",
       "      <th></th>\n",
       "      <th>Embarked_C</th>\n",
       "      <th>Embarked_Q</th>\n",
       "      <th>Embarked_S</th>\n",
       "    </tr>\n",
       "  </thead>\n",
       "  <tbody>\n",
       "    <tr>\n",
       "      <th>0</th>\n",
       "      <td>0</td>\n",
       "      <td>0</td>\n",
       "      <td>1</td>\n",
       "    </tr>\n",
       "    <tr>\n",
       "      <th>1</th>\n",
       "      <td>0</td>\n",
       "      <td>0</td>\n",
       "      <td>1</td>\n",
       "    </tr>\n",
       "    <tr>\n",
       "      <th>2</th>\n",
       "      <td>1</td>\n",
       "      <td>0</td>\n",
       "      <td>0</td>\n",
       "    </tr>\n",
       "    <tr>\n",
       "      <th>3</th>\n",
       "      <td>0</td>\n",
       "      <td>1</td>\n",
       "      <td>0</td>\n",
       "    </tr>\n",
       "    <tr>\n",
       "      <th>4</th>\n",
       "      <td>0</td>\n",
       "      <td>1</td>\n",
       "      <td>0</td>\n",
       "    </tr>\n",
       "    <tr>\n",
       "      <th>...</th>\n",
       "      <td>...</td>\n",
       "      <td>...</td>\n",
       "      <td>...</td>\n",
       "    </tr>\n",
       "    <tr>\n",
       "      <th>911</th>\n",
       "      <td>0</td>\n",
       "      <td>0</td>\n",
       "      <td>1</td>\n",
       "    </tr>\n",
       "    <tr>\n",
       "      <th>912</th>\n",
       "      <td>0</td>\n",
       "      <td>0</td>\n",
       "      <td>1</td>\n",
       "    </tr>\n",
       "    <tr>\n",
       "      <th>913</th>\n",
       "      <td>0</td>\n",
       "      <td>1</td>\n",
       "      <td>0</td>\n",
       "    </tr>\n",
       "    <tr>\n",
       "      <th>914</th>\n",
       "      <td>0</td>\n",
       "      <td>0</td>\n",
       "      <td>1</td>\n",
       "    </tr>\n",
       "    <tr>\n",
       "      <th>915</th>\n",
       "      <td>0</td>\n",
       "      <td>1</td>\n",
       "      <td>0</td>\n",
       "    </tr>\n",
       "  </tbody>\n",
       "</table>\n",
       "<p>916 rows × 3 columns</p>\n",
       "</div>"
      ],
      "text/plain": [
       "     Embarked_C  Embarked_Q  Embarked_S\n",
       "0             0           0           1\n",
       "1             0           0           1\n",
       "2             1           0           0\n",
       "3             0           1           0\n",
       "4             0           1           0\n",
       "..          ...         ...         ...\n",
       "911           0           0           1\n",
       "912           0           0           1\n",
       "913           0           1           0\n",
       "914           0           0           1\n",
       "915           0           1           0\n",
       "\n",
       "[916 rows x 3 columns]"
      ]
     },
     "execution_count": 31,
     "metadata": {},
     "output_type": "execute_result"
    }
   ],
   "source": [
    "# get dummies 함수로 one hot encoding\n",
    "\n",
    "pd.get_dummies(train_df.Embarked, prefix = 'Embarked')"
   ]
  },
  {
   "cell_type": "code",
   "execution_count": 32,
   "metadata": {
    "id": "1qV28I2_nIFs",
    "outputId": "ac47b4da-e628-4743-e861-25c81b06881e"
   },
   "outputs": [
    {
     "data": {
      "text/html": [
       "<div>\n",
       "<style scoped>\n",
       "    .dataframe tbody tr th:only-of-type {\n",
       "        vertical-align: middle;\n",
       "    }\n",
       "\n",
       "    .dataframe tbody tr th {\n",
       "        vertical-align: top;\n",
       "    }\n",
       "\n",
       "    .dataframe thead th {\n",
       "        text-align: right;\n",
       "    }\n",
       "</style>\n",
       "<table border=\"1\" class=\"dataframe\">\n",
       "  <thead>\n",
       "    <tr style=\"text-align: right;\">\n",
       "      <th></th>\n",
       "      <th>Embarked</th>\n",
       "      <th>Embarked_C</th>\n",
       "      <th>Embarked_Q</th>\n",
       "      <th>Embarked_S</th>\n",
       "    </tr>\n",
       "  </thead>\n",
       "  <tbody>\n",
       "    <tr>\n",
       "      <th>0</th>\n",
       "      <td>S</td>\n",
       "      <td>0</td>\n",
       "      <td>0</td>\n",
       "      <td>1</td>\n",
       "    </tr>\n",
       "    <tr>\n",
       "      <th>1</th>\n",
       "      <td>S</td>\n",
       "      <td>0</td>\n",
       "      <td>0</td>\n",
       "      <td>1</td>\n",
       "    </tr>\n",
       "    <tr>\n",
       "      <th>2</th>\n",
       "      <td>C</td>\n",
       "      <td>1</td>\n",
       "      <td>0</td>\n",
       "      <td>0</td>\n",
       "    </tr>\n",
       "    <tr>\n",
       "      <th>3</th>\n",
       "      <td>Q</td>\n",
       "      <td>0</td>\n",
       "      <td>1</td>\n",
       "      <td>0</td>\n",
       "    </tr>\n",
       "    <tr>\n",
       "      <th>4</th>\n",
       "      <td>Q</td>\n",
       "      <td>0</td>\n",
       "      <td>1</td>\n",
       "      <td>0</td>\n",
       "    </tr>\n",
       "    <tr>\n",
       "      <th>...</th>\n",
       "      <td>...</td>\n",
       "      <td>...</td>\n",
       "      <td>...</td>\n",
       "      <td>...</td>\n",
       "    </tr>\n",
       "    <tr>\n",
       "      <th>911</th>\n",
       "      <td>S</td>\n",
       "      <td>0</td>\n",
       "      <td>0</td>\n",
       "      <td>1</td>\n",
       "    </tr>\n",
       "    <tr>\n",
       "      <th>912</th>\n",
       "      <td>S</td>\n",
       "      <td>0</td>\n",
       "      <td>0</td>\n",
       "      <td>1</td>\n",
       "    </tr>\n",
       "    <tr>\n",
       "      <th>913</th>\n",
       "      <td>Q</td>\n",
       "      <td>0</td>\n",
       "      <td>1</td>\n",
       "      <td>0</td>\n",
       "    </tr>\n",
       "    <tr>\n",
       "      <th>914</th>\n",
       "      <td>S</td>\n",
       "      <td>0</td>\n",
       "      <td>0</td>\n",
       "      <td>1</td>\n",
       "    </tr>\n",
       "    <tr>\n",
       "      <th>915</th>\n",
       "      <td>Q</td>\n",
       "      <td>0</td>\n",
       "      <td>1</td>\n",
       "      <td>0</td>\n",
       "    </tr>\n",
       "  </tbody>\n",
       "</table>\n",
       "<p>916 rows × 4 columns</p>\n",
       "</div>"
      ],
      "text/plain": [
       "    Embarked  Embarked_C  Embarked_Q  Embarked_S\n",
       "0          S           0           0           1\n",
       "1          S           0           0           1\n",
       "2          C           1           0           0\n",
       "3          Q           0           1           0\n",
       "4          Q           0           1           0\n",
       "..       ...         ...         ...         ...\n",
       "911        S           0           0           1\n",
       "912        S           0           0           1\n",
       "913        Q           0           1           0\n",
       "914        S           0           0           1\n",
       "915        Q           0           1           0\n",
       "\n",
       "[916 rows x 4 columns]"
      ]
     },
     "execution_count": 32,
     "metadata": {},
     "output_type": "execute_result"
    }
   ],
   "source": [
    "pd.concat([train_df.Embarked ,pd.get_dummies(train_df.Embarked, prefix = 'Embarked')], axis = 1)"
   ]
  },
  {
   "cell_type": "markdown",
   "metadata": {
    "id": "awvMIuxsqYlO"
   },
   "source": [
    "## Target encoding"
   ]
  },
  {
   "cell_type": "code",
   "execution_count": 33,
   "metadata": {},
   "outputs": [
    {
     "data": {
      "text/plain": [
       "{'C': 0.553072625698324, 'Q': 0.37349397590361444, 'S': 0.3409785932721712}"
      ]
     },
     "execution_count": 33,
     "metadata": {},
     "output_type": "execute_result"
    }
   ],
   "source": [
    "Embarked_target_mean = train_df.groupby('Embarked')['survived'].mean().to_dict() ; Embarked_target_mean"
   ]
  },
  {
   "cell_type": "code",
   "execution_count": 34,
   "metadata": {},
   "outputs": [
    {
     "data": {
      "text/plain": [
       "0      0.340979\n",
       "1      0.340979\n",
       "2      0.553073\n",
       "3      0.373494\n",
       "4      0.373494\n",
       "         ...   \n",
       "911    0.340979\n",
       "912    0.340979\n",
       "913    0.373494\n",
       "914    0.340979\n",
       "915    0.373494\n",
       "Name: Embarked, Length: 916, dtype: float64"
      ]
     },
     "execution_count": 34,
     "metadata": {},
     "output_type": "execute_result"
    }
   ],
   "source": [
    "train_df['Embarked'] = train_df['Embarked'].map(Embarked_target_mean)\n",
    "test_df['Embarked'] = test_df['Embarked'].map(Embarked_target_mean) \n",
    "train_df['Embarked']"
   ]
  },
  {
   "cell_type": "markdown",
   "metadata": {
    "id": "BXu6k-7snIFs"
   },
   "source": [
    "# 이상치 처리"
   ]
  },
  {
   "cell_type": "code",
   "execution_count": 36,
   "metadata": {
    "id": "XOk56MS7nIFs",
    "outputId": "d78f7fcb-5894-42b9-eb2d-8ab6f5dfad89",
    "scrolled": false
   },
   "outputs": [
    {
     "data": {
      "image/png": "[encoded data removed]",
      "text/plain": [
       "<Figure size 432x288 with 1 Axes>"
      ]
     },
     "metadata": {
      "needs_background": "light"
     },
     "output_type": "display_data"
    }
   ],
   "source": [
    "sns.boxplot(data = train_df , y = 'Fare')\n",
    "plt.show()"
   ]
  },
  {
   "cell_type": "code",
   "execution_count": 37,
   "metadata": {
    "id": "WORoJIPRnIFt"
   },
   "outputs": [],
   "source": [
    "def get_outlier(df=None,column=None,weight=1.5):\n",
    "    \n",
    "    column_x = df[column]\n",
    "   \n",
    "    # 1/4 분위와 3/4 분위 지점을 np.percentile로 구함\n",
    "    quantile_25 = np.percentile(column_x.values,25)\n",
    "    quantile_75 = np.percentile(column_x.values,75)\n",
    "    \n",
    "    \n",
    "    # IQR을 구하고 IQR에 1.5를 곱해 최댓값과 최솟값 지점 구함.\n",
    "    iqr = quantile_75 - quantile_25\n",
    "    iqr_weight = iqr * weight\n",
    "    lowest_val = quantile_25 - iqr_weight\n",
    "    highest_val = quantile_75 + iqr_weight\n",
    "    \n",
    "    # 최댓값보다 크거나, 최솟값보다 작은 값을 이상치 데이터로 설정하고 Dataframe index 반환\n",
    "    outlier_index = column_x[(column_x < lowest_val) | (column_x > highest_val)].index\n",
    "    return outlier_index"
   ]
  },
  {
   "cell_type": "code",
   "execution_count": 38,
   "metadata": {
    "id": "MiYQzr5RnIFt"
   },
   "outputs": [],
   "source": [
    "df_outlier = train_df.drop(get_outlier(df = train_df, column = 'Fare'), axis = 0)"
   ]
  },
  {
   "cell_type": "code",
   "execution_count": 39,
   "metadata": {
    "id": "Ib6LY_-enIFt",
    "outputId": "071f0dcf-8098-4d04-c7a7-0ff27c4412c3"
   },
   "outputs": [
    {
     "data": {
      "image/png": "[encoded data removed]",
      "text/plain": [
       "<Figure size 432x288 with 1 Axes>"
      ]
     },
     "metadata": {
      "needs_background": "light"
     },
     "output_type": "display_data"
    }
   ],
   "source": [
    "sns.boxplot(data = df_outlier, y = 'Fare')\n",
    "plt.show()"
   ]
  },
  {
   "cell_type": "markdown",
   "metadata": {
    "id": "wIujsguhnIFt"
   },
   "source": [
    "#### 다른방법"
   ]
  },
  {
   "cell_type": "code",
   "execution_count": 40,
   "metadata": {
    "id": "pW7lpLL5nIFt",
    "outputId": "2005c0b3-fded-4b5b-d093-652c7f0adc80",
    "scrolled": false
   },
   "outputs": [
    {
     "data": {
      "text/html": [
       "<div>\n",
       "<style scoped>\n",
       "    .dataframe tbody tr th:only-of-type {\n",
       "        vertical-align: middle;\n",
       "    }\n",
       "\n",
       "    .dataframe tbody tr th {\n",
       "        vertical-align: top;\n",
       "    }\n",
       "\n",
       "    .dataframe thead th {\n",
       "        text-align: right;\n",
       "    }\n",
       "</style>\n",
       "<table border=\"1\" class=\"dataframe\">\n",
       "  <thead>\n",
       "    <tr style=\"text-align: right;\">\n",
       "      <th></th>\n",
       "      <th>Fare</th>\n",
       "    </tr>\n",
       "  </thead>\n",
       "  <tbody>\n",
       "    <tr>\n",
       "      <th>0</th>\n",
       "      <td>19.5000</td>\n",
       "    </tr>\n",
       "    <tr>\n",
       "      <th>1</th>\n",
       "      <td>23.0000</td>\n",
       "    </tr>\n",
       "    <tr>\n",
       "      <th>2</th>\n",
       "      <td>13.8583</td>\n",
       "    </tr>\n",
       "    <tr>\n",
       "      <th>3</th>\n",
       "      <td>7.7250</td>\n",
       "    </tr>\n",
       "    <tr>\n",
       "      <th>4</th>\n",
       "      <td>7.7250</td>\n",
       "    </tr>\n",
       "    <tr>\n",
       "      <th>...</th>\n",
       "      <td>...</td>\n",
       "    </tr>\n",
       "    <tr>\n",
       "      <th>911</th>\n",
       "      <td>20.5750</td>\n",
       "    </tr>\n",
       "    <tr>\n",
       "      <th>912</th>\n",
       "      <td>8.0500</td>\n",
       "    </tr>\n",
       "    <tr>\n",
       "      <th>913</th>\n",
       "      <td>7.7333</td>\n",
       "    </tr>\n",
       "    <tr>\n",
       "      <th>914</th>\n",
       "      <td>36.7500</td>\n",
       "    </tr>\n",
       "    <tr>\n",
       "      <th>915</th>\n",
       "      <td>15.5000</td>\n",
       "    </tr>\n",
       "  </tbody>\n",
       "</table>\n",
       "<p>916 rows × 1 columns</p>\n",
       "</div>"
      ],
      "text/plain": [
       "        Fare\n",
       "0    19.5000\n",
       "1    23.0000\n",
       "2    13.8583\n",
       "3     7.7250\n",
       "4     7.7250\n",
       "..       ...\n",
       "911  20.5750\n",
       "912   8.0500\n",
       "913   7.7333\n",
       "914  36.7500\n",
       "915  15.5000\n",
       "\n",
       "[916 rows x 1 columns]"
      ]
     },
     "execution_count": 40,
     "metadata": {},
     "output_type": "execute_result"
    }
   ],
   "source": [
    "# clip을 활용해 이상치(outlier)를 처리\n",
    "# 낮은 5%와 높은 95% 데이터들을 대체한다.\n",
    "\n",
    "train_df[['Fare']].apply(lambda x: x.clip(x.quantile(.05), x.quantile(.95)), axis=0)"
   ]
  },
  {
   "cell_type": "code",
   "execution_count": 41,
   "metadata": {
    "id": "bXGr-2fknIFu",
    "outputId": "da11e2ac-4bea-4279-d0d6-f83173dff1bc"
   },
   "outputs": [
    {
     "data": {
      "image/png": "[encoded data removed]",
      "text/plain": [
       "<Figure size 432x288 with 1 Axes>"
      ]
     },
     "metadata": {
      "needs_background": "light"
     },
     "output_type": "display_data"
    }
   ],
   "source": [
    "sns.boxplot(data = train_df[['Fare']].apply(lambda x: x.clip(x.quantile(.05), x.quantile(.95)), axis=0), y = 'Fare')\n",
    "plt.show()"
   ]
  },
  {
   "cell_type": "markdown",
   "metadata": {
    "id": "tJS6knAgnIFu"
   },
   "source": [
    "# Scaling"
   ]
  },
  {
   "cell_type": "markdown",
   "metadata": {
    "id": "9ZTxk8mbnIFu"
   },
   "source": [
    "Scaling은 Numeric data에 대해서만 진행한다. (categoric은 불가능)"
   ]
  },
  {
   "cell_type": "code",
   "execution_count": 42,
   "metadata": {
    "id": "lG-PyQ_VnIFu"
   },
   "outputs": [],
   "source": [
    "from sklearn.preprocessing import StandardScaler\n",
    "from sklearn.preprocessing import MinMaxScaler\n",
    "from sklearn.preprocessing import PowerTransformer\n",
    "from sklearn.preprocessing import Normalizer"
   ]
  },
  {
   "cell_type": "code",
   "execution_count": 43,
   "metadata": {},
   "outputs": [],
   "source": [
    "train_num = train_df[['Age','Fare']]\n",
    "test_num = test_df[['Age','Fare']]"
   ]
  },
  {
   "cell_type": "code",
   "execution_count": 44,
   "metadata": {
    "id": "YzAuWGvbnIFv",
    "outputId": "f3e2eda0-6419-44b4-d3ba-3f82e5dd959b"
   },
   "outputs": [
    {
     "data": {
      "image/png": "[encoded data removed]",
      "text/plain": [
       "<Figure size 864x432 with 2 Axes>"
      ]
     },
     "metadata": {
      "needs_background": "light"
     },
     "output_type": "display_data"
    }
   ],
   "source": [
    "fig, axes = plt.subplots(1, 2, figsize = (12, 6), constrained_layout=True)\n",
    "sns.kdeplot(data = train_num[['Age','Fare']], shade = True, ax = axes[0])\n",
    "axes[0].set_title('<Train Dist>')\n",
    "\n",
    "sns.kdeplot(data = test_num[['Age','Fare']], shade = True, ax = axes[1])\n",
    "axes[1].set_title('<Test Dist>')\n",
    "\n",
    "plt.show()"
   ]
  },
  {
   "cell_type": "code",
   "execution_count": 45,
   "metadata": {
    "id": "M-VMNHYNnIFv"
   },
   "outputs": [],
   "source": [
    "scaler = StandardScaler()\n",
    "\n",
    "train_num[['Age','Fare']] = scaler.fit_transform(train_num)\n",
    "test_num[['Age','Fare']] = scaler.transform(test_num)"
   ]
  },
  {
   "cell_type": "code",
   "execution_count": 46,
   "metadata": {
    "id": "LNcf4A9HnIFv",
    "outputId": "46dfd2ff-ce1c-40df-8c14-40b5fbc402ec",
    "scrolled": false
   },
   "outputs": [
    {
     "data": {
      "image/png": "[encoded data removed]",
      "text/plain": [
       "<Figure size 864x432 with 2 Axes>"
      ]
     },
     "metadata": {
      "needs_background": "light"
     },
     "output_type": "display_data"
    }
   ],
   "source": [
    "fig, axes = plt.subplots(1, 2, figsize = (12, 6), constrained_layout=True)\n",
    "sns.kdeplot(data = train_num[['Age','Fare']], shade = True, ax = axes[0])\n",
    "axes[0].set_title('<Train Dist>')\n",
    "\n",
    "sns.kdeplot(data = test_num[['Age','Fare']], shade = True, ax = axes[1])\n",
    "axes[1].set_title('<Test Dist>')\n",
    "\n",
    "plt.show()"
   ]
  },
  {
   "cell_type": "markdown",
   "metadata": {
    "id": "UNGcBUuvnIFv"
   },
   "source": [
    "# Transform"
   ]
  },
  {
   "cell_type": "markdown",
   "metadata": {
    "id": "zyH73SHsnIFw"
   },
   "source": [
    "Fare data에 대해 log transform을 적용  \n",
    "\n",
    "**log vs log1p**  \n",
    "- 단순 np.log를 적용하면 0값을 포함한 데이터의 경우 -inf 라는 값을 가지게 된다.  \n",
    "- 이를 방지하기 위해 log1p를 사용한다."
   ]
  },
  {
   "cell_type": "code",
   "execution_count": 47,
   "metadata": {
    "id": "ObuiFevOnIFu"
   },
   "outputs": [],
   "source": [
    "train_df['Fare_log'] = np.log1p(train_df['Fare'])\n",
    "test_df['Fare_log'] = np.log1p(test_df['Fare'])"
   ]
  },
  {
   "cell_type": "code",
   "execution_count": 48,
   "metadata": {
    "id": "AYDmgeCtnIFu"
   },
   "outputs": [],
   "source": [
    "train_num = train_df[['Age','Fare', 'Fare_log']]\n",
    "test_num = test_df[['Age','Fare', 'Fare_log']]"
   ]
  },
  {
   "cell_type": "code",
   "execution_count": 49,
   "metadata": {
    "id": "UeOCD3d_nIFw",
    "outputId": "c1360e32-faf3-48bb-9895-36c093d754de",
    "scrolled": true
   },
   "outputs": [
    {
     "data": {
      "text/plain": [
       "count    916.000000\n",
       "mean       2.970333\n",
       "std        0.972832\n",
       "min        0.000000\n",
       "25%        2.185579\n",
       "50%        2.737881\n",
       "75%        3.474293\n",
       "max        6.240917\n",
       "Name: Fare_log, dtype: float64"
      ]
     },
     "execution_count": 49,
     "metadata": {},
     "output_type": "execute_result"
    }
   ],
   "source": [
    "train_num.Fare_log.describe()"
   ]
  },
  {
   "cell_type": "code",
   "execution_count": 50,
   "metadata": {
    "id": "CSwe-gbsnIFw",
    "outputId": "f6eba970-d8b7-4b67-cb8c-955e9a99ad6d"
   },
   "outputs": [
    {
     "data": {
      "image/png": "[encoded data removed]",
      "text/plain": [
       "<Figure size 864x432 with 3 Axes>"
      ]
     },
     "metadata": {
      "needs_background": "light"
     },
     "output_type": "display_data"
    }
   ],
   "source": [
    "# 오리지널 data vs scaled data vs Trans + Scaled data 비교하기\n",
    "\n",
    "fig, axes = plt.subplots(1, 3, figsize = (12, 6), constrained_layout=True)\n",
    "\n",
    "\n",
    "sns.kdeplot(data = train_df['Fare'], shade = True, ax = axes[0], label = 'Skewness: {:.2f}'.format(train_df['Fare'].skew()))\n",
    "axes[0].set_title('<original Dist>')\n",
    "axes[0].legend(fontsize = 12)\n",
    "\n",
    "sns.kdeplot(data = train_num['Fare'], shade = True, ax = axes[1], label = 'Skewness: {:.2f}'.format(train_num['Fare'].skew()))\n",
    "axes[1].set_title('<Scaled Dist>')\n",
    "axes[1].legend(fontsize = 12)\n",
    "\n",
    "sns.kdeplot(data = train_num['Fare_log'], shade = True, ax = axes[2], label = 'Skewness: {:.2f}'.format(train_num['Fare_log'].skew()),\n",
    "           color='orange')\n",
    "axes[2].set_title('<Trans + Scale Dist>')\n",
    "axes[2].legend(fontsize = 12)\n",
    "\n",
    "plt.show()"
   ]
  },
  {
   "cell_type": "markdown",
   "metadata": {
    "id": "aUPcQmbEnIFw"
   },
   "source": [
    "# Feature Selection"
   ]
  },
  {
   "cell_type": "markdown",
   "metadata": {
    "id": "Hq2z4BmunIFw"
   },
   "source": [
    "### [보스턴 집값예측 Data ]"
   ]
  },
  {
   "cell_type": "markdown",
   "metadata": {
    "id": "Dme_PJaJnIFx"
   },
   "source": [
    "독립변수\n",
    "\n",
    "- CRIM: 범죄율\n",
    "\n",
    "- INDUS: 비소매상업지역 면적 비율\n",
    "\n",
    "- NOX: 일산화질소 농도\n",
    "\n",
    "- RM: 주택당 방 수\n",
    "\n",
    "- LSTAT: 인구 중 하위 계층 비율\n",
    "\n",
    "- B: 인구 중 흑인 비율\n",
    "\n",
    "- PTRATIO: 학생/교사 비율\n",
    "\n",
    "- ZN: 25,000 평방피트를 초과 거주지역 비율\n",
    "\n",
    "- CHAS: 찰스강의 경계에 위치한 경우는 1, 아니면 0\n",
    "\n",
    "- AGE: 1940년 이전에 건축된 주택의 비율\n",
    "\n",
    "- RAD: 방사형 고속도로까지의 거리\n",
    "\n",
    "- DIS: 직업센터의 거리\n",
    "\n",
    "- TAX: 재산세율\n",
    "\n",
    "종속변수\n",
    "\n",
    "- MEDV : 보스턴 506개 타운의 1978년 주택 가격 중앙값 (단위 1,000 달러)"
   ]
  },
  {
   "cell_type": "markdown",
   "metadata": {
    "id": "80fPiQmsnIFx"
   },
   "source": [
    "#### <font color = red> 집값 예측이기 때문에 회귀문제"
   ]
  },
  {
   "cell_type": "code",
   "execution_count": 51,
   "metadata": {
    "id": "inHbEMEunIFx"
   },
   "outputs": [],
   "source": [
    "from sklearn.datasets import load_boston\n",
    "boston = load_boston()\n",
    "boston_df = pd.DataFrame(boston.data, columns=boston.feature_names)\n",
    "boston_target = pd.DataFrame(boston.target, columns=[\"MEDV\"])\n",
    "boston_df = pd.concat([boston_df, boston_target], axis = 1)"
   ]
  },
  {
   "cell_type": "code",
   "execution_count": 52,
   "metadata": {
    "id": "iMApguoqnIFx",
    "outputId": "c9ad838a-4169-4a15-a84b-0aadd979776f",
    "scrolled": false
   },
   "outputs": [
    {
     "data": {
      "text/html": [
       "<div>\n",
       "<style scoped>\n",
       "    .dataframe tbody tr th:only-of-type {\n",
       "        vertical-align: middle;\n",
       "    }\n",
       "\n",
       "    .dataframe tbody tr th {\n",
       "        vertical-align: top;\n",
       "    }\n",
       "\n",
       "    .dataframe thead th {\n",
       "        text-align: right;\n",
       "    }\n",
       "</style>\n",
       "<table border=\"1\" class=\"dataframe\">\n",
       "  <thead>\n",
       "    <tr style=\"text-align: right;\">\n",
       "      <th></th>\n",
       "      <th>CRIM</th>\n",
       "      <th>ZN</th>\n",
       "      <th>INDUS</th>\n",
       "      <th>CHAS</th>\n",
       "      <th>NOX</th>\n",
       "      <th>RM</th>\n",
       "      <th>AGE</th>\n",
       "      <th>DIS</th>\n",
       "      <th>RAD</th>\n",
       "      <th>TAX</th>\n",
       "      <th>PTRATIO</th>\n",
       "      <th>B</th>\n",
       "      <th>LSTAT</th>\n",
       "      <th>MEDV</th>\n",
       "    </tr>\n",
       "  </thead>\n",
       "  <tbody>\n",
       "    <tr>\n",
       "      <th>0</th>\n",
       "      <td>0.00632</td>\n",
       "      <td>18.0</td>\n",
       "      <td>2.31</td>\n",
       "      <td>0.0</td>\n",
       "      <td>0.538</td>\n",
       "      <td>6.575</td>\n",
       "      <td>65.2</td>\n",
       "      <td>4.0900</td>\n",
       "      <td>1.0</td>\n",
       "      <td>296.0</td>\n",
       "      <td>15.3</td>\n",
       "      <td>396.90</td>\n",
       "      <td>4.98</td>\n",
       "      <td>24.0</td>\n",
       "    </tr>\n",
       "    <tr>\n",
       "      <th>1</th>\n",
       "      <td>0.02731</td>\n",
       "      <td>0.0</td>\n",
       "      <td>7.07</td>\n",
       "      <td>0.0</td>\n",
       "      <td>0.469</td>\n",
       "      <td>6.421</td>\n",
       "      <td>78.9</td>\n",
       "      <td>4.9671</td>\n",
       "      <td>2.0</td>\n",
       "      <td>242.0</td>\n",
       "      <td>17.8</td>\n",
       "      <td>396.90</td>\n",
       "      <td>9.14</td>\n",
       "      <td>21.6</td>\n",
       "    </tr>\n",
       "    <tr>\n",
       "      <th>2</th>\n",
       "      <td>0.02729</td>\n",
       "      <td>0.0</td>\n",
       "      <td>7.07</td>\n",
       "      <td>0.0</td>\n",
       "      <td>0.469</td>\n",
       "      <td>7.185</td>\n",
       "      <td>61.1</td>\n",
       "      <td>4.9671</td>\n",
       "      <td>2.0</td>\n",
       "      <td>242.0</td>\n",
       "      <td>17.8</td>\n",
       "      <td>392.83</td>\n",
       "      <td>4.03</td>\n",
       "      <td>34.7</td>\n",
       "    </tr>\n",
       "    <tr>\n",
       "      <th>3</th>\n",
       "      <td>0.03237</td>\n",
       "      <td>0.0</td>\n",
       "      <td>2.18</td>\n",
       "      <td>0.0</td>\n",
       "      <td>0.458</td>\n",
       "      <td>6.998</td>\n",
       "      <td>45.8</td>\n",
       "      <td>6.0622</td>\n",
       "      <td>3.0</td>\n",
       "      <td>222.0</td>\n",
       "      <td>18.7</td>\n",
       "      <td>394.63</td>\n",
       "      <td>2.94</td>\n",
       "      <td>33.4</td>\n",
       "    </tr>\n",
       "    <tr>\n",
       "      <th>4</th>\n",
       "      <td>0.06905</td>\n",
       "      <td>0.0</td>\n",
       "      <td>2.18</td>\n",
       "      <td>0.0</td>\n",
       "      <td>0.458</td>\n",
       "      <td>7.147</td>\n",
       "      <td>54.2</td>\n",
       "      <td>6.0622</td>\n",
       "      <td>3.0</td>\n",
       "      <td>222.0</td>\n",
       "      <td>18.7</td>\n",
       "      <td>396.90</td>\n",
       "      <td>5.33</td>\n",
       "      <td>36.2</td>\n",
       "    </tr>\n",
       "  </tbody>\n",
       "</table>\n",
       "</div>"
      ],
      "text/plain": [
       "      CRIM    ZN  INDUS  CHAS    NOX     RM   AGE     DIS  RAD    TAX  \\\n",
       "0  0.00632  18.0   2.31   0.0  0.538  6.575  65.2  4.0900  1.0  296.0   \n",
       "1  0.02731   0.0   7.07   0.0  0.469  6.421  78.9  4.9671  2.0  242.0   \n",
       "2  0.02729   0.0   7.07   0.0  0.469  7.185  61.1  4.9671  2.0  242.0   \n",
       "3  0.03237   0.0   2.18   0.0  0.458  6.998  45.8  6.0622  3.0  222.0   \n",
       "4  0.06905   0.0   2.18   0.0  0.458  7.147  54.2  6.0622  3.0  222.0   \n",
       "\n",
       "   PTRATIO       B  LSTAT  MEDV  \n",
       "0     15.3  396.90   4.98  24.0  \n",
       "1     17.8  396.90   9.14  21.6  \n",
       "2     17.8  392.83   4.03  34.7  \n",
       "3     18.7  394.63   2.94  33.4  \n",
       "4     18.7  396.90   5.33  36.2  "
      ]
     },
     "execution_count": 52,
     "metadata": {},
     "output_type": "execute_result"
    }
   ],
   "source": [
    "boston_df.head()"
   ]
  },
  {
   "cell_type": "code",
   "execution_count": 53,
   "metadata": {
    "id": "vSHt2pgPnIFx",
    "outputId": "b7599ba0-170b-4f0e-9be7-bf4f3ffba137"
   },
   "outputs": [
    {
     "name": "stdout",
     "output_type": "stream",
     "text": [
      "<class 'pandas.core.frame.DataFrame'>\n",
      "RangeIndex: 506 entries, 0 to 505\n",
      "Data columns (total 14 columns):\n",
      " #   Column   Non-Null Count  Dtype  \n",
      "---  ------   --------------  -----  \n",
      " 0   CRIM     506 non-null    float64\n",
      " 1   ZN       506 non-null    float64\n",
      " 2   INDUS    506 non-null    float64\n",
      " 3   CHAS     506 non-null    float64\n",
      " 4   NOX      506 non-null    float64\n",
      " 5   RM       506 non-null    float64\n",
      " 6   AGE      506 non-null    float64\n",
      " 7   DIS      506 non-null    float64\n",
      " 8   RAD      506 non-null    float64\n",
      " 9   TAX      506 non-null    float64\n",
      " 10  PTRATIO  506 non-null    float64\n",
      " 11  B        506 non-null    float64\n",
      " 12  LSTAT    506 non-null    float64\n",
      " 13  MEDV     506 non-null    float64\n",
      "dtypes: float64(14)\n",
      "memory usage: 55.5 KB\n"
     ]
    }
   ],
   "source": [
    "boston_df.info()"
   ]
  },
  {
   "cell_type": "markdown",
   "metadata": {
    "id": "__Cuj07RnIFy"
   },
   "source": [
    "### Filter method - 다중공선성(corr)을 활용한 Featrue Selection"
   ]
  },
  {
   "cell_type": "markdown",
   "metadata": {
    "id": "pB-5kThInIFy"
   },
   "source": [
    "- faeture 간의 correlation coeffiecient를 활용해 중요한 피쳐, 그렇지 않은 feature를 골라내자\n",
    "- 상관계수의 범위는 -1 < x < 1 사이\n",
    "- 상관계수 절대값이 크면 클 수록 높은 상관관계를 가지고 있으며 음수일 경우 음의 상관관계, 양수일 경우 양의 상관관계를 취함\n",
    "- 상관계수가 |-0.1 ~ 0.1| 사이라면 거의 관계가 없다고 볼 수 있음"
   ]
  },
  {
   "cell_type": "code",
   "execution_count": 54,
   "metadata": {
    "id": "vMQwd8bSnIFy",
    "outputId": "f7715e35-58f0-4c2c-ee18-f119207deb53"
   },
   "outputs": [
    {
     "data": {
      "text/html": [
       "<div>\n",
       "<style scoped>\n",
       "    .dataframe tbody tr th:only-of-type {\n",
       "        vertical-align: middle;\n",
       "    }\n",
       "\n",
       "    .dataframe tbody tr th {\n",
       "        vertical-align: top;\n",
       "    }\n",
       "\n",
       "    .dataframe thead th {\n",
       "        text-align: right;\n",
       "    }\n",
       "</style>\n",
       "<table border=\"1\" class=\"dataframe\">\n",
       "  <thead>\n",
       "    <tr style=\"text-align: right;\">\n",
       "      <th></th>\n",
       "      <th>CRIM</th>\n",
       "      <th>ZN</th>\n",
       "      <th>INDUS</th>\n",
       "      <th>CHAS</th>\n",
       "      <th>NOX</th>\n",
       "      <th>RM</th>\n",
       "      <th>AGE</th>\n",
       "      <th>DIS</th>\n",
       "      <th>RAD</th>\n",
       "      <th>TAX</th>\n",
       "      <th>PTRATIO</th>\n",
       "      <th>B</th>\n",
       "      <th>LSTAT</th>\n",
       "      <th>MEDV</th>\n",
       "    </tr>\n",
       "  </thead>\n",
       "  <tbody>\n",
       "    <tr>\n",
       "      <th>0</th>\n",
       "      <td>0.00632</td>\n",
       "      <td>18.0</td>\n",
       "      <td>2.31</td>\n",
       "      <td>0.0</td>\n",
       "      <td>0.538</td>\n",
       "      <td>6.575</td>\n",
       "      <td>65.2</td>\n",
       "      <td>4.0900</td>\n",
       "      <td>1.0</td>\n",
       "      <td>296.0</td>\n",
       "      <td>15.3</td>\n",
       "      <td>396.90</td>\n",
       "      <td>4.98</td>\n",
       "      <td>24.0</td>\n",
       "    </tr>\n",
       "    <tr>\n",
       "      <th>1</th>\n",
       "      <td>0.02731</td>\n",
       "      <td>0.0</td>\n",
       "      <td>7.07</td>\n",
       "      <td>0.0</td>\n",
       "      <td>0.469</td>\n",
       "      <td>6.421</td>\n",
       "      <td>78.9</td>\n",
       "      <td>4.9671</td>\n",
       "      <td>2.0</td>\n",
       "      <td>242.0</td>\n",
       "      <td>17.8</td>\n",
       "      <td>396.90</td>\n",
       "      <td>9.14</td>\n",
       "      <td>21.6</td>\n",
       "    </tr>\n",
       "    <tr>\n",
       "      <th>2</th>\n",
       "      <td>0.02729</td>\n",
       "      <td>0.0</td>\n",
       "      <td>7.07</td>\n",
       "      <td>0.0</td>\n",
       "      <td>0.469</td>\n",
       "      <td>7.185</td>\n",
       "      <td>61.1</td>\n",
       "      <td>4.9671</td>\n",
       "      <td>2.0</td>\n",
       "      <td>242.0</td>\n",
       "      <td>17.8</td>\n",
       "      <td>392.83</td>\n",
       "      <td>4.03</td>\n",
       "      <td>34.7</td>\n",
       "    </tr>\n",
       "    <tr>\n",
       "      <th>3</th>\n",
       "      <td>0.03237</td>\n",
       "      <td>0.0</td>\n",
       "      <td>2.18</td>\n",
       "      <td>0.0</td>\n",
       "      <td>0.458</td>\n",
       "      <td>6.998</td>\n",
       "      <td>45.8</td>\n",
       "      <td>6.0622</td>\n",
       "      <td>3.0</td>\n",
       "      <td>222.0</td>\n",
       "      <td>18.7</td>\n",
       "      <td>394.63</td>\n",
       "      <td>2.94</td>\n",
       "      <td>33.4</td>\n",
       "    </tr>\n",
       "    <tr>\n",
       "      <th>4</th>\n",
       "      <td>0.06905</td>\n",
       "      <td>0.0</td>\n",
       "      <td>2.18</td>\n",
       "      <td>0.0</td>\n",
       "      <td>0.458</td>\n",
       "      <td>7.147</td>\n",
       "      <td>54.2</td>\n",
       "      <td>6.0622</td>\n",
       "      <td>3.0</td>\n",
       "      <td>222.0</td>\n",
       "      <td>18.7</td>\n",
       "      <td>396.90</td>\n",
       "      <td>5.33</td>\n",
       "      <td>36.2</td>\n",
       "    </tr>\n",
       "    <tr>\n",
       "      <th>...</th>\n",
       "      <td>...</td>\n",
       "      <td>...</td>\n",
       "      <td>...</td>\n",
       "      <td>...</td>\n",
       "      <td>...</td>\n",
       "      <td>...</td>\n",
       "      <td>...</td>\n",
       "      <td>...</td>\n",
       "      <td>...</td>\n",
       "      <td>...</td>\n",
       "      <td>...</td>\n",
       "      <td>...</td>\n",
       "      <td>...</td>\n",
       "      <td>...</td>\n",
       "    </tr>\n",
       "    <tr>\n",
       "      <th>501</th>\n",
       "      <td>0.06263</td>\n",
       "      <td>0.0</td>\n",
       "      <td>11.93</td>\n",
       "      <td>0.0</td>\n",
       "      <td>0.573</td>\n",
       "      <td>6.593</td>\n",
       "      <td>69.1</td>\n",
       "      <td>2.4786</td>\n",
       "      <td>1.0</td>\n",
       "      <td>273.0</td>\n",
       "      <td>21.0</td>\n",
       "      <td>391.99</td>\n",
       "      <td>9.67</td>\n",
       "      <td>22.4</td>\n",
       "    </tr>\n",
       "    <tr>\n",
       "      <th>502</th>\n",
       "      <td>0.04527</td>\n",
       "      <td>0.0</td>\n",
       "      <td>11.93</td>\n",
       "      <td>0.0</td>\n",
       "      <td>0.573</td>\n",
       "      <td>6.120</td>\n",
       "      <td>76.7</td>\n",
       "      <td>2.2875</td>\n",
       "      <td>1.0</td>\n",
       "      <td>273.0</td>\n",
       "      <td>21.0</td>\n",
       "      <td>396.90</td>\n",
       "      <td>9.08</td>\n",
       "      <td>20.6</td>\n",
       "    </tr>\n",
       "    <tr>\n",
       "      <th>503</th>\n",
       "      <td>0.06076</td>\n",
       "      <td>0.0</td>\n",
       "      <td>11.93</td>\n",
       "      <td>0.0</td>\n",
       "      <td>0.573</td>\n",
       "      <td>6.976</td>\n",
       "      <td>91.0</td>\n",
       "      <td>2.1675</td>\n",
       "      <td>1.0</td>\n",
       "      <td>273.0</td>\n",
       "      <td>21.0</td>\n",
       "      <td>396.90</td>\n",
       "      <td>5.64</td>\n",
       "      <td>23.9</td>\n",
       "    </tr>\n",
       "    <tr>\n",
       "      <th>504</th>\n",
       "      <td>0.10959</td>\n",
       "      <td>0.0</td>\n",
       "      <td>11.93</td>\n",
       "      <td>0.0</td>\n",
       "      <td>0.573</td>\n",
       "      <td>6.794</td>\n",
       "      <td>89.3</td>\n",
       "      <td>2.3889</td>\n",
       "      <td>1.0</td>\n",
       "      <td>273.0</td>\n",
       "      <td>21.0</td>\n",
       "      <td>393.45</td>\n",
       "      <td>6.48</td>\n",
       "      <td>22.0</td>\n",
       "    </tr>\n",
       "    <tr>\n",
       "      <th>505</th>\n",
       "      <td>0.04741</td>\n",
       "      <td>0.0</td>\n",
       "      <td>11.93</td>\n",
       "      <td>0.0</td>\n",
       "      <td>0.573</td>\n",
       "      <td>6.030</td>\n",
       "      <td>80.8</td>\n",
       "      <td>2.5050</td>\n",
       "      <td>1.0</td>\n",
       "      <td>273.0</td>\n",
       "      <td>21.0</td>\n",
       "      <td>396.90</td>\n",
       "      <td>7.88</td>\n",
       "      <td>11.9</td>\n",
       "    </tr>\n",
       "  </tbody>\n",
       "</table>\n",
       "<p>506 rows × 14 columns</p>\n",
       "</div>"
      ],
      "text/plain": [
       "        CRIM    ZN  INDUS  CHAS    NOX     RM   AGE     DIS  RAD    TAX  \\\n",
       "0    0.00632  18.0   2.31   0.0  0.538  6.575  65.2  4.0900  1.0  296.0   \n",
       "1    0.02731   0.0   7.07   0.0  0.469  6.421  78.9  4.9671  2.0  242.0   \n",
       "2    0.02729   0.0   7.07   0.0  0.469  7.185  61.1  4.9671  2.0  242.0   \n",
       "3    0.03237   0.0   2.18   0.0  0.458  6.998  45.8  6.0622  3.0  222.0   \n",
       "4    0.06905   0.0   2.18   0.0  0.458  7.147  54.2  6.0622  3.0  222.0   \n",
       "..       ...   ...    ...   ...    ...    ...   ...     ...  ...    ...   \n",
       "501  0.06263   0.0  11.93   0.0  0.573  6.593  69.1  2.4786  1.0  273.0   \n",
       "502  0.04527   0.0  11.93   0.0  0.573  6.120  76.7  2.2875  1.0  273.0   \n",
       "503  0.06076   0.0  11.93   0.0  0.573  6.976  91.0  2.1675  1.0  273.0   \n",
       "504  0.10959   0.0  11.93   0.0  0.573  6.794  89.3  2.3889  1.0  273.0   \n",
       "505  0.04741   0.0  11.93   0.0  0.573  6.030  80.8  2.5050  1.0  273.0   \n",
       "\n",
       "     PTRATIO       B  LSTAT  MEDV  \n",
       "0       15.3  396.90   4.98  24.0  \n",
       "1       17.8  396.90   9.14  21.6  \n",
       "2       17.8  392.83   4.03  34.7  \n",
       "3       18.7  394.63   2.94  33.4  \n",
       "4       18.7  396.90   5.33  36.2  \n",
       "..       ...     ...    ...   ...  \n",
       "501     21.0  391.99   9.67  22.4  \n",
       "502     21.0  396.90   9.08  20.6  \n",
       "503     21.0  396.90   5.64  23.9  \n",
       "504     21.0  393.45   6.48  22.0  \n",
       "505     21.0  396.90   7.88  11.9  \n",
       "\n",
       "[506 rows x 14 columns]"
      ]
     },
     "execution_count": 54,
     "metadata": {},
     "output_type": "execute_result"
    }
   ],
   "source": [
    "boston_df"
   ]
  },
  {
   "cell_type": "code",
   "execution_count": 55,
   "metadata": {
    "id": "NghpsMXtnIFy",
    "outputId": "1ea9ecb6-fe67-4f20-b70e-4f88b9d04bd2",
    "scrolled": false
   },
   "outputs": [
    {
     "data": {
      "image/png": "[encoded data removed]",
      "text/plain": [
       "<Figure size 1008x864 with 2 Axes>"
      ]
     },
     "metadata": {
      "needs_background": "light"
     },
     "output_type": "display_data"
    }
   ],
   "source": [
    "klib.corr_plot(data = boston_df.iloc[:, :-1], \n",
    "               target = boston_df.iloc[:, -1] ,\n",
    "               figsize = (14, 12))\n",
    "\n",
    "plt.show()"
   ]
  },
  {
   "cell_type": "markdown",
   "metadata": {
    "id": "v0dMMD0DnIFy"
   },
   "source": [
    "종속변수와 feature들과의 상관관계를 봤을 때 DIS, CHAS 변수는 y값인 MEDV와 큰 상관성이 없어 보인다.\n",
    "  \n",
    "<font color = blue> --> DIS, CHAS 변수는 종속변수와 상관성이 떨어지기 때문에 제거"
   ]
  },
  {
   "cell_type": "code",
   "execution_count": 56,
   "metadata": {
    "id": "794ADFXBnIFz",
    "outputId": "f8ef0064-ec63-44cc-c4d0-3584d2169c39",
    "scrolled": false
   },
   "outputs": [
    {
     "data": {
      "image/png": "[encoded data removed]",
      "text/plain": [
       "<Figure size 1008x864 with 2 Axes>"
      ]
     },
     "metadata": {
      "needs_background": "light"
     },
     "output_type": "display_data"
    }
   ],
   "source": [
    "klib.corr_plot(data = boston_df.iloc[:, :-1] ,figsize = (14, 12))\n",
    "plt.show()"
   ]
  },
  {
   "cell_type": "markdown",
   "metadata": {
    "id": "wqhVE6_XnIFz"
   },
   "source": [
    "독립변수들 끼리의 상관성을 보았을 때 TAX Feature와 RAD Feature는 0.91로 상관성이 강하게 나타난다. \n",
    "\n",
    "<font color = blue> --> 두 독립변수의 상관관계가 성능을 저하시킬 수 있으므로 둘 중 한 Feature를 제거한다. (Rad제거)"
   ]
  },
  {
   "cell_type": "markdown",
   "metadata": {
    "id": "Gg7zyUs4nIFz"
   },
   "source": [
    "#### 그 외 다양한 Feature Selection "
   ]
  },
  {
   "cell_type": "code",
   "execution_count": 57,
   "metadata": {
    "id": "bnKiOkKVnIFz"
   },
   "outputs": [],
   "source": [
    "boston_df_2 = boston_df.iloc[:,:-1].copy()"
   ]
  },
  {
   "cell_type": "code",
   "execution_count": 58,
   "metadata": {
    "id": "HgVkOzygnIF0"
   },
   "outputs": [],
   "source": [
    "# 모델을 기반으로 피쳐를 selection\n",
    "\n",
    "from sklearn.feature_selection import SelectFromModel\n",
    "from sklearn.ensemble import RandomForestRegressor\n",
    "\n",
    "selector2 = SelectFromModel(RandomForestRegressor(random_state=0), threshold=None)\n",
    "\n",
    "boston_df_fs2 = selector2.fit(boston_df_2, boston_target).transform(boston_df_2)"
   ]
  },
  {
   "cell_type": "code",
   "execution_count": 59,
   "metadata": {
    "id": "L0ITLbsjnIF0",
    "outputId": "7e76edf0-82d3-44c9-b17a-4373bdcfbc3a",
    "scrolled": true
   },
   "outputs": [
    {
     "name": "stdout",
     "output_type": "stream",
     "text": [
      "boston_df_2.shape: (506, 13),  boston_df_fs2.shape: (506, 2)\n"
     ]
    }
   ],
   "source": [
    "print(\"boston_df_2.shape: {},  boston_df_fs2.shape: {}\".format(boston_df_2.shape, boston_df_fs2.shape))"
   ]
  },
  {
   "cell_type": "code",
   "execution_count": 60,
   "metadata": {
    "id": "z519MGJgnIF0",
    "outputId": "88141c9c-6e1e-4569-d324-8f087b8ebe06",
    "scrolled": false
   },
   "outputs": [
    {
     "data": {
      "image/png": "[encoded data removed]",
      "text/plain": [
       "<Figure size 1152x144 with 1 Axes>"
      ]
     },
     "metadata": {
      "needs_background": "light"
     },
     "output_type": "display_data"
    }
   ],
   "source": [
    "mask = selector2.get_support() # 중요도가 높다고 판단한 feature는 true로 반환\n",
    "plt.matshow(mask.reshape(1,-1), cmap=\"gray_r\")\n",
    "plt.show()\n",
    "\n",
    "# 검은색으로 표시된 부분이 랜덤 포레스트 모델이 중요하다고 여기는 것."
   ]
  },
  {
   "cell_type": "code",
   "execution_count": 61,
   "metadata": {
    "id": "eyzvYVL9nIF1",
    "outputId": "6d37afc1-c147-43a1-b0bd-b0e9e4f45b8d"
   },
   "outputs": [
    {
     "data": {
      "text/plain": [
       "RandomForestRegressor()"
      ]
     },
     "execution_count": 61,
     "metadata": {},
     "output_type": "execute_result"
    }
   ],
   "source": [
    "# tree model 기반의 feature importance\n",
    "\n",
    "rf = RandomForestRegressor()\n",
    "rf.fit(boston_df_2, boston_target)"
   ]
  },
  {
   "cell_type": "code",
   "execution_count": 62,
   "metadata": {
    "id": "ah1Swz1mnIF1",
    "scrolled": false
   },
   "outputs": [],
   "source": [
    "feature_import = pd.Series(rf.feature_importances_, boston_df_2.columns)\n",
    "#어떤 피쳐가 중요했니?"
   ]
  },
  {
   "cell_type": "code",
   "execution_count": 64,
   "metadata": {
    "id": "_KHumlYtnIF1",
    "outputId": "e3368c74-fc08-44ce-9ddb-4a636911ee1b"
   },
   "outputs": [
    {
     "data": {
      "image/png": "[encoded data removed]",
      "text/plain": [
       "<Figure size 432x288 with 1 Axes>"
      ]
     },
     "metadata": {
      "needs_background": "light"
     },
     "output_type": "display_data"
    }
   ],
   "source": [
    "feature_import.sort_values(ascending = True).plot(kind = 'barh', color = 'green')\n",
    "plt.xlabel('Feature Importance')\n",
    "plt.show()\n",
    "#보여줘"
   ]
  },
  {
   "cell_type": "markdown",
   "metadata": {
    "id": "o_kEcQPInIF2"
   },
   "source": [
    "# PCA"
   ]
  },
  {
   "cell_type": "code",
   "execution_count": 65,
   "metadata": {
    "id": "glTmItHXnIF2"
   },
   "outputs": [],
   "source": [
    "boston_df_3 = boston_df.iloc[:,:-1].copy()"
   ]
  },
  {
   "cell_type": "code",
   "execution_count": 66,
   "metadata": {
    "id": "E1HX0jEWnIF2",
    "outputId": "e2cc2bfa-6551-477e-f292-6b7a19e70bce",
    "scrolled": true
   },
   "outputs": [
    {
     "data": {
      "text/html": [
       "<div>\n",
       "<style scoped>\n",
       "    .dataframe tbody tr th:only-of-type {\n",
       "        vertical-align: middle;\n",
       "    }\n",
       "\n",
       "    .dataframe tbody tr th {\n",
       "        vertical-align: top;\n",
       "    }\n",
       "\n",
       "    .dataframe thead th {\n",
       "        text-align: right;\n",
       "    }\n",
       "</style>\n",
       "<table border=\"1\" class=\"dataframe\">\n",
       "  <thead>\n",
       "    <tr style=\"text-align: right;\">\n",
       "      <th></th>\n",
       "      <th>CRIM</th>\n",
       "      <th>ZN</th>\n",
       "      <th>INDUS</th>\n",
       "      <th>CHAS</th>\n",
       "      <th>NOX</th>\n",
       "      <th>RM</th>\n",
       "      <th>AGE</th>\n",
       "      <th>DIS</th>\n",
       "      <th>RAD</th>\n",
       "      <th>TAX</th>\n",
       "      <th>PTRATIO</th>\n",
       "      <th>B</th>\n",
       "      <th>LSTAT</th>\n",
       "    </tr>\n",
       "  </thead>\n",
       "  <tbody>\n",
       "    <tr>\n",
       "      <th>count</th>\n",
       "      <td>506.000000</td>\n",
       "      <td>506.000000</td>\n",
       "      <td>506.000000</td>\n",
       "      <td>506.000000</td>\n",
       "      <td>506.000000</td>\n",
       "      <td>506.000000</td>\n",
       "      <td>506.000000</td>\n",
       "      <td>506.000000</td>\n",
       "      <td>506.000000</td>\n",
       "      <td>506.000000</td>\n",
       "      <td>506.000000</td>\n",
       "      <td>506.000000</td>\n",
       "      <td>506.000000</td>\n",
       "    </tr>\n",
       "    <tr>\n",
       "      <th>mean</th>\n",
       "      <td>3.613524</td>\n",
       "      <td>11.363636</td>\n",
       "      <td>11.136779</td>\n",
       "      <td>0.069170</td>\n",
       "      <td>0.554695</td>\n",
       "      <td>6.284634</td>\n",
       "      <td>68.574901</td>\n",
       "      <td>3.795043</td>\n",
       "      <td>9.549407</td>\n",
       "      <td>408.237154</td>\n",
       "      <td>18.455534</td>\n",
       "      <td>356.674032</td>\n",
       "      <td>12.653063</td>\n",
       "    </tr>\n",
       "    <tr>\n",
       "      <th>std</th>\n",
       "      <td>8.601545</td>\n",
       "      <td>23.322453</td>\n",
       "      <td>6.860353</td>\n",
       "      <td>0.253994</td>\n",
       "      <td>0.115878</td>\n",
       "      <td>0.702617</td>\n",
       "      <td>28.148861</td>\n",
       "      <td>2.105710</td>\n",
       "      <td>8.707259</td>\n",
       "      <td>168.537116</td>\n",
       "      <td>2.164946</td>\n",
       "      <td>91.294864</td>\n",
       "      <td>7.141062</td>\n",
       "    </tr>\n",
       "    <tr>\n",
       "      <th>min</th>\n",
       "      <td>0.006320</td>\n",
       "      <td>0.000000</td>\n",
       "      <td>0.460000</td>\n",
       "      <td>0.000000</td>\n",
       "      <td>0.385000</td>\n",
       "      <td>3.561000</td>\n",
       "      <td>2.900000</td>\n",
       "      <td>1.129600</td>\n",
       "      <td>1.000000</td>\n",
       "      <td>187.000000</td>\n",
       "      <td>12.600000</td>\n",
       "      <td>0.320000</td>\n",
       "      <td>1.730000</td>\n",
       "    </tr>\n",
       "    <tr>\n",
       "      <th>25%</th>\n",
       "      <td>0.082045</td>\n",
       "      <td>0.000000</td>\n",
       "      <td>5.190000</td>\n",
       "      <td>0.000000</td>\n",
       "      <td>0.449000</td>\n",
       "      <td>5.885500</td>\n",
       "      <td>45.025000</td>\n",
       "      <td>2.100175</td>\n",
       "      <td>4.000000</td>\n",
       "      <td>279.000000</td>\n",
       "      <td>17.400000</td>\n",
       "      <td>375.377500</td>\n",
       "      <td>6.950000</td>\n",
       "    </tr>\n",
       "    <tr>\n",
       "      <th>50%</th>\n",
       "      <td>0.256510</td>\n",
       "      <td>0.000000</td>\n",
       "      <td>9.690000</td>\n",
       "      <td>0.000000</td>\n",
       "      <td>0.538000</td>\n",
       "      <td>6.208500</td>\n",
       "      <td>77.500000</td>\n",
       "      <td>3.207450</td>\n",
       "      <td>5.000000</td>\n",
       "      <td>330.000000</td>\n",
       "      <td>19.050000</td>\n",
       "      <td>391.440000</td>\n",
       "      <td>11.360000</td>\n",
       "    </tr>\n",
       "    <tr>\n",
       "      <th>75%</th>\n",
       "      <td>3.677083</td>\n",
       "      <td>12.500000</td>\n",
       "      <td>18.100000</td>\n",
       "      <td>0.000000</td>\n",
       "      <td>0.624000</td>\n",
       "      <td>6.623500</td>\n",
       "      <td>94.075000</td>\n",
       "      <td>5.188425</td>\n",
       "      <td>24.000000</td>\n",
       "      <td>666.000000</td>\n",
       "      <td>20.200000</td>\n",
       "      <td>396.225000</td>\n",
       "      <td>16.955000</td>\n",
       "    </tr>\n",
       "    <tr>\n",
       "      <th>max</th>\n",
       "      <td>88.976200</td>\n",
       "      <td>100.000000</td>\n",
       "      <td>27.740000</td>\n",
       "      <td>1.000000</td>\n",
       "      <td>0.871000</td>\n",
       "      <td>8.780000</td>\n",
       "      <td>100.000000</td>\n",
       "      <td>12.126500</td>\n",
       "      <td>24.000000</td>\n",
       "      <td>711.000000</td>\n",
       "      <td>22.000000</td>\n",
       "      <td>396.900000</td>\n",
       "      <td>37.970000</td>\n",
       "    </tr>\n",
       "  </tbody>\n",
       "</table>\n",
       "</div>"
      ],
      "text/plain": [
       "             CRIM          ZN       INDUS        CHAS         NOX          RM  \\\n",
       "count  506.000000  506.000000  506.000000  506.000000  506.000000  506.000000   \n",
       "mean     3.613524   11.363636   11.136779    0.069170    0.554695    6.284634   \n",
       "std      8.601545   23.322453    6.860353    0.253994    0.115878    0.702617   \n",
       "min      0.006320    0.000000    0.460000    0.000000    0.385000    3.561000   \n",
       "25%      0.082045    0.000000    5.190000    0.000000    0.449000    5.885500   \n",
       "50%      0.256510    0.000000    9.690000    0.000000    0.538000    6.208500   \n",
       "75%      3.677083   12.500000   18.100000    0.000000    0.624000    6.623500   \n",
       "max     88.976200  100.000000   27.740000    1.000000    0.871000    8.780000   \n",
       "\n",
       "              AGE         DIS         RAD         TAX     PTRATIO           B  \\\n",
       "count  506.000000  506.000000  506.000000  506.000000  506.000000  506.000000   \n",
       "mean    68.574901    3.795043    9.549407  408.237154   18.455534  356.674032   \n",
       "std     28.148861    2.105710    8.707259  168.537116    2.164946   91.294864   \n",
       "min      2.900000    1.129600    1.000000  187.000000   12.600000    0.320000   \n",
       "25%     45.025000    2.100175    4.000000  279.000000   17.400000  375.377500   \n",
       "50%     77.500000    3.207450    5.000000  330.000000   19.050000  391.440000   \n",
       "75%     94.075000    5.188425   24.000000  666.000000   20.200000  396.225000   \n",
       "max    100.000000   12.126500   24.000000  711.000000   22.000000  396.900000   \n",
       "\n",
       "            LSTAT  \n",
       "count  506.000000  \n",
       "mean    12.653063  \n",
       "std      7.141062  \n",
       "min      1.730000  \n",
       "25%      6.950000  \n",
       "50%     11.360000  \n",
       "75%     16.955000  \n",
       "max     37.970000  "
      ]
     },
     "execution_count": 66,
     "metadata": {},
     "output_type": "execute_result"
    }
   ],
   "source": [
    "boston_df_3.describe()"
   ]
  },
  {
   "cell_type": "markdown",
   "metadata": {
    "id": "v2N4ff80nIF3"
   },
   "source": [
    "각 컬럼마다 scale이 다르기 때문에 scale을 맞추어준 후 pca를 진행한다."
   ]
  },
  {
   "cell_type": "code",
   "execution_count": 67,
   "metadata": {
    "id": "FrHP0CwTnIF3"
   },
   "outputs": [],
   "source": [
    "from sklearn.preprocessing import StandardScaler\n",
    "boston_scale = StandardScaler().fit_transform(boston_df_3)"
   ]
  },
  {
   "cell_type": "code",
   "execution_count": 68,
   "metadata": {
    "id": "BJjkFyianIF3",
    "outputId": "eb6d7f90-c8ce-46a5-f825-9a1efe9c3a42"
   },
   "outputs": [
    {
     "data": {
      "text/plain": [
       "array([[-0.41978194,  0.28482986, -1.2879095 , ..., -1.45900038,\n",
       "         0.44105193, -1.0755623 ],\n",
       "       [-0.41733926, -0.48772236, -0.59338101, ..., -0.30309415,\n",
       "         0.44105193, -0.49243937],\n",
       "       [-0.41734159, -0.48772236, -0.59338101, ..., -0.30309415,\n",
       "         0.39642699, -1.2087274 ],\n",
       "       ...,\n",
       "       [-0.41344658, -0.48772236,  0.11573841, ...,  1.17646583,\n",
       "         0.44105193, -0.98304761],\n",
       "       [-0.40776407, -0.48772236,  0.11573841, ...,  1.17646583,\n",
       "         0.4032249 , -0.86530163],\n",
       "       [-0.41500016, -0.48772236,  0.11573841, ...,  1.17646583,\n",
       "         0.44105193, -0.66905833]])"
      ]
     },
     "execution_count": 68,
     "metadata": {},
     "output_type": "execute_result"
    }
   ],
   "source": [
    "# fit_transfrom 후에는 보통 numpy array로 결과 도출\n",
    "boston_scale"
   ]
  },
  {
   "cell_type": "code",
   "execution_count": 70,
   "metadata": {
    "id": "JMzXxHqbnIF3"
   },
   "outputs": [],
   "source": [
    "from sklearn.decomposition import PCA\n",
    "boston_pca = PCA().fit(boston_scale) "
   ]
  },
  {
   "cell_type": "code",
   "execution_count": 71,
   "metadata": {
    "id": "0UcSWxJ-nIF4",
    "outputId": "7afdd4a8-9a2e-4ddf-bc0b-a1f5f82030d3",
    "scrolled": true
   },
   "outputs": [
    {
     "data": {
      "text/plain": [
       "array([0.47129606, 0.581548  , 0.67713389, 0.74310121, 0.80731782,\n",
       "       0.8578876 , 0.89906884, 0.92953786, 0.9508412 , 0.96778257,\n",
       "       0.98209137, 0.99511467, 1.        ])"
      ]
     },
     "execution_count": 71,
     "metadata": {},
     "output_type": "execute_result"
    }
   ],
   "source": [
    "np.cumsum(boston_pca.explained_variance_ratio_)\n",
    "#차원을 하나씩 줄일떄마다 보존되는 분산의 정도 (손실되는 데이터의 정도)"
   ]
  },
  {
   "cell_type": "code",
   "execution_count": 72,
   "metadata": {
    "id": "Mk2DfFnEnIF4",
    "outputId": "4071d1b6-8f7f-422d-db6f-313e7d62e2e1",
    "scrolled": false
   },
   "outputs": [
    {
     "data": {
      "image/png": "[encoded data removed]",
      "text/plain": [
       "<Figure size 576x432 with 1 Axes>"
      ]
     },
     "metadata": {
      "needs_background": "light"
     },
     "output_type": "display_data"
    }
   ],
   "source": [
    "fig ,ax = plt.subplots(1,1, figsize = (8, 6))\n",
    "sns.lineplot(np.arange(1,boston_scale.shape[1]+1),np.cumsum(boston_pca.explained_variance_ratio_), marker = 'o', ax=ax )\n",
    "plt.grid()\n",
    "plt.xlabel('Number of PCA')\n",
    "plt.ylabel('Explained variance ratio')\n",
    "plt.show()"
   ]
  },
  {
   "cell_type": "markdown",
   "metadata": {
    "id": "ajfaex56nIF4"
   },
   "source": [
    "- PC차원이 8개일 때 전체 data의 90% 정도를 설명할 수 있다.  \n",
    "- 전체데이터의 어느정도를 설명할 지 결정하는 것은 분석가의 몫이다."
   ]
  },
  {
   "cell_type": "code",
   "execution_count": 73,
   "metadata": {
    "id": "ndPTBxxTnIF5"
   },
   "outputs": [],
   "source": [
    "boston_pca = PCA(n_components= 8).fit_transform(boston_scale) "
   ]
  },
  {
   "cell_type": "code",
   "execution_count": 74,
   "metadata": {
    "id": "isV00kT1nIF5",
    "outputId": "0bb7ee70-6fce-4dbf-fc22-f049fe7e4b4a"
   },
   "outputs": [
    {
     "data": {
      "text/html": [
       "<div>\n",
       "<style scoped>\n",
       "    .dataframe tbody tr th:only-of-type {\n",
       "        vertical-align: middle;\n",
       "    }\n",
       "\n",
       "    .dataframe tbody tr th {\n",
       "        vertical-align: top;\n",
       "    }\n",
       "\n",
       "    .dataframe thead th {\n",
       "        text-align: right;\n",
       "    }\n",
       "</style>\n",
       "<table border=\"1\" class=\"dataframe\">\n",
       "  <thead>\n",
       "    <tr style=\"text-align: right;\">\n",
       "      <th></th>\n",
       "      <th>0</th>\n",
       "      <th>1</th>\n",
       "      <th>2</th>\n",
       "      <th>3</th>\n",
       "      <th>4</th>\n",
       "      <th>5</th>\n",
       "      <th>6</th>\n",
       "      <th>7</th>\n",
       "    </tr>\n",
       "  </thead>\n",
       "  <tbody>\n",
       "    <tr>\n",
       "      <th>0</th>\n",
       "      <td>-2.098297</td>\n",
       "      <td>0.773113</td>\n",
       "      <td>0.342943</td>\n",
       "      <td>-0.891774</td>\n",
       "      <td>0.423070</td>\n",
       "      <td>-0.315338</td>\n",
       "      <td>0.318641</td>\n",
       "      <td>0.295832</td>\n",
       "    </tr>\n",
       "    <tr>\n",
       "      <th>1</th>\n",
       "      <td>-1.457252</td>\n",
       "      <td>0.591985</td>\n",
       "      <td>-0.695199</td>\n",
       "      <td>-0.487459</td>\n",
       "      <td>-0.195876</td>\n",
       "      <td>0.264223</td>\n",
       "      <td>0.553861</td>\n",
       "      <td>-0.223670</td>\n",
       "    </tr>\n",
       "    <tr>\n",
       "      <th>2</th>\n",
       "      <td>-2.074598</td>\n",
       "      <td>0.599639</td>\n",
       "      <td>0.167122</td>\n",
       "      <td>-0.739204</td>\n",
       "      <td>-0.934534</td>\n",
       "      <td>0.448095</td>\n",
       "      <td>0.484560</td>\n",
       "      <td>0.105166</td>\n",
       "    </tr>\n",
       "    <tr>\n",
       "      <th>3</th>\n",
       "      <td>-2.611504</td>\n",
       "      <td>-0.006871</td>\n",
       "      <td>-0.100284</td>\n",
       "      <td>-0.343721</td>\n",
       "      <td>-1.104956</td>\n",
       "      <td>0.664649</td>\n",
       "      <td>0.622641</td>\n",
       "      <td>0.255941</td>\n",
       "    </tr>\n",
       "    <tr>\n",
       "      <th>4</th>\n",
       "      <td>-2.458185</td>\n",
       "      <td>0.097712</td>\n",
       "      <td>-0.075348</td>\n",
       "      <td>-0.427907</td>\n",
       "      <td>-1.065924</td>\n",
       "      <td>0.617047</td>\n",
       "      <td>0.705086</td>\n",
       "      <td>-0.134524</td>\n",
       "    </tr>\n",
       "    <tr>\n",
       "      <th>...</th>\n",
       "      <td>...</td>\n",
       "      <td>...</td>\n",
       "      <td>...</td>\n",
       "      <td>...</td>\n",
       "      <td>...</td>\n",
       "      <td>...</td>\n",
       "      <td>...</td>\n",
       "      <td>...</td>\n",
       "    </tr>\n",
       "    <tr>\n",
       "      <th>501</th>\n",
       "      <td>-0.314968</td>\n",
       "      <td>0.724285</td>\n",
       "      <td>-0.860896</td>\n",
       "      <td>-0.434740</td>\n",
       "      <td>-1.121040</td>\n",
       "      <td>0.508064</td>\n",
       "      <td>0.199056</td>\n",
       "      <td>-0.249896</td>\n",
       "    </tr>\n",
       "    <tr>\n",
       "      <th>502</th>\n",
       "      <td>-0.110513</td>\n",
       "      <td>0.759308</td>\n",
       "      <td>-1.255979</td>\n",
       "      <td>-0.309376</td>\n",
       "      <td>-0.891542</td>\n",
       "      <td>0.408208</td>\n",
       "      <td>0.191779</td>\n",
       "      <td>-0.146502</td>\n",
       "    </tr>\n",
       "    <tr>\n",
       "      <th>503</th>\n",
       "      <td>-0.312360</td>\n",
       "      <td>1.155246</td>\n",
       "      <td>-0.408598</td>\n",
       "      <td>-0.786304</td>\n",
       "      <td>-1.595185</td>\n",
       "      <td>0.467947</td>\n",
       "      <td>0.294119</td>\n",
       "      <td>-0.638660</td>\n",
       "    </tr>\n",
       "    <tr>\n",
       "      <th>504</th>\n",
       "      <td>-0.270519</td>\n",
       "      <td>1.041362</td>\n",
       "      <td>-0.585454</td>\n",
       "      <td>-0.678134</td>\n",
       "      <td>-1.416024</td>\n",
       "      <td>0.482259</td>\n",
       "      <td>0.271597</td>\n",
       "      <td>-0.579344</td>\n",
       "    </tr>\n",
       "    <tr>\n",
       "      <th>505</th>\n",
       "      <td>-0.125803</td>\n",
       "      <td>0.761978</td>\n",
       "      <td>-1.294882</td>\n",
       "      <td>-0.288329</td>\n",
       "      <td>-0.890969</td>\n",
       "      <td>0.401474</td>\n",
       "      <td>0.175310</td>\n",
       "      <td>-0.133382</td>\n",
       "    </tr>\n",
       "  </tbody>\n",
       "</table>\n",
       "<p>506 rows × 8 columns</p>\n",
       "</div>"
      ],
      "text/plain": [
       "            0         1         2         3         4         5         6  \\\n",
       "0   -2.098297  0.773113  0.342943 -0.891774  0.423070 -0.315338  0.318641   \n",
       "1   -1.457252  0.591985 -0.695199 -0.487459 -0.195876  0.264223  0.553861   \n",
       "2   -2.074598  0.599639  0.167122 -0.739204 -0.934534  0.448095  0.484560   \n",
       "3   -2.611504 -0.006871 -0.100284 -0.343721 -1.104956  0.664649  0.622641   \n",
       "4   -2.458185  0.097712 -0.075348 -0.427907 -1.065924  0.617047  0.705086   \n",
       "..        ...       ...       ...       ...       ...       ...       ...   \n",
       "501 -0.314968  0.724285 -0.860896 -0.434740 -1.121040  0.508064  0.199056   \n",
       "502 -0.110513  0.759308 -1.255979 -0.309376 -0.891542  0.408208  0.191779   \n",
       "503 -0.312360  1.155246 -0.408598 -0.786304 -1.595185  0.467947  0.294119   \n",
       "504 -0.270519  1.041362 -0.585454 -0.678134 -1.416024  0.482259  0.271597   \n",
       "505 -0.125803  0.761978 -1.294882 -0.288329 -0.890969  0.401474  0.175310   \n",
       "\n",
       "            7  \n",
       "0    0.295832  \n",
       "1   -0.223670  \n",
       "2    0.105166  \n",
       "3    0.255941  \n",
       "4   -0.134524  \n",
       "..        ...  \n",
       "501 -0.249896  \n",
       "502 -0.146502  \n",
       "503 -0.638660  \n",
       "504 -0.579344  \n",
       "505 -0.133382  \n",
       "\n",
       "[506 rows x 8 columns]"
      ]
     },
     "execution_count": 74,
     "metadata": {},
     "output_type": "execute_result"
    }
   ],
   "source": [
    "pd.DataFrame(boston_pca)"
   ]
  },
  {
   "cell_type": "markdown",
   "metadata": {
    "id": "gVeXQVYanIF5"
   },
   "source": [
    "#### 함수활용 pca "
   ]
  },
  {
   "cell_type": "code",
   "execution_count": 75,
   "metadata": {
    "id": "DTen47OvnIF5"
   },
   "outputs": [],
   "source": [
    "def getPCA(df):\n",
    "    max_col = df.shape[1]\n",
    "    pca = PCA(n_components=max_col, random_state=0).fit(df)\n",
    "\n",
    "    cumsum = np.cumsum(pca.explained_variance_ratio_) \n",
    "    num_col = np.argmax(cumsum >= 0.9) + 1\n",
    "\n",
    "    pca = PCA(n_components = num_col, random_state=0).fit_transform(df)\n",
    "    return pd.DataFrame(pca)   "
   ]
  },
  {
   "cell_type": "code",
   "execution_count": 76,
   "metadata": {
    "id": "Dgc6HL3mnIF6",
    "outputId": "ceb85c39-967b-4cc6-ea8d-6ddbb919d778",
    "scrolled": true
   },
   "outputs": [
    {
     "data": {
      "text/html": [
       "<div>\n",
       "<style scoped>\n",
       "    .dataframe tbody tr th:only-of-type {\n",
       "        vertical-align: middle;\n",
       "    }\n",
       "\n",
       "    .dataframe tbody tr th {\n",
       "        vertical-align: top;\n",
       "    }\n",
       "\n",
       "    .dataframe thead th {\n",
       "        text-align: right;\n",
       "    }\n",
       "</style>\n",
       "<table border=\"1\" class=\"dataframe\">\n",
       "  <thead>\n",
       "    <tr style=\"text-align: right;\">\n",
       "      <th></th>\n",
       "      <th>0</th>\n",
       "      <th>1</th>\n",
       "      <th>2</th>\n",
       "      <th>3</th>\n",
       "      <th>4</th>\n",
       "      <th>5</th>\n",
       "      <th>6</th>\n",
       "      <th>7</th>\n",
       "    </tr>\n",
       "  </thead>\n",
       "  <tbody>\n",
       "    <tr>\n",
       "      <th>0</th>\n",
       "      <td>-2.098297</td>\n",
       "      <td>0.773113</td>\n",
       "      <td>0.342943</td>\n",
       "      <td>-0.891774</td>\n",
       "      <td>0.423070</td>\n",
       "      <td>-0.315338</td>\n",
       "      <td>0.318641</td>\n",
       "      <td>0.295832</td>\n",
       "    </tr>\n",
       "    <tr>\n",
       "      <th>1</th>\n",
       "      <td>-1.457252</td>\n",
       "      <td>0.591985</td>\n",
       "      <td>-0.695199</td>\n",
       "      <td>-0.487459</td>\n",
       "      <td>-0.195876</td>\n",
       "      <td>0.264223</td>\n",
       "      <td>0.553861</td>\n",
       "      <td>-0.223670</td>\n",
       "    </tr>\n",
       "    <tr>\n",
       "      <th>2</th>\n",
       "      <td>-2.074598</td>\n",
       "      <td>0.599639</td>\n",
       "      <td>0.167122</td>\n",
       "      <td>-0.739204</td>\n",
       "      <td>-0.934534</td>\n",
       "      <td>0.448095</td>\n",
       "      <td>0.484560</td>\n",
       "      <td>0.105166</td>\n",
       "    </tr>\n",
       "    <tr>\n",
       "      <th>3</th>\n",
       "      <td>-2.611504</td>\n",
       "      <td>-0.006871</td>\n",
       "      <td>-0.100284</td>\n",
       "      <td>-0.343721</td>\n",
       "      <td>-1.104956</td>\n",
       "      <td>0.664649</td>\n",
       "      <td>0.622641</td>\n",
       "      <td>0.255941</td>\n",
       "    </tr>\n",
       "    <tr>\n",
       "      <th>4</th>\n",
       "      <td>-2.458185</td>\n",
       "      <td>0.097712</td>\n",
       "      <td>-0.075348</td>\n",
       "      <td>-0.427907</td>\n",
       "      <td>-1.065924</td>\n",
       "      <td>0.617047</td>\n",
       "      <td>0.705086</td>\n",
       "      <td>-0.134524</td>\n",
       "    </tr>\n",
       "    <tr>\n",
       "      <th>...</th>\n",
       "      <td>...</td>\n",
       "      <td>...</td>\n",
       "      <td>...</td>\n",
       "      <td>...</td>\n",
       "      <td>...</td>\n",
       "      <td>...</td>\n",
       "      <td>...</td>\n",
       "      <td>...</td>\n",
       "    </tr>\n",
       "    <tr>\n",
       "      <th>501</th>\n",
       "      <td>-0.314968</td>\n",
       "      <td>0.724285</td>\n",
       "      <td>-0.860896</td>\n",
       "      <td>-0.434740</td>\n",
       "      <td>-1.121040</td>\n",
       "      <td>0.508064</td>\n",
       "      <td>0.199056</td>\n",
       "      <td>-0.249896</td>\n",
       "    </tr>\n",
       "    <tr>\n",
       "      <th>502</th>\n",
       "      <td>-0.110513</td>\n",
       "      <td>0.759308</td>\n",
       "      <td>-1.255979</td>\n",
       "      <td>-0.309376</td>\n",
       "      <td>-0.891542</td>\n",
       "      <td>0.408208</td>\n",
       "      <td>0.191779</td>\n",
       "      <td>-0.146502</td>\n",
       "    </tr>\n",
       "    <tr>\n",
       "      <th>503</th>\n",
       "      <td>-0.312360</td>\n",
       "      <td>1.155246</td>\n",
       "      <td>-0.408598</td>\n",
       "      <td>-0.786304</td>\n",
       "      <td>-1.595185</td>\n",
       "      <td>0.467947</td>\n",
       "      <td>0.294119</td>\n",
       "      <td>-0.638660</td>\n",
       "    </tr>\n",
       "    <tr>\n",
       "      <th>504</th>\n",
       "      <td>-0.270519</td>\n",
       "      <td>1.041362</td>\n",
       "      <td>-0.585454</td>\n",
       "      <td>-0.678134</td>\n",
       "      <td>-1.416024</td>\n",
       "      <td>0.482259</td>\n",
       "      <td>0.271597</td>\n",
       "      <td>-0.579344</td>\n",
       "    </tr>\n",
       "    <tr>\n",
       "      <th>505</th>\n",
       "      <td>-0.125803</td>\n",
       "      <td>0.761978</td>\n",
       "      <td>-1.294882</td>\n",
       "      <td>-0.288329</td>\n",
       "      <td>-0.890969</td>\n",
       "      <td>0.401474</td>\n",
       "      <td>0.175310</td>\n",
       "      <td>-0.133382</td>\n",
       "    </tr>\n",
       "  </tbody>\n",
       "</table>\n",
       "<p>506 rows × 8 columns</p>\n",
       "</div>"
      ],
      "text/plain": [
       "            0         1         2         3         4         5         6  \\\n",
       "0   -2.098297  0.773113  0.342943 -0.891774  0.423070 -0.315338  0.318641   \n",
       "1   -1.457252  0.591985 -0.695199 -0.487459 -0.195876  0.264223  0.553861   \n",
       "2   -2.074598  0.599639  0.167122 -0.739204 -0.934534  0.448095  0.484560   \n",
       "3   -2.611504 -0.006871 -0.100284 -0.343721 -1.104956  0.664649  0.622641   \n",
       "4   -2.458185  0.097712 -0.075348 -0.427907 -1.065924  0.617047  0.705086   \n",
       "..        ...       ...       ...       ...       ...       ...       ...   \n",
       "501 -0.314968  0.724285 -0.860896 -0.434740 -1.121040  0.508064  0.199056   \n",
       "502 -0.110513  0.759308 -1.255979 -0.309376 -0.891542  0.408208  0.191779   \n",
       "503 -0.312360  1.155246 -0.408598 -0.786304 -1.595185  0.467947  0.294119   \n",
       "504 -0.270519  1.041362 -0.585454 -0.678134 -1.416024  0.482259  0.271597   \n",
       "505 -0.125803  0.761978 -1.294882 -0.288329 -0.890969  0.401474  0.175310   \n",
       "\n",
       "            7  \n",
       "0    0.295832  \n",
       "1   -0.223670  \n",
       "2    0.105166  \n",
       "3    0.255941  \n",
       "4   -0.134524  \n",
       "..        ...  \n",
       "501 -0.249896  \n",
       "502 -0.146502  \n",
       "503 -0.638660  \n",
       "504 -0.579344  \n",
       "505 -0.133382  \n",
       "\n",
       "[506 rows x 8 columns]"
      ]
     },
     "execution_count": 76,
     "metadata": {},
     "output_type": "execute_result"
    }
   ],
   "source": [
    "getPCA(boston_scale)"
   ]
  },
  {
   "cell_type": "markdown",
   "metadata": {
    "id": "z9eoKWrqnIF6"
   },
   "source": [
    "#### <font color = red> PCA는 one-hot-Encoding 같이 실질적인 데이터는 적은데 차원은 많은 Sparse data 등을 줄이기 위한 방법으로도 사용된다!"
   ]
  },
  {
   "cell_type": "markdown",
   "metadata": {
    "id": "mRfZZOYgt6jT"
   },
   "source": [
    "# Hyperparameter Tuning"
   ]
  },
  {
   "cell_type": "code",
   "execution_count": 77,
   "metadata": {},
   "outputs": [],
   "source": [
    "from sklearn.datasets import load_wine\n",
    "wine = load_wine()\n",
    "wine_df = pd.DataFrame(wine.data, columns=wine.feature_names)\n",
    "wine_target = pd.DataFrame(wine.target, columns=[\"WINE\"])\n",
    "wine_df = pd.concat([wine_df, wine_target], axis = 1)"
   ]
  },
  {
   "cell_type": "code",
   "execution_count": 78,
   "metadata": {},
   "outputs": [
    {
     "data": {
      "text/html": [
       "<div>\n",
       "<style scoped>\n",
       "    .dataframe tbody tr th:only-of-type {\n",
       "        vertical-align: middle;\n",
       "    }\n",
       "\n",
       "    .dataframe tbody tr th {\n",
       "        vertical-align: top;\n",
       "    }\n",
       "\n",
       "    .dataframe thead th {\n",
       "        text-align: right;\n",
       "    }\n",
       "</style>\n",
       "<table border=\"1\" class=\"dataframe\">\n",
       "  <thead>\n",
       "    <tr style=\"text-align: right;\">\n",
       "      <th></th>\n",
       "      <th>alcohol</th>\n",
       "      <th>malic_acid</th>\n",
       "      <th>ash</th>\n",
       "      <th>alcalinity_of_ash</th>\n",
       "      <th>magnesium</th>\n",
       "      <th>total_phenols</th>\n",
       "      <th>flavanoids</th>\n",
       "      <th>nonflavanoid_phenols</th>\n",
       "      <th>proanthocyanins</th>\n",
       "      <th>color_intensity</th>\n",
       "      <th>hue</th>\n",
       "      <th>od280/od315_of_diluted_wines</th>\n",
       "      <th>proline</th>\n",
       "      <th>WINE</th>\n",
       "    </tr>\n",
       "  </thead>\n",
       "  <tbody>\n",
       "    <tr>\n",
       "      <th>0</th>\n",
       "      <td>14.23</td>\n",
       "      <td>1.71</td>\n",
       "      <td>2.43</td>\n",
       "      <td>15.6</td>\n",
       "      <td>127.0</td>\n",
       "      <td>2.80</td>\n",
       "      <td>3.06</td>\n",
       "      <td>0.28</td>\n",
       "      <td>2.29</td>\n",
       "      <td>5.64</td>\n",
       "      <td>1.04</td>\n",
       "      <td>3.92</td>\n",
       "      <td>1065.0</td>\n",
       "      <td>0</td>\n",
       "    </tr>\n",
       "    <tr>\n",
       "      <th>1</th>\n",
       "      <td>13.20</td>\n",
       "      <td>1.78</td>\n",
       "      <td>2.14</td>\n",
       "      <td>11.2</td>\n",
       "      <td>100.0</td>\n",
       "      <td>2.65</td>\n",
       "      <td>2.76</td>\n",
       "      <td>0.26</td>\n",
       "      <td>1.28</td>\n",
       "      <td>4.38</td>\n",
       "      <td>1.05</td>\n",
       "      <td>3.40</td>\n",
       "      <td>1050.0</td>\n",
       "      <td>0</td>\n",
       "    </tr>\n",
       "    <tr>\n",
       "      <th>2</th>\n",
       "      <td>13.16</td>\n",
       "      <td>2.36</td>\n",
       "      <td>2.67</td>\n",
       "      <td>18.6</td>\n",
       "      <td>101.0</td>\n",
       "      <td>2.80</td>\n",
       "      <td>3.24</td>\n",
       "      <td>0.30</td>\n",
       "      <td>2.81</td>\n",
       "      <td>5.68</td>\n",
       "      <td>1.03</td>\n",
       "      <td>3.17</td>\n",
       "      <td>1185.0</td>\n",
       "      <td>0</td>\n",
       "    </tr>\n",
       "    <tr>\n",
       "      <th>3</th>\n",
       "      <td>14.37</td>\n",
       "      <td>1.95</td>\n",
       "      <td>2.50</td>\n",
       "      <td>16.8</td>\n",
       "      <td>113.0</td>\n",
       "      <td>3.85</td>\n",
       "      <td>3.49</td>\n",
       "      <td>0.24</td>\n",
       "      <td>2.18</td>\n",
       "      <td>7.80</td>\n",
       "      <td>0.86</td>\n",
       "      <td>3.45</td>\n",
       "      <td>1480.0</td>\n",
       "      <td>0</td>\n",
       "    </tr>\n",
       "    <tr>\n",
       "      <th>4</th>\n",
       "      <td>13.24</td>\n",
       "      <td>2.59</td>\n",
       "      <td>2.87</td>\n",
       "      <td>21.0</td>\n",
       "      <td>118.0</td>\n",
       "      <td>2.80</td>\n",
       "      <td>2.69</td>\n",
       "      <td>0.39</td>\n",
       "      <td>1.82</td>\n",
       "      <td>4.32</td>\n",
       "      <td>1.04</td>\n",
       "      <td>2.93</td>\n",
       "      <td>735.0</td>\n",
       "      <td>0</td>\n",
       "    </tr>\n",
       "  </tbody>\n",
       "</table>\n",
       "</div>"
      ],
      "text/plain": [
       "   alcohol  malic_acid   ash  alcalinity_of_ash  magnesium  total_phenols  \\\n",
       "0    14.23        1.71  2.43               15.6      127.0           2.80   \n",
       "1    13.20        1.78  2.14               11.2      100.0           2.65   \n",
       "2    13.16        2.36  2.67               18.6      101.0           2.80   \n",
       "3    14.37        1.95  2.50               16.8      113.0           3.85   \n",
       "4    13.24        2.59  2.87               21.0      118.0           2.80   \n",
       "\n",
       "   flavanoids  nonflavanoid_phenols  proanthocyanins  color_intensity   hue  \\\n",
       "0        3.06                  0.28             2.29             5.64  1.04   \n",
       "1        2.76                  0.26             1.28             4.38  1.05   \n",
       "2        3.24                  0.30             2.81             5.68  1.03   \n",
       "3        3.49                  0.24             2.18             7.80  0.86   \n",
       "4        2.69                  0.39             1.82             4.32  1.04   \n",
       "\n",
       "   od280/od315_of_diluted_wines  proline  WINE  \n",
       "0                          3.92   1065.0     0  \n",
       "1                          3.40   1050.0     0  \n",
       "2                          3.17   1185.0     0  \n",
       "3                          3.45   1480.0     0  \n",
       "4                          2.93    735.0     0  "
      ]
     },
     "execution_count": 78,
     "metadata": {},
     "output_type": "execute_result"
    }
   ],
   "source": [
    "wine_df.head()"
   ]
  },
  {
   "cell_type": "code",
   "execution_count": 79,
   "metadata": {},
   "outputs": [],
   "source": [
    "from sklearn.model_selection import train_test_split\n",
    "\n",
    "X_train, X_test, y_train, y_test = train_test_split(wine_df.iloc[:, :-1], wine_df.iloc[:, -1], test_size=0.2, random_state= 1004)"
   ]
  },
  {
   "cell_type": "markdown",
   "metadata": {
    "id": "ff766c51"
   },
   "source": [
    "### 단일 모델"
   ]
  },
  {
   "cell_type": "code",
   "execution_count": 80,
   "metadata": {
    "id": "eac76035",
    "outputId": "f0ea2aa7-ef5b-4356-ee5b-34ecd17b8ab1"
   },
   "outputs": [
    {
     "name": "stdout",
     "output_type": "stream",
     "text": [
      "0.8888888888888888\n"
     ]
    }
   ],
   "source": [
    "from sklearn.tree import DecisionTreeClassifier\n",
    "\n",
    "model_tree = DecisionTreeClassifier(random_state=42)\n",
    "model_tree.fit(X_train,y_train)\n",
    "\n",
    "print(model_tree.score(X_test,y_test)) "
   ]
  },
  {
   "cell_type": "markdown",
   "metadata": {
    "id": "4db9e589"
   },
   "source": [
    "### Grid Search"
   ]
  },
  {
   "cell_type": "code",
   "execution_count": 81,
   "metadata": {
    "id": "34fb6a5b",
    "outputId": "0d9efc97-bc3d-4fab-ff46-4a67fecdfbd4"
   },
   "outputs": [
    {
     "name": "stdout",
     "output_type": "stream",
     "text": [
      "final params {'criterion': 'entropy', 'max_depth': 4, 'min_samples_leaf': 3}\n",
      "best score 0.9086879432624114\n",
      "0.9444444444444444\n"
     ]
    }
   ],
   "source": [
    "from sklearn.model_selection import GridSearchCV\n",
    "\n",
    "model_dt = DecisionTreeClassifier(random_state = 42)\n",
    "\n",
    "param_grid = {'criterion' :['gini','entropy'],  # 불순도 계산하는 척도\n",
    "              'max_depth':[4,5,6,8,10],  # 깊이, 몇층까지 갈건지\n",
    "              'min_samples_leaf':[3,5,10,50,100]}  # 한노드에 몇개의 샘플\n",
    "\n",
    "# 2 * 5 * 5 = 50 번 반복\n",
    " \n",
    "                 \n",
    "gcv = GridSearchCV(model_dt,  # 모델\n",
    "                   param_grid=param_grid, # 탐색할 파라미터들을 딕셔너리 형태로\n",
    "                   cv=3, # 교차 검증 폴드 수\n",
    "                   scoring='accuracy', # 성능 평가 지표\n",
    "                   n_jobs=-1) # 컴퓨터의 모든 코어 사용\n",
    "\n",
    "gcv.fit(X_train,y_train)\n",
    "\n",
    "print('final params', gcv.best_params_)   # 최적의 파라미터 값 출력\n",
    "print('best score', gcv.best_score_)      # 최고의 점수 ---> 이 점수와\n",
    "print(gcv.score(X_test,y_test))           # 튜닝 하기 전보다 높은 수치 ----> 이 점수의 차이는?"
   ]
  },
  {
   "cell_type": "markdown",
   "metadata": {
    "id": "c9fa6042"
   },
   "source": [
    "### Random Search"
   ]
  },
  {
   "cell_type": "code",
   "execution_count": 82,
   "metadata": {
    "id": "14d1f780",
    "outputId": "f8d5ebfc-16b7-49a5-966a-c8f7a29a65b1"
   },
   "outputs": [
    {
     "name": "stdout",
     "output_type": "stream",
     "text": [
      "final params {'min_samples_leaf': 5, 'max_depth': 5, 'criterion': 'entropy'}\n",
      "best score 0.9017241379310346\n",
      "0.9166666666666666\n"
     ]
    }
   ],
   "source": [
    "from sklearn.model_selection import RandomizedSearchCV\n",
    "\n",
    "model_dt = DecisionTreeClassifier(random_state = 42)\n",
    "\n",
    "param_grid = {'criterion' :['gini','entropy'], \n",
    "              'max_depth':[4,5,6,8,10],  \n",
    "              'min_samples_leaf':[3,5,10,50,100]}  \n",
    "\n",
    "rcv = RandomizedSearchCV(model_dt, param_distributions=param_grid, scoring='accuracy', n_iter=8) # 8 번 반복\n",
    "rcv.fit(X_train,y_train)\n",
    "\n",
    "print('final params', rcv.best_params_)   # 최적의 파라미터 값 출력\n",
    "print('best score', rcv.best_score_)      # 최고의 점수\n",
    "print(rcv.score(X_test,y_test))           # # 튜닝 하기 전보다 높은 수치"
   ]
  },
  {
   "cell_type": "code",
   "execution_count": 83,
   "metadata": {
    "id": "f257d7ac",
    "outputId": "b5d5a37d-7a0e-4767-bd09-5c53ea03a123",
    "scrolled": true
   },
   "outputs": [
    {
     "name": "stdout",
     "output_type": "stream",
     "text": [
      "기존모델 성능 :  0.8888888888888888\n",
      "grid_search 이용해 튜닝한 모델 성능 :  0.9444444444444444\n",
      "random_search 이용해 튜닝한 모델 성능 :  0.9166666666666666\n"
     ]
    }
   ],
   "source": [
    "print('기존모델 성능 : ', model_tree.score(X_test,y_test))\n",
    "print('grid_search 이용해 튜닝한 모델 성능 : ', gcv.score(X_test, y_test))\n",
    "print('random_search 이용해 튜닝한 모델 성능 : ', rcv.score(X_test, y_test))"
   ]
  },
  {
   "cell_type": "markdown",
   "metadata": {
    "id": "04d25fa4"
   },
   "source": [
    "# 베이지안 최적화"
   ]
  },
  {
   "cell_type": "code",
   "execution_count": 84,
   "metadata": {
    "id": "06c51aed",
    "outputId": "d47d7d7b-0b19-4a1f-cd74-5161e36e5d92"
   },
   "outputs": [
    {
     "name": "stdout",
     "output_type": "stream",
     "text": [
      "Collecting bayesian-optimization\n",
      "  Downloading bayesian-optimization-1.2.0.tar.gz (14 kB)\n",
      "Requirement already satisfied: numpy>=1.9.0 in d:\\anaconda\\lib\\site-packages (from bayesian-optimization) (1.21.5)\n",
      "Requirement already satisfied: scipy>=0.14.0 in d:\\anaconda\\lib\\site-packages (from bayesian-optimization) (1.7.3)\n",
      "Requirement already satisfied: scikit-learn>=0.18.0 in d:\\anaconda\\lib\\site-packages (from bayesian-optimization) (1.0.2)\n",
      "Requirement already satisfied: joblib>=0.11 in d:\\anaconda\\lib\\site-packages (from scikit-learn>=0.18.0->bayesian-optimization) (1.1.0)\n",
      "Requirement already satisfied: threadpoolctl>=2.0.0 in d:\\anaconda\\lib\\site-packages (from scikit-learn>=0.18.0->bayesian-optimization) (2.2.0)\n",
      "Building wheels for collected packages: bayesian-optimization\n",
      "  Building wheel for bayesian-optimization (setup.py): started\n",
      "  Building wheel for bayesian-optimization (setup.py): finished with status 'done'\n",
      "  Created wheel for bayesian-optimization: filename=bayesian_optimization-1.2.0-py3-none-any.whl size=11686 sha256=d8e0a94afa1d71df97298f457178dc8a7f76f07b651f7281585953554a4d6442\n",
      "  Stored in directory: c:\\users\\jongmin\\appdata\\local\\pip\\cache\\wheels\\14\\98\\74\\190efced439ab92ca551550906290338ba5b64cfc9d0927765\n",
      "Successfully built bayesian-optimization\n",
      "Installing collected packages: bayesian-optimization\n",
      "Successfully installed bayesian-optimization-1.2.0\n"
     ]
    }
   ],
   "source": [
    "!pip install bayesian-optimization"
   ]
  },
  {
   "cell_type": "code",
   "execution_count": 85,
   "metadata": {
    "id": "e4ae90db"
   },
   "outputs": [],
   "source": [
    "from bayes_opt import BayesianOptimization\n",
    "from sklearn.metrics import log_loss\n",
    "\n",
    "from sklearn.ensemble import RandomForestClassifier\n",
    "from sklearn.metrics import accuracy_score"
   ]
  },
  {
   "cell_type": "code",
   "execution_count": 86,
   "metadata": {
    "id": "887b9f57"
   },
   "outputs": [],
   "source": [
    "# Step1. 탐색하고싶은 하이퍼파라미터의 범위를 dictionary 형태로 지정.\n",
    "pbounds = {'n_estimators': (10,30),\n",
    "            'max_depth': (5,10)}\n",
    "\n",
    "# Step2. 1에서 생성한 dictionary의 key를 arguments로 하는 함수 생성\n",
    "def rnd_opt(n_estimators, max_depth):\n",
    "\n",
    "    # Step3. 탐색하고싶은 하이퍼파라미터의 조건 지정\n",
    "    params = {\n",
    "        'n_estimators' : int(round(n_estimators,0)),\n",
    "        'max_depth' : int(round(max_depth,0))\n",
    "    }\n",
    "    \n",
    "    # Step4. 모델 생성\n",
    "    rnd_clf = RandomForestClassifier(**params)\n",
    "    rnd_clf.fit(X_train, y_train)\n",
    "    \n",
    "    # Step5. 최대화하려는 score 선언\n",
    "    score = accuracy_score(y_test, rnd_clf.predict(X_test))\n",
    "    \n",
    "    return score"
   ]
  },
  {
   "cell_type": "code",
   "execution_count": 87,
   "metadata": {
    "id": "72c38e48",
    "outputId": "c42bb14e-42d3-44dc-f76d-091414b93c47",
    "scrolled": true
   },
   "outputs": [
    {
     "name": "stdout",
     "output_type": "stream",
     "text": [
      "|   iter    |  target   | max_depth | n_esti... |\n",
      "-------------------------------------------------\n",
      "| \u001b[0m 1       \u001b[0m | \u001b[0m 1.0     \u001b[0m | \u001b[0m 6.873   \u001b[0m | \u001b[0m 29.01   \u001b[0m |\n",
      "| \u001b[0m 2       \u001b[0m | \u001b[0m 1.0     \u001b[0m | \u001b[0m 8.66    \u001b[0m | \u001b[0m 21.97   \u001b[0m |\n",
      "| \u001b[0m 3       \u001b[0m | \u001b[0m 1.0     \u001b[0m | \u001b[0m 5.78    \u001b[0m | \u001b[0m 13.12   \u001b[0m |\n",
      "| \u001b[0m 4       \u001b[0m | \u001b[0m 1.0     \u001b[0m | \u001b[0m 5.29    \u001b[0m | \u001b[0m 27.32   \u001b[0m |\n",
      "| \u001b[0m 5       \u001b[0m | \u001b[0m 0.9722  \u001b[0m | \u001b[0m 8.006   \u001b[0m | \u001b[0m 24.16   \u001b[0m |\n",
      "| \u001b[0m 6       \u001b[0m | \u001b[0m 1.0     \u001b[0m | \u001b[0m 5.312   \u001b[0m | \u001b[0m 27.42   \u001b[0m |\n",
      "| \u001b[0m 7       \u001b[0m | \u001b[0m 1.0     \u001b[0m | \u001b[0m 9.235   \u001b[0m | \u001b[0m 20.04   \u001b[0m |\n",
      "| \u001b[0m 8       \u001b[0m | \u001b[0m 1.0     \u001b[0m | \u001b[0m 6.835   \u001b[0m | \u001b[0m 20.15   \u001b[0m |\n",
      "| \u001b[0m 9       \u001b[0m | \u001b[0m 1.0     \u001b[0m | \u001b[0m 6.383   \u001b[0m | \u001b[0m 16.04   \u001b[0m |\n",
      "| \u001b[0m 10      \u001b[0m | \u001b[0m 0.9444  \u001b[0m | \u001b[0m 8.398   \u001b[0m | \u001b[0m 14.11   \u001b[0m |\n",
      "| \u001b[0m 11      \u001b[0m | \u001b[0m 1.0     \u001b[0m | \u001b[0m 5.179   \u001b[0m | \u001b[0m 17.88   \u001b[0m |\n",
      "| \u001b[0m 12      \u001b[0m | \u001b[0m 0.9722  \u001b[0m | \u001b[0m 5.036   \u001b[0m | \u001b[0m 10.88   \u001b[0m |\n",
      "| \u001b[0m 13      \u001b[0m | \u001b[0m 0.9722  \u001b[0m | \u001b[0m 7.352   \u001b[0m | \u001b[0m 18.1    \u001b[0m |\n",
      "| \u001b[0m 14      \u001b[0m | \u001b[0m 0.9722  \u001b[0m | \u001b[0m 5.152   \u001b[0m | \u001b[0m 14.89   \u001b[0m |\n",
      "| \u001b[0m 15      \u001b[0m | \u001b[0m 1.0     \u001b[0m | \u001b[0m 8.083   \u001b[0m | \u001b[0m 20.78   \u001b[0m |\n",
      "| \u001b[0m 16      \u001b[0m | \u001b[0m 1.0     \u001b[0m | \u001b[0m 9.907   \u001b[0m | \u001b[0m 21.29   \u001b[0m |\n",
      "| \u001b[0m 17      \u001b[0m | \u001b[0m 0.9722  \u001b[0m | \u001b[0m 6.92    \u001b[0m | \u001b[0m 27.42   \u001b[0m |\n",
      "| \u001b[0m 18      \u001b[0m | \u001b[0m 1.0     \u001b[0m | \u001b[0m 6.912   \u001b[0m | \u001b[0m 21.5    \u001b[0m |\n",
      "| \u001b[0m 19      \u001b[0m | \u001b[0m 1.0     \u001b[0m | \u001b[0m 5.556   \u001b[0m | \u001b[0m 29.45   \u001b[0m |\n",
      "| \u001b[0m 20      \u001b[0m | \u001b[0m 1.0     \u001b[0m | \u001b[0m 5.371   \u001b[0m | \u001b[0m 20.67   \u001b[0m |\n",
      "| \u001b[0m 21      \u001b[0m | \u001b[0m 0.9722  \u001b[0m | \u001b[0m 5.0     \u001b[0m | \u001b[0m 19.29   \u001b[0m |\n",
      "| \u001b[0m 22      \u001b[0m | \u001b[0m 0.9722  \u001b[0m | \u001b[0m 5.553   \u001b[0m | \u001b[0m 21.85   \u001b[0m |\n",
      "| \u001b[0m 23      \u001b[0m | \u001b[0m 1.0     \u001b[0m | \u001b[0m 8.958   \u001b[0m | \u001b[0m 21.07   \u001b[0m |\n",
      "| \u001b[0m 24      \u001b[0m | \u001b[0m 0.9444  \u001b[0m | \u001b[0m 5.547   \u001b[0m | \u001b[0m 16.89   \u001b[0m |\n",
      "| \u001b[0m 25      \u001b[0m | \u001b[0m 1.0     \u001b[0m | \u001b[0m 7.285   \u001b[0m | \u001b[0m 20.79   \u001b[0m |\n",
      "| \u001b[0m 26      \u001b[0m | \u001b[0m 1.0     \u001b[0m | \u001b[0m 7.83    \u001b[0m | \u001b[0m 21.61   \u001b[0m |\n",
      "| \u001b[0m 27      \u001b[0m | \u001b[0m 1.0     \u001b[0m | \u001b[0m 5.194   \u001b[0m | \u001b[0m 17.86   \u001b[0m |\n",
      "| \u001b[0m 28      \u001b[0m | \u001b[0m 1.0     \u001b[0m | \u001b[0m 6.443   \u001b[0m | \u001b[0m 29.87   \u001b[0m |\n",
      "| \u001b[0m 29      \u001b[0m | \u001b[0m 1.0     \u001b[0m | \u001b[0m 7.143   \u001b[0m | \u001b[0m 15.79   \u001b[0m |\n",
      "| \u001b[0m 30      \u001b[0m | \u001b[0m 1.0     \u001b[0m | \u001b[0m 9.737   \u001b[0m | \u001b[0m 22.34   \u001b[0m |\n",
      "=================================================\n"
     ]
    }
   ],
   "source": [
    "# Step6. BayesianOptimization 객체 생성\n",
    "BO_rnd = BayesianOptimization(f = rnd_opt, pbounds = pbounds, random_state=42) # 최대화하려는 함수 f, 탐색범위 pbounds\n",
    "\n",
    "# Step7. 최대화\n",
    "BO_rnd.maximize(init_points=5, n_iter=25) # 처음 탐색 횟수 init_points, 추가 탐색 횟수 n_iter"
   ]
  },
  {
   "cell_type": "code",
   "execution_count": 88,
   "metadata": {},
   "outputs": [
    {
     "name": "stdout",
     "output_type": "stream",
     "text": [
      "{'max_depth': 6, 'n_estimators': 29}\n"
     ]
    }
   ],
   "source": [
    "# 하이퍼파라미터의 결과값을 불러와 \"max_params\"라는 변수에 저장\n",
    "max_params = BO_rnd.max['params']\n",
    "\n",
    "max_params['n_estimators'] = int(max_params['n_estimators'])\n",
    "max_params['max_depth'] = int(max_params['max_depth'])\n",
    "print(max_params)"
   ]
  },
  {
   "cell_type": "code",
   "execution_count": 88,
   "metadata": {},
   "outputs": [],
   "source": [
    "# Bayesian Optimization의 결과를 \"BO_tuend_rnd\"라는 변수에 저장\n",
    "BO_tuend_rnd = RandomForestClassifier(**max_params)"
   ]
  },
  {
   "cell_type": "code",
   "execution_count": null,
   "metadata": {},
   "outputs": [],
   "source": []
  }
 ],
 "metadata": {
  "colab": {
   "collapsed_sections": [
    "p6c-XxpQnIFq",
    "Hq2z4BmunIFw",
    "80fPiQmsnIFx",
    "__Cuj07RnIFy",
    "Gg7zyUs4nIFz"
   ],
   "name": "5주차 실습자료.ipynb",
   "provenance": []
  },
  "kernelspec": {
   "display_name": "Python 3 (ipykernel)",
   "language": "python",
   "name": "python3"
  },
  "language_info": {
   "codemirror_mode": {
    "name": "ipython",
    "version": 3
   },
   "file_extension": ".py",
   "mimetype": "text/x-python",
   "name": "python",
   "nbconvert_exporter": "python",
   "pygments_lexer": "ipython3",
   "version": "3.9.12"
  }
 },
 "nbformat": 4,
 "nbformat_minor": 1
}
