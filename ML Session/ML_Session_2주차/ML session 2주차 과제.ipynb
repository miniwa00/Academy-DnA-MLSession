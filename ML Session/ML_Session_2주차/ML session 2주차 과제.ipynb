{
 "cells": [
  {
   "cell_type": "markdown",
   "id": "0f8a2cac",
   "metadata": {},
   "source": [
    "# ML Session 2차시 과제"
   ]
  },
  {
   "cell_type": "code",
   "execution_count": 1,
   "id": "96106dfc",
   "metadata": {},
   "outputs": [],
   "source": [
    "import pandas as pd\n",
    "import numpy as np\n",
    "from sklearn.tree import DecisionTreeClassifier, DecisionTreeRegressor\n",
    "from sklearn.model_selection import train_test_split\n",
    "from sklearn.model_selection import KFold, StratifiedKFold, LeaveOneOut\n",
    "from sklearn.metrics import mean_squared_error\n",
    "from sklearn.metrics import mean_absolute_error\n",
    "from sklearn.metrics import plot_confusion_matrix\n",
    "from sklearn.metrics import accuracy_score\n",
    "from sklearn.metrics import precision_score\n",
    "from sklearn.metrics import recall_score\n",
    "from sklearn.metrics import f1_score\n",
    "from sklearn.metrics import plot_roc_curve\n",
    "from sklearn.metrics import roc_auc_score\n",
    "from sklearn.metrics import roc_curve\n",
    "from sklearn.metrics import auc\n",
    "\n",
    "import matplotlib.pyplot as plt\n",
    "%matplotlib inline\n",
    "\n",
    "iris = pd.read_csv('Iris.csv')\n",
    "adv = pd.read_csv('advertising.csv')"
   ]
  },
  {
   "cell_type": "markdown",
   "id": "26b5ee61",
   "metadata": {},
   "source": [
    "### 문제 1 (24점)\n",
    "#### 1-1. 분류 평가지표 중 '정밀도'와 '재현율'에 대한 개념과 이 둘이 어떤 관계인지 설명해주세요. (6점)"
   ]
  },
  {
   "cell_type": "code",
   "execution_count": null,
   "id": "d2b5ebe9",
   "metadata": {
    "scrolled": true
   },
   "outputs": [],
   "source": []
  },
  {
   "cell_type": "markdown",
   "id": "8e915718",
   "metadata": {},
   "source": [
    "#### 1-2.  '정밀도'와 '재현율'의 관계로 인하여 다른 어떤 평가지표를 쓰는 것이 좋은가요? 그 이유와 함께 설명해주세요. (6점)"
   ]
  },
  {
   "cell_type": "code",
   "execution_count": null,
   "id": "df344efd",
   "metadata": {},
   "outputs": [],
   "source": []
  },
  {
   "cell_type": "markdown",
   "id": "24999d17",
   "metadata": {},
   "source": [
    "#### 1-3. 정밀도와 재현율이 각각 더 중요한 사례를 적어주세요. (각 6점)\n",
    "- 되도록 ppt에 나온 사례 외의 사례를 들어주세요"
   ]
  },
  {
   "cell_type": "code",
   "execution_count": null,
   "id": "63123aa9",
   "metadata": {},
   "outputs": [],
   "source": [
    "# 정밀도가 더 중요한 경우\n"
   ]
  },
  {
   "cell_type": "code",
   "execution_count": null,
   "id": "633099b4",
   "metadata": {},
   "outputs": [],
   "source": [
    "# 재현율이 더 중요한 경우\n"
   ]
  },
  {
   "cell_type": "markdown",
   "id": "1555800a",
   "metadata": {},
   "source": [
    "### 문제2 (40점)\n",
    "#### 2-1 (20점) \n",
    "**Stratified K-fold Cross Validation은 회귀에서는 지원되지 않지만 <font color=\"#CC3D3D\">임의로 범주형 데이터로 쪼개서</font> Stratified K-fold를 사용할 수 있습니다.   \n",
    "`adv`데이터를 사용하여 Strtifed K-fold를 적용해보세요.**  \n",
    "- `Sales` 값에 따라 임의로 범주형을 부여합니다.  \n",
    "- 임의로 부여한 범주형에 따라 Stratifed K-fold를 적용합니다.  \n",
    "※ 임의로 부여한 범주형과 데이터 갯수를 출력해주세요."
   ]
  },
  {
   "cell_type": "code",
   "execution_count": 1,
   "id": "5369e0e8",
   "metadata": {},
   "outputs": [],
   "source": [
    "# code here\n",
    "\n"
   ]
  },
  {
   "cell_type": "markdown",
   "id": "c4eee8e3",
   "metadata": {},
   "source": [
    "#### 2-2 (20점)\n",
    "- 2-1에서 사용한 Stratified K-fold를 적용하세요.  \n",
    "- DecisionTreeRegressor를 사용하세요.  <font color=\"#CC3D3D\">(Hint! for문 안에 사용)</font>   \n",
    "- 각 fold별로 MAE와 MAPE를 출력하세요.<font color=\"#CC3D3D\">(Hint! for문 안에 사용)</font>   \n",
    "- 각 fold의 성능을 평균내어 모델의 MAE와 MAPE를 출력하세요.<font color=\"#CC3D3D\">(Hint! 각 fold의 지표를 담을 빈 리스트 생성)</font>"
   ]
  },
  {
   "cell_type": "code",
   "execution_count": 2,
   "id": "baa699bf",
   "metadata": {},
   "outputs": [],
   "source": [
    "# code here\n",
    "\n"
   ]
  },
  {
   "cell_type": "markdown",
   "id": "e17fc94e",
   "metadata": {},
   "source": [
    "### 문제 3 (12점, 각 6점)\n",
    "#### 3-1) \n",
    "**<font color=\"#CC3D3D\">\"보험 사기 적발 모델\"</font>은 <font color=\"#CC3D3D\">금융 사기 거래인지, 정상  거래인지 판단하는 모델</font>입니다.   \n",
    "해당 모델의 평가지표로 어떤 평가지표가 사용되는 것이 좋을까요?   \n",
    "평가지표와 그 이유를 작성해주세요.**"
   ]
  },
  {
   "cell_type": "code",
   "execution_count": null,
   "id": "9757ed38",
   "metadata": {},
   "outputs": [],
   "source": []
  },
  {
   "cell_type": "markdown",
   "id": "9bfccd3c",
   "metadata": {},
   "source": [
    "#### 3-2)\n",
    "암 예측 모델에서는 실제 암환자(Positive)를 일반인(Negative)라고 판단할 경우 업무상 큰 영향이 있기 때문에 재현율(Recall)을 평가지표로 사용하는 것이 바람직합니다.\n",
    "  \n",
    "  \n",
    "**임계값을 낮추면 재현율을 높일 수 있는데요. <font color=\"#CC3D3D\">임계값을 낮추어 재현율을 높이는 것은 바람직하지 않습니다.</font>  \n",
    "해당 모델의 경우 왜 바람직하지 않은지 작성해주세요.**"
   ]
  },
  {
   "cell_type": "code",
   "execution_count": null,
   "id": "f8e13b38",
   "metadata": {},
   "outputs": [],
   "source": []
  },
  {
   "cell_type": "markdown",
   "id": "c28874da",
   "metadata": {},
   "source": [
    "### 문제 4 (12점)\n",
    "#### confusion_matrix의 TN, FP, FN, TP를 사용하여 accuracy(정확도), precision(정밀도), recall(재현율)을 구하는 함수를 만들어주세요."
   ]
  },
  {
   "cell_type": "code",
   "execution_count": 3,
   "id": "ca478d17",
   "metadata": {},
   "outputs": [],
   "source": [
    "# code here\n",
    "\n"
   ]
  },
  {
   "cell_type": "markdown",
   "id": "5f834899",
   "metadata": {},
   "source": [
    "### 문제 5 (12점, 각 6점)\n",
    "#### 배우지 않은 회귀 평가지표 2가지 이상을 찾아 <font color=\"#CC3D3D\">평가지표명, 수식, 장단점, 한계</font>등 평가지표에 대한 설명을 작성해주세요."
   ]
  },
  {
   "cell_type": "code",
   "execution_count": null,
   "id": "904814ab",
   "metadata": {},
   "outputs": [],
   "source": []
  }
 ],
 "metadata": {
  "kernelspec": {
   "display_name": "Python 3 (ipykernel)",
   "language": "python",
   "name": "python3"
  },
  "language_info": {
   "codemirror_mode": {
    "name": "ipython",
    "version": 3
   },
   "file_extension": ".py",
   "mimetype": "text/x-python",
   "name": "python",
   "nbconvert_exporter": "python",
   "pygments_lexer": "ipython3",
   "version": "3.9.12"
  }
 },
 "nbformat": 4,
 "nbformat_minor": 5
}
