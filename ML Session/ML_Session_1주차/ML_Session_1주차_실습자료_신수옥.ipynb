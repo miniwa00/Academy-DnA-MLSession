{
 "cells": [
  {
   "cell_type": "code",
   "execution_count": 7,
   "id": "96d334e4",
   "metadata": {},
   "outputs": [],
   "source": [
    "import pandas as pd\n",
    "import numpy as np\n",
    "import matplotlib.pyplot as plt\n",
    "import seaborn as sns"
   ]
  },
  {
   "cell_type": "markdown",
   "id": "9d4dd537",
   "metadata": {},
   "source": [
    "### scikit-learn 모듈\n",
    "- Data Cleansing & Feature Engineering\n",
    "  - `sklearn.preprocessing`: 데이터 전처리 (인코딩, 정규화 등)\n",
    "  - `sklearn.feature_selection`: feature 선택\n",
    "  - `sklearn.feature_extraction`: feature 추출 (이미지, 텍스트로 부터 추출)\n",
    "- Model Evaluation\n",
    "  - `sklearn.model_selection`: 데이터 분리, 검증 및 모델 튜닝\n",
    "  - `sklearn.metrics`: 성능 평가\n",
    "- Supervised Learning Algorithm\n",
    "  - `sklearn.linear_model`: 선형 모델\n",
    "  - `sklearn.svm`: 서포트 벡터 머신\n",
    "  - `sklearn.tree`: 의사결정나무\n",
    "  - `sklearn.ensemble`: 앙상블 알고리즘\n",
    "- Unsupervised Learning Algorithm\n",
    "  - `sklearn.clsuter`: 군집 분석\n",
    "  - `sklearn.decomposition`: 차원 축소\n",
    "- Utility&Dataset\n",
    "  - `sklearn.pipeline`: 워크플로우 효율화\n",
    "  - `sklearn.datasets`: 예제 데이터셋"
   ]
  },
  {
   "cell_type": "markdown",
   "id": "ab958f43",
   "metadata": {},
   "source": [
    "### 데이터 불러오기\n",
    "```python\n",
    "train = pd.read_csv('train.csv')\n",
    "```"
   ]
  },
  {
   "cell_type": "markdown",
   "id": "1b8d1817",
   "metadata": {},
   "source": [
    "#### feature\n",
    "- `pclass`: 자리 등급 (1등석, 2등석, 3등석)\n",
    "- `name`: 승객 이름\n",
    "- `sex`: 승객 성별\n",
    "- `age`: 승객 나이\n",
    "- `sibsp`: 동승한 자매/배우자 수\n",
    "- `parch`: 동승한 부모/자식 수\n",
    "- `ticket`: 티켓 번호\n",
    "- `fare`: 승객 요금\n",
    "- `cabin`: 방 호수\n",
    "- `embarked`: 탑승지\n",
    "- ~`boat`: 탈출한 보트 번호~ <font color='darkgreen'>: target과 직접적인 연관이 있으므로 제외</font>\n",
    "- ~`body`: 사망자 확인 번호~ : <font color='darkgreen'>target과 직접적인 연관이 있으므로 제외</font>\n",
    "- `home.dest`: 고향/목적지\n",
    "\n",
    "#### target\n",
    "- `survived`: 생존 여부"
   ]
  },
  {
   "cell_type": "code",
   "execution_count": 8,
   "id": "2a99a8c1",
   "metadata": {},
   "outputs": [],
   "source": [
    "# 타이타닉 생존자 데이터\n",
    "from sklearn.datasets import fetch_openml"
   ]
  },
  {
   "cell_type": "code",
   "execution_count": 9,
   "id": "d1e1fcd2",
   "metadata": {},
   "outputs": [],
   "source": [
    "data = fetch_openml('titanic', version=1)"
   ]
  },
  {
   "cell_type": "code",
   "execution_count": 10,
   "id": "8ada845e",
   "metadata": {},
   "outputs": [
    {
     "data": {
      "text/plain": [
       "dict_keys(['data', 'target', 'frame', 'categories', 'feature_names', 'target_names', 'DESCR', 'details', 'url'])"
      ]
     },
     "execution_count": 10,
     "metadata": {},
     "output_type": "execute_result"
    }
   ],
   "source": [
    "data.keys()"
   ]
  },
  {
   "cell_type": "code",
   "execution_count": 11,
   "id": "eb3b6367",
   "metadata": {},
   "outputs": [],
   "source": [
    "X = data.data.drop(columns=['boat', 'body'])\n",
    "y = data.target"
   ]
  },
  {
   "cell_type": "code",
   "execution_count": 12,
   "id": "9f25a3b1",
   "metadata": {},
   "outputs": [
    {
     "data": {
      "text/html": [
       "<div>\n",
       "<style scoped>\n",
       "    .dataframe tbody tr th:only-of-type {\n",
       "        vertical-align: middle;\n",
       "    }\n",
       "\n",
       "    .dataframe tbody tr th {\n",
       "        vertical-align: top;\n",
       "    }\n",
       "\n",
       "    .dataframe thead th {\n",
       "        text-align: right;\n",
       "    }\n",
       "</style>\n",
       "<table border=\"1\" class=\"dataframe\">\n",
       "  <thead>\n",
       "    <tr style=\"text-align: right;\">\n",
       "      <th></th>\n",
       "      <th>pclass</th>\n",
       "      <th>name</th>\n",
       "      <th>sex</th>\n",
       "      <th>age</th>\n",
       "      <th>sibsp</th>\n",
       "      <th>parch</th>\n",
       "      <th>ticket</th>\n",
       "      <th>fare</th>\n",
       "      <th>cabin</th>\n",
       "      <th>embarked</th>\n",
       "      <th>home.dest</th>\n",
       "    </tr>\n",
       "  </thead>\n",
       "  <tbody>\n",
       "    <tr>\n",
       "      <th>0</th>\n",
       "      <td>1.0</td>\n",
       "      <td>Allen, Miss. Elisabeth Walton</td>\n",
       "      <td>female</td>\n",
       "      <td>29.0000</td>\n",
       "      <td>0.0</td>\n",
       "      <td>0.0</td>\n",
       "      <td>24160</td>\n",
       "      <td>211.3375</td>\n",
       "      <td>B5</td>\n",
       "      <td>S</td>\n",
       "      <td>St Louis, MO</td>\n",
       "    </tr>\n",
       "    <tr>\n",
       "      <th>1</th>\n",
       "      <td>1.0</td>\n",
       "      <td>Allison, Master. Hudson Trevor</td>\n",
       "      <td>male</td>\n",
       "      <td>0.9167</td>\n",
       "      <td>1.0</td>\n",
       "      <td>2.0</td>\n",
       "      <td>113781</td>\n",
       "      <td>151.5500</td>\n",
       "      <td>C22 C26</td>\n",
       "      <td>S</td>\n",
       "      <td>Montreal, PQ / Chesterville, ON</td>\n",
       "    </tr>\n",
       "    <tr>\n",
       "      <th>2</th>\n",
       "      <td>1.0</td>\n",
       "      <td>Allison, Miss. Helen Loraine</td>\n",
       "      <td>female</td>\n",
       "      <td>2.0000</td>\n",
       "      <td>1.0</td>\n",
       "      <td>2.0</td>\n",
       "      <td>113781</td>\n",
       "      <td>151.5500</td>\n",
       "      <td>C22 C26</td>\n",
       "      <td>S</td>\n",
       "      <td>Montreal, PQ / Chesterville, ON</td>\n",
       "    </tr>\n",
       "  </tbody>\n",
       "</table>\n",
       "</div>"
      ],
      "text/plain": [
       "   pclass                            name     sex      age  sibsp  parch  \\\n",
       "0     1.0   Allen, Miss. Elisabeth Walton  female  29.0000    0.0    0.0   \n",
       "1     1.0  Allison, Master. Hudson Trevor    male   0.9167    1.0    2.0   \n",
       "2     1.0    Allison, Miss. Helen Loraine  female   2.0000    1.0    2.0   \n",
       "\n",
       "   ticket      fare    cabin embarked                        home.dest  \n",
       "0   24160  211.3375       B5        S                     St Louis, MO  \n",
       "1  113781  151.5500  C22 C26        S  Montreal, PQ / Chesterville, ON  \n",
       "2  113781  151.5500  C22 C26        S  Montreal, PQ / Chesterville, ON  "
      ]
     },
     "metadata": {},
     "output_type": "display_data"
    },
    {
     "data": {
      "text/plain": [
       "0    1\n",
       "1    1\n",
       "2    0\n",
       "Name: survived, dtype: category\n",
       "Categories (2, object): ['0', '1']"
      ]
     },
     "metadata": {},
     "output_type": "display_data"
    }
   ],
   "source": [
    "display(X.head(3))\n",
    "display(y.head(3))"
   ]
  },
  {
   "cell_type": "markdown",
   "id": "0983ae22",
   "metadata": {},
   "source": [
    "### 데이터 분리"
   ]
  },
  {
   "cell_type": "code",
   "execution_count": 13,
   "id": "a6e2fe6f",
   "metadata": {},
   "outputs": [],
   "source": [
    "from sklearn.model_selection import train_test_split"
   ]
  },
  {
   "cell_type": "code",
   "execution_count": 14,
   "id": "b5a0a0b0",
   "metadata": {},
   "outputs": [],
   "source": [
    "X_train, X_test, y_train, y_test = train_test_split(X, y, test_size=.3, random_state=0)"
   ]
  },
  {
   "cell_type": "markdown",
   "id": "3d679d54",
   "metadata": {},
   "source": [
    "### EDA(탐색적 데이터 분석)"
   ]
  },
  {
   "cell_type": "code",
   "execution_count": 15,
   "id": "67b42114",
   "metadata": {},
   "outputs": [
    {
     "name": "stdout",
     "output_type": "stream",
     "text": [
      "<class 'pandas.core.frame.DataFrame'>\n",
      "Int64Index: 916 entries, 501 to 684\n",
      "Data columns (total 11 columns):\n",
      " #   Column     Non-Null Count  Dtype   \n",
      "---  ------     --------------  -----   \n",
      " 0   pclass     916 non-null    float64 \n",
      " 1   name       916 non-null    object  \n",
      " 2   sex        916 non-null    category\n",
      " 3   age        741 non-null    float64 \n",
      " 4   sibsp      916 non-null    float64 \n",
      " 5   parch      916 non-null    float64 \n",
      " 6   ticket     916 non-null    object  \n",
      " 7   fare       916 non-null    float64 \n",
      " 8   cabin      214 non-null    object  \n",
      " 9   embarked   914 non-null    category\n",
      " 10  home.dest  527 non-null    object  \n",
      "dtypes: category(2), float64(5), object(4)\n",
      "memory usage: 73.6+ KB\n"
     ]
    }
   ],
   "source": [
    "X_train.info()"
   ]
  },
  {
   "cell_type": "code",
   "execution_count": 16,
   "id": "7a795827",
   "metadata": {},
   "outputs": [
    {
     "data": {
      "image/png": "[encoded data removed]",
      "text/plain": [
       "<Figure size 432x288 with 1 Axes>"
      ]
     },
     "metadata": {
      "needs_background": "light"
     },
     "output_type": "display_data"
    }
   ],
   "source": [
    "X_train.isna().sum().plot.bar()\n",
    "plt.title('NaN value')\n",
    "plt.show()"
   ]
  },
  {
   "cell_type": "code",
   "execution_count": 17,
   "id": "6ea7b861",
   "metadata": {},
   "outputs": [
    {
     "data": {
      "image/png": "[encoded data removed]",
      "text/plain": [
       "<Figure size 432x288 with 1 Axes>"
      ]
     },
     "metadata": {
      "needs_background": "light"
     },
     "output_type": "display_data"
    }
   ],
   "source": [
    "d = pd.concat([X_train.sex, y_train], axis=1)\n",
    "sns.countplot(data=d, x='sex', hue='survived')\n",
    "plt.show()"
   ]
  },
  {
   "cell_type": "code",
   "execution_count": 18,
   "id": "7360ce4f",
   "metadata": {},
   "outputs": [
    {
     "data": {
      "image/png": "[encoded data removed]",
      "text/plain": [
       "<Figure size 432x288 with 1 Axes>"
      ]
     },
     "metadata": {
      "needs_background": "light"
     },
     "output_type": "display_data"
    }
   ],
   "source": [
    "X_train.fare.plot.box()\n",
    "plt.show()"
   ]
  },
  {
   "cell_type": "markdown",
   "id": "71dbfdfc",
   "metadata": {},
   "source": [
    "### 데이터 전처리\n",
    "검증, 평가 데이터셋에도 **\"동일\"**한 전처리를 수행해줘야 함"
   ]
  },
  {
   "cell_type": "code",
   "execution_count": 19,
   "id": "ade5985a",
   "metadata": {},
   "outputs": [],
   "source": [
    "pd.set_option('mode.chained_assignment',  None) ######경고 무시"
   ]
  },
  {
   "cell_type": "markdown",
   "id": "8dca7677",
   "metadata": {},
   "source": [
    "이상치 처리"
   ]
  },
  {
   "cell_type": "code",
   "execution_count": 20,
   "id": "bca83f54",
   "metadata": {},
   "outputs": [
    {
     "name": "stdout",
     "output_type": "stream",
     "text": [
      "42.9646\n"
     ]
    }
   ],
   "source": [
    "upper = X_train.fare.quantile(.25) + 1.5*(X_train.fare.quantile(.75) - X_train.fare.quantile(.25))\n",
    "print(upper)"
   ]
  },
  {
   "cell_type": "code",
   "execution_count": 21,
   "id": "e1da8528",
   "metadata": {
    "scrolled": false
   },
   "outputs": [],
   "source": [
    "X_train.fare = X_train.fare.clip(upper=upper)"
   ]
  },
  {
   "cell_type": "code",
   "execution_count": 22,
   "id": "9a23390d",
   "metadata": {},
   "outputs": [
    {
     "data": {
      "image/png": "[encoded data removed]",
      "text/plain": [
       "<Figure size 432x288 with 1 Axes>"
      ]
     },
     "metadata": {
      "needs_background": "light"
     },
     "output_type": "display_data"
    }
   ],
   "source": [
    "X_train.fare.plot.box()\n",
    "plt.show()"
   ]
  },
  {
   "cell_type": "code",
   "execution_count": 23,
   "id": "20df6c41",
   "metadata": {},
   "outputs": [],
   "source": [
    "X_test.fare = X_test.fare.clip(upper=upper)"
   ]
  },
  {
   "cell_type": "markdown",
   "id": "f7114b0a",
   "metadata": {},
   "source": [
    "결측값 처리"
   ]
  },
  {
   "cell_type": "code",
   "execution_count": 24,
   "id": "060fb32a",
   "metadata": {},
   "outputs": [],
   "source": [
    "X_train['age'] = X_train.age.fillna(X_train.age.mean())\n",
    "X_train['cabin'] = X_train.cabin.fillna(X_train.cabin.mode()[0])\n",
    "X_train['embarked'] = X_train.embarked.fillna(X_train.embarked.mode()[0])\n",
    "X_train['home.dest'] = X_train['home.dest'].fillna('결측치')"
   ]
  },
  {
   "cell_type": "code",
   "execution_count": 25,
   "id": "decefff3",
   "metadata": {},
   "outputs": [],
   "source": [
    "X_test['age'] = X_test.age.fillna(X_train.age.mean())\n",
    "X_test['fare'] = X_test.fare.fillna(X_train.fare.mean())\n",
    "X_test['cabin'] = X_test.cabin.fillna(X_train.cabin.mode()[0])\n",
    "X_test['embarked'] = X_test.embarked.fillna(X_train.embarked.mode()[0])\n",
    "X_test['home.dest'] = X_test['home.dest'].fillna('결측치')"
   ]
  },
  {
   "cell_type": "markdown",
   "id": "90c3a024",
   "metadata": {},
   "source": [
    "범주형 변수 처리"
   ]
  },
  {
   "cell_type": "code",
   "execution_count": 26,
   "id": "7b9e0d74",
   "metadata": {},
   "outputs": [],
   "source": [
    "X_train.sex = X_train.sex.replace(['male', 'female'], [0, 1])\n",
    "X_test.sex = X_test.sex.replace(['male', 'female'], [0, 1])\n",
    "\n",
    "value2idx = {x:i for i, x in enumerate(X_train.ticket.unique())}\n",
    "X_train['ticket'] = X_train.ticket.map(lambda x: value2idx[x])\n",
    "X_test['ticket'] = X_test.ticket.map(lambda x: value2idx.get(x,-1))\n",
    "\n",
    "value2idx = {x:i for i, x in enumerate(X_train.cabin.unique())}\n",
    "X_train['cabin'] = X_train.cabin.map(lambda x: value2idx[x])\n",
    "X_test['cabin'] = X_test.cabin.map(lambda x: value2idx.get(x, -1))\n",
    "\n",
    "value2idx = {x:i for i, x in enumerate(X_train.embarked.cat.categories)}\n",
    "X_train['embarked'] = X_train.embarked.map(lambda x: value2idx[x])\n",
    "X_test['embarked'] = X_test.embarked.map(lambda x: value2idx.get(x, -1))\n",
    "\n",
    "value2idx = {x:i for i, x in enumerate(X_train['home.dest'].unique())}\n",
    "X_train['home.dest'] = X_train['home.dest'].map(lambda x: value2idx[x])\n",
    "X_test['home.dest'] = X_test['home.dest'].map(lambda x: value2idx.get(x, -1))"
   ]
  },
  {
   "cell_type": "code",
   "execution_count": 27,
   "id": "f87fcaaf",
   "metadata": {},
   "outputs": [],
   "source": [
    "X_train = X_train.drop(columns='name')\n",
    "X_test = X_test.drop(columns='name')"
   ]
  },
  {
   "cell_type": "markdown",
   "id": "96bd69f4",
   "metadata": {},
   "source": [
    "### feature 생성"
   ]
  },
  {
   "cell_type": "code",
   "execution_count": 28,
   "id": "33a67431",
   "metadata": {},
   "outputs": [],
   "source": [
    "# feature 생성 예시\n",
    "X_train['나이대'] = X_train.age.map(lambda x: str(x)[0]+'0대')\n",
    "\n",
    "value2idx = {x:i for i, x in enumerate(X_train.나이대.unique())}\n",
    "X_train['나이대'] = X_train.나이대.map(lambda x: value2idx[x])\n",
    "\n",
    "X_test['나이대'] = X_test.age.map(lambda x: str(x)[0]+'0대')\n",
    "\n",
    "value2idx = {x:i for i, x in enumerate(X_test.나이대.unique())}\n",
    "X_test['나이대'] = X_test.나이대.map(lambda x: value2idx[x])"
   ]
  },
  {
   "cell_type": "code",
   "execution_count": 29,
   "id": "7d3fdfc6",
   "metadata": {},
   "outputs": [],
   "source": [
    "### 과제: feature를 생성하여 모델의 성능을 높이시오."
   ]
  },
  {
   "cell_type": "code",
   "execution_count": 30,
   "id": "6fbbce75",
   "metadata": {},
   "outputs": [],
   "source": [
    "# 1. 승객요금 3구간으로 나누기\n",
    "\n",
    "X_train['fare_class'] = pd.qcut(X_train['fare'],3,labels=['low', 'medium', 'high'])\n",
    "X_test['fare_class'] = pd.qcut(X_test['fare'],3,labels=['low', 'medium', 'high'])"
   ]
  },
  {
   "cell_type": "code",
   "execution_count": 31,
   "id": "61e67b60",
   "metadata": {
    "scrolled": true
   },
   "outputs": [
    {
     "data": {
      "text/html": [
       "<div>\n",
       "<style scoped>\n",
       "    .dataframe tbody tr th:only-of-type {\n",
       "        vertical-align: middle;\n",
       "    }\n",
       "\n",
       "    .dataframe tbody tr th {\n",
       "        vertical-align: top;\n",
       "    }\n",
       "\n",
       "    .dataframe thead th {\n",
       "        text-align: right;\n",
       "    }\n",
       "</style>\n",
       "<table border=\"1\" class=\"dataframe\">\n",
       "  <thead>\n",
       "    <tr style=\"text-align: right;\">\n",
       "      <th></th>\n",
       "      <th>count</th>\n",
       "      <th>mean</th>\n",
       "      <th>std</th>\n",
       "      <th>min</th>\n",
       "      <th>25%</th>\n",
       "      <th>50%</th>\n",
       "      <th>75%</th>\n",
       "      <th>max</th>\n",
       "    </tr>\n",
       "    <tr>\n",
       "      <th>fare_class</th>\n",
       "      <th></th>\n",
       "      <th></th>\n",
       "      <th></th>\n",
       "      <th></th>\n",
       "      <th></th>\n",
       "      <th></th>\n",
       "      <th></th>\n",
       "      <th></th>\n",
       "    </tr>\n",
       "  </thead>\n",
       "  <tbody>\n",
       "    <tr>\n",
       "      <th>low</th>\n",
       "      <td>319.0</td>\n",
       "      <td>7.355746</td>\n",
       "      <td>1.670772</td>\n",
       "      <td>0.0000</td>\n",
       "      <td>7.2500</td>\n",
       "      <td>7.7750</td>\n",
       "      <td>7.8958</td>\n",
       "      <td>8.6625</td>\n",
       "    </tr>\n",
       "    <tr>\n",
       "      <th>medium</th>\n",
       "      <td>301.0</td>\n",
       "      <td>16.470501</td>\n",
       "      <td>5.418770</td>\n",
       "      <td>8.6833</td>\n",
       "      <td>13.0000</td>\n",
       "      <td>14.5000</td>\n",
       "      <td>21.0000</td>\n",
       "      <td>26.0000</td>\n",
       "    </tr>\n",
       "    <tr>\n",
       "      <th>high</th>\n",
       "      <td>296.0</td>\n",
       "      <td>38.513424</td>\n",
       "      <td>6.269733</td>\n",
       "      <td>26.2500</td>\n",
       "      <td>31.6344</td>\n",
       "      <td>42.9646</td>\n",
       "      <td>42.9646</td>\n",
       "      <td>42.9646</td>\n",
       "    </tr>\n",
       "  </tbody>\n",
       "</table>\n",
       "</div>"
      ],
      "text/plain": [
       "            count       mean       std      min      25%      50%      75%  \\\n",
       "fare_class                                                                   \n",
       "low         319.0   7.355746  1.670772   0.0000   7.2500   7.7750   7.8958   \n",
       "medium      301.0  16.470501  5.418770   8.6833  13.0000  14.5000  21.0000   \n",
       "high        296.0  38.513424  6.269733  26.2500  31.6344  42.9646  42.9646   \n",
       "\n",
       "                max  \n",
       "fare_class           \n",
       "low          8.6625  \n",
       "medium      26.0000  \n",
       "high        42.9646  "
      ]
     },
     "execution_count": 31,
     "metadata": {},
     "output_type": "execute_result"
    }
   ],
   "source": [
    "X_train.groupby('fare_class')['fare'].describe()"
   ]
  },
  {
   "cell_type": "code",
   "execution_count": 32,
   "id": "03ba5134",
   "metadata": {},
   "outputs": [],
   "source": [
    "# 2. 가족 수 구분\n",
    "\n",
    "X_train['familysize'] = X_train.sibsp + X_train.parch + 1\n",
    "X_test['familysize'] = X_test.sibsp + X_test.parch + 1"
   ]
  },
  {
   "cell_type": "code",
   "execution_count": 33,
   "id": "73a20326",
   "metadata": {},
   "outputs": [],
   "source": [
    "# 3. 1인 구분\n",
    "\n",
    "X_train['single'] = np.where(X_train.sibsp + X_train.parch == 0, 1, 0)\n",
    "X_test['single'] = np.where(X_test.sibsp + X_test.parch == 0, 1, 0)"
   ]
  },
  {
   "cell_type": "code",
   "execution_count": 34,
   "id": "2e1788aa",
   "metadata": {},
   "outputs": [],
   "source": [
    "# 4. 미성년자 구분\n",
    "\n",
    "X_train[\"child\"] = X_train.apply(lambda i: \"adult\" if i.age >= 20 else \"child\", axis=1)\n",
    "X_test[\"child\"] = X_test.apply(lambda i: \"adult\" if i.age >= 20 else \"child\", axis=1)"
   ]
  },
  {
   "cell_type": "code",
   "execution_count": 35,
   "id": "f204fa57",
   "metadata": {},
   "outputs": [
    {
     "data": {
      "text/html": [
       "<div>\n",
       "<style scoped>\n",
       "    .dataframe tbody tr th:only-of-type {\n",
       "        vertical-align: middle;\n",
       "    }\n",
       "\n",
       "    .dataframe tbody tr th {\n",
       "        vertical-align: top;\n",
       "    }\n",
       "\n",
       "    .dataframe thead th {\n",
       "        text-align: right;\n",
       "    }\n",
       "</style>\n",
       "<table border=\"1\" class=\"dataframe\">\n",
       "  <thead>\n",
       "    <tr style=\"text-align: right;\">\n",
       "      <th></th>\n",
       "      <th>pclass</th>\n",
       "      <th>sex</th>\n",
       "      <th>age</th>\n",
       "      <th>sibsp</th>\n",
       "      <th>parch</th>\n",
       "      <th>ticket</th>\n",
       "      <th>fare</th>\n",
       "      <th>cabin</th>\n",
       "      <th>embarked</th>\n",
       "      <th>home.dest</th>\n",
       "      <th>나이대</th>\n",
       "      <th>fare_class</th>\n",
       "      <th>familysize</th>\n",
       "      <th>single</th>\n",
       "      <th>child</th>\n",
       "    </tr>\n",
       "  </thead>\n",
       "  <tbody>\n",
       "    <tr>\n",
       "      <th>501</th>\n",
       "      <td>2.0</td>\n",
       "      <td>1</td>\n",
       "      <td>13.000000</td>\n",
       "      <td>0.0</td>\n",
       "      <td>1.0</td>\n",
       "      <td>0</td>\n",
       "      <td>19.5000</td>\n",
       "      <td>0</td>\n",
       "      <td>2</td>\n",
       "      <td>0</td>\n",
       "      <td>0</td>\n",
       "      <td>medium</td>\n",
       "      <td>2.0</td>\n",
       "      <td>0</td>\n",
       "      <td>child</td>\n",
       "    </tr>\n",
       "    <tr>\n",
       "      <th>588</th>\n",
       "      <td>2.0</td>\n",
       "      <td>1</td>\n",
       "      <td>4.000000</td>\n",
       "      <td>1.0</td>\n",
       "      <td>1.0</td>\n",
       "      <td>1</td>\n",
       "      <td>23.0000</td>\n",
       "      <td>0</td>\n",
       "      <td>2</td>\n",
       "      <td>1</td>\n",
       "      <td>1</td>\n",
       "      <td>medium</td>\n",
       "      <td>3.0</td>\n",
       "      <td>0</td>\n",
       "      <td>child</td>\n",
       "    </tr>\n",
       "    <tr>\n",
       "      <th>402</th>\n",
       "      <td>2.0</td>\n",
       "      <td>1</td>\n",
       "      <td>30.000000</td>\n",
       "      <td>1.0</td>\n",
       "      <td>0.0</td>\n",
       "      <td>2</td>\n",
       "      <td>13.8583</td>\n",
       "      <td>0</td>\n",
       "      <td>0</td>\n",
       "      <td>2</td>\n",
       "      <td>2</td>\n",
       "      <td>medium</td>\n",
       "      <td>2.0</td>\n",
       "      <td>0</td>\n",
       "      <td>adult</td>\n",
       "    </tr>\n",
       "    <tr>\n",
       "      <th>1193</th>\n",
       "      <td>3.0</td>\n",
       "      <td>0</td>\n",
       "      <td>30.231444</td>\n",
       "      <td>0.0</td>\n",
       "      <td>0.0</td>\n",
       "      <td>3</td>\n",
       "      <td>7.7250</td>\n",
       "      <td>0</td>\n",
       "      <td>1</td>\n",
       "      <td>3</td>\n",
       "      <td>2</td>\n",
       "      <td>low</td>\n",
       "      <td>1.0</td>\n",
       "      <td>1</td>\n",
       "      <td>adult</td>\n",
       "    </tr>\n",
       "    <tr>\n",
       "      <th>686</th>\n",
       "      <td>3.0</td>\n",
       "      <td>1</td>\n",
       "      <td>22.000000</td>\n",
       "      <td>0.0</td>\n",
       "      <td>0.0</td>\n",
       "      <td>4</td>\n",
       "      <td>7.7250</td>\n",
       "      <td>0</td>\n",
       "      <td>1</td>\n",
       "      <td>4</td>\n",
       "      <td>3</td>\n",
       "      <td>low</td>\n",
       "      <td>1.0</td>\n",
       "      <td>1</td>\n",
       "      <td>adult</td>\n",
       "    </tr>\n",
       "    <tr>\n",
       "      <th>...</th>\n",
       "      <td>...</td>\n",
       "      <td>...</td>\n",
       "      <td>...</td>\n",
       "      <td>...</td>\n",
       "      <td>...</td>\n",
       "      <td>...</td>\n",
       "      <td>...</td>\n",
       "      <td>...</td>\n",
       "      <td>...</td>\n",
       "      <td>...</td>\n",
       "      <td>...</td>\n",
       "      <td>...</td>\n",
       "      <td>...</td>\n",
       "      <td>...</td>\n",
       "      <td>...</td>\n",
       "    </tr>\n",
       "    <tr>\n",
       "      <th>763</th>\n",
       "      <td>3.0</td>\n",
       "      <td>1</td>\n",
       "      <td>0.166700</td>\n",
       "      <td>1.0</td>\n",
       "      <td>2.0</td>\n",
       "      <td>98</td>\n",
       "      <td>20.5750</td>\n",
       "      <td>0</td>\n",
       "      <td>2</td>\n",
       "      <td>51</td>\n",
       "      <td>4</td>\n",
       "      <td>medium</td>\n",
       "      <td>4.0</td>\n",
       "      <td>0</td>\n",
       "      <td>child</td>\n",
       "    </tr>\n",
       "    <tr>\n",
       "      <th>835</th>\n",
       "      <td>3.0</td>\n",
       "      <td>0</td>\n",
       "      <td>30.231444</td>\n",
       "      <td>0.0</td>\n",
       "      <td>0.0</td>\n",
       "      <td>696</td>\n",
       "      <td>8.0500</td>\n",
       "      <td>0</td>\n",
       "      <td>2</td>\n",
       "      <td>3</td>\n",
       "      <td>2</td>\n",
       "      <td>low</td>\n",
       "      <td>1.0</td>\n",
       "      <td>1</td>\n",
       "      <td>adult</td>\n",
       "    </tr>\n",
       "    <tr>\n",
       "      <th>1216</th>\n",
       "      <td>3.0</td>\n",
       "      <td>1</td>\n",
       "      <td>30.231444</td>\n",
       "      <td>0.0</td>\n",
       "      <td>0.0</td>\n",
       "      <td>697</td>\n",
       "      <td>7.7333</td>\n",
       "      <td>0</td>\n",
       "      <td>1</td>\n",
       "      <td>3</td>\n",
       "      <td>2</td>\n",
       "      <td>low</td>\n",
       "      <td>1.0</td>\n",
       "      <td>1</td>\n",
       "      <td>adult</td>\n",
       "    </tr>\n",
       "    <tr>\n",
       "      <th>559</th>\n",
       "      <td>2.0</td>\n",
       "      <td>1</td>\n",
       "      <td>20.000000</td>\n",
       "      <td>0.0</td>\n",
       "      <td>0.0</td>\n",
       "      <td>296</td>\n",
       "      <td>36.7500</td>\n",
       "      <td>0</td>\n",
       "      <td>2</td>\n",
       "      <td>159</td>\n",
       "      <td>3</td>\n",
       "      <td>high</td>\n",
       "      <td>1.0</td>\n",
       "      <td>1</td>\n",
       "      <td>adult</td>\n",
       "    </tr>\n",
       "    <tr>\n",
       "      <th>684</th>\n",
       "      <td>3.0</td>\n",
       "      <td>1</td>\n",
       "      <td>32.000000</td>\n",
       "      <td>1.0</td>\n",
       "      <td>1.0</td>\n",
       "      <td>397</td>\n",
       "      <td>15.5000</td>\n",
       "      <td>0</td>\n",
       "      <td>1</td>\n",
       "      <td>185</td>\n",
       "      <td>2</td>\n",
       "      <td>medium</td>\n",
       "      <td>3.0</td>\n",
       "      <td>0</td>\n",
       "      <td>adult</td>\n",
       "    </tr>\n",
       "  </tbody>\n",
       "</table>\n",
       "<p>916 rows × 15 columns</p>\n",
       "</div>"
      ],
      "text/plain": [
       "      pclass sex        age  sibsp  parch  ticket     fare  cabin embarked  \\\n",
       "501      2.0   1  13.000000    0.0    1.0       0  19.5000      0        2   \n",
       "588      2.0   1   4.000000    1.0    1.0       1  23.0000      0        2   \n",
       "402      2.0   1  30.000000    1.0    0.0       2  13.8583      0        0   \n",
       "1193     3.0   0  30.231444    0.0    0.0       3   7.7250      0        1   \n",
       "686      3.0   1  22.000000    0.0    0.0       4   7.7250      0        1   \n",
       "...      ...  ..        ...    ...    ...     ...      ...    ...      ...   \n",
       "763      3.0   1   0.166700    1.0    2.0      98  20.5750      0        2   \n",
       "835      3.0   0  30.231444    0.0    0.0     696   8.0500      0        2   \n",
       "1216     3.0   1  30.231444    0.0    0.0     697   7.7333      0        1   \n",
       "559      2.0   1  20.000000    0.0    0.0     296  36.7500      0        2   \n",
       "684      3.0   1  32.000000    1.0    1.0     397  15.5000      0        1   \n",
       "\n",
       "      home.dest  나이대 fare_class  familysize  single  child  \n",
       "501           0    0     medium         2.0       0  child  \n",
       "588           1    1     medium         3.0       0  child  \n",
       "402           2    2     medium         2.0       0  adult  \n",
       "1193          3    2        low         1.0       1  adult  \n",
       "686           4    3        low         1.0       1  adult  \n",
       "...         ...  ...        ...         ...     ...    ...  \n",
       "763          51    4     medium         4.0       0  child  \n",
       "835           3    2        low         1.0       1  adult  \n",
       "1216          3    2        low         1.0       1  adult  \n",
       "559         159    3       high         1.0       1  adult  \n",
       "684         185    2     medium         3.0       0  adult  \n",
       "\n",
       "[916 rows x 15 columns]"
      ]
     },
     "execution_count": 35,
     "metadata": {},
     "output_type": "execute_result"
    }
   ],
   "source": [
    "X_train"
   ]
  },
  {
   "cell_type": "code",
   "execution_count": 36,
   "id": "bb0ad37a",
   "metadata": {},
   "outputs": [
    {
     "data": {
      "text/html": [
       "<div>\n",
       "<style scoped>\n",
       "    .dataframe tbody tr th:only-of-type {\n",
       "        vertical-align: middle;\n",
       "    }\n",
       "\n",
       "    .dataframe tbody tr th {\n",
       "        vertical-align: top;\n",
       "    }\n",
       "\n",
       "    .dataframe thead th {\n",
       "        text-align: right;\n",
       "    }\n",
       "</style>\n",
       "<table border=\"1\" class=\"dataframe\">\n",
       "  <thead>\n",
       "    <tr style=\"text-align: right;\">\n",
       "      <th></th>\n",
       "      <th>pclass</th>\n",
       "      <th>sex</th>\n",
       "      <th>age</th>\n",
       "      <th>sibsp</th>\n",
       "      <th>parch</th>\n",
       "      <th>ticket</th>\n",
       "      <th>fare</th>\n",
       "      <th>cabin</th>\n",
       "      <th>embarked</th>\n",
       "      <th>home.dest</th>\n",
       "      <th>나이대</th>\n",
       "      <th>fare_class</th>\n",
       "      <th>familysize</th>\n",
       "      <th>single</th>\n",
       "      <th>child</th>\n",
       "    </tr>\n",
       "  </thead>\n",
       "  <tbody>\n",
       "    <tr>\n",
       "      <th>1139</th>\n",
       "      <td>3.0</td>\n",
       "      <td>0</td>\n",
       "      <td>38.000000</td>\n",
       "      <td>0.0</td>\n",
       "      <td>0.0</td>\n",
       "      <td>-1</td>\n",
       "      <td>7.8958</td>\n",
       "      <td>0</td>\n",
       "      <td>2</td>\n",
       "      <td>3</td>\n",
       "      <td>0</td>\n",
       "      <td>low</td>\n",
       "      <td>1.0</td>\n",
       "      <td>1</td>\n",
       "      <td>adult</td>\n",
       "    </tr>\n",
       "    <tr>\n",
       "      <th>533</th>\n",
       "      <td>2.0</td>\n",
       "      <td>1</td>\n",
       "      <td>21.000000</td>\n",
       "      <td>0.0</td>\n",
       "      <td>1.0</td>\n",
       "      <td>-1</td>\n",
       "      <td>21.0000</td>\n",
       "      <td>0</td>\n",
       "      <td>2</td>\n",
       "      <td>-1</td>\n",
       "      <td>1</td>\n",
       "      <td>medium</td>\n",
       "      <td>2.0</td>\n",
       "      <td>0</td>\n",
       "      <td>adult</td>\n",
       "    </tr>\n",
       "    <tr>\n",
       "      <th>459</th>\n",
       "      <td>2.0</td>\n",
       "      <td>0</td>\n",
       "      <td>42.000000</td>\n",
       "      <td>1.0</td>\n",
       "      <td>0.0</td>\n",
       "      <td>359</td>\n",
       "      <td>27.0000</td>\n",
       "      <td>0</td>\n",
       "      <td>2</td>\n",
       "      <td>59</td>\n",
       "      <td>2</td>\n",
       "      <td>high</td>\n",
       "      <td>2.0</td>\n",
       "      <td>0</td>\n",
       "      <td>adult</td>\n",
       "    </tr>\n",
       "    <tr>\n",
       "      <th>1150</th>\n",
       "      <td>3.0</td>\n",
       "      <td>0</td>\n",
       "      <td>30.231444</td>\n",
       "      <td>0.0</td>\n",
       "      <td>0.0</td>\n",
       "      <td>269</td>\n",
       "      <td>14.5000</td>\n",
       "      <td>0</td>\n",
       "      <td>2</td>\n",
       "      <td>3</td>\n",
       "      <td>0</td>\n",
       "      <td>medium</td>\n",
       "      <td>1.0</td>\n",
       "      <td>1</td>\n",
       "      <td>adult</td>\n",
       "    </tr>\n",
       "    <tr>\n",
       "      <th>393</th>\n",
       "      <td>2.0</td>\n",
       "      <td>0</td>\n",
       "      <td>25.000000</td>\n",
       "      <td>0.0</td>\n",
       "      <td>0.0</td>\n",
       "      <td>268</td>\n",
       "      <td>31.5000</td>\n",
       "      <td>0</td>\n",
       "      <td>2</td>\n",
       "      <td>123</td>\n",
       "      <td>1</td>\n",
       "      <td>high</td>\n",
       "      <td>1.0</td>\n",
       "      <td>1</td>\n",
       "      <td>adult</td>\n",
       "    </tr>\n",
       "    <tr>\n",
       "      <th>...</th>\n",
       "      <td>...</td>\n",
       "      <td>...</td>\n",
       "      <td>...</td>\n",
       "      <td>...</td>\n",
       "      <td>...</td>\n",
       "      <td>...</td>\n",
       "      <td>...</td>\n",
       "      <td>...</td>\n",
       "      <td>...</td>\n",
       "      <td>...</td>\n",
       "      <td>...</td>\n",
       "      <td>...</td>\n",
       "      <td>...</td>\n",
       "      <td>...</td>\n",
       "      <td>...</td>\n",
       "    </tr>\n",
       "    <tr>\n",
       "      <th>914</th>\n",
       "      <td>3.0</td>\n",
       "      <td>0</td>\n",
       "      <td>33.000000</td>\n",
       "      <td>0.0</td>\n",
       "      <td>0.0</td>\n",
       "      <td>-1</td>\n",
       "      <td>7.8542</td>\n",
       "      <td>0</td>\n",
       "      <td>2</td>\n",
       "      <td>3</td>\n",
       "      <td>0</td>\n",
       "      <td>low</td>\n",
       "      <td>1.0</td>\n",
       "      <td>1</td>\n",
       "      <td>adult</td>\n",
       "    </tr>\n",
       "    <tr>\n",
       "      <th>580</th>\n",
       "      <td>2.0</td>\n",
       "      <td>1</td>\n",
       "      <td>31.000000</td>\n",
       "      <td>0.0</td>\n",
       "      <td>0.0</td>\n",
       "      <td>168</td>\n",
       "      <td>21.0000</td>\n",
       "      <td>0</td>\n",
       "      <td>2</td>\n",
       "      <td>80</td>\n",
       "      <td>0</td>\n",
       "      <td>medium</td>\n",
       "      <td>1.0</td>\n",
       "      <td>1</td>\n",
       "      <td>adult</td>\n",
       "    </tr>\n",
       "    <tr>\n",
       "      <th>1080</th>\n",
       "      <td>3.0</td>\n",
       "      <td>0</td>\n",
       "      <td>30.231444</td>\n",
       "      <td>0.0</td>\n",
       "      <td>0.0</td>\n",
       "      <td>-1</td>\n",
       "      <td>7.7500</td>\n",
       "      <td>0</td>\n",
       "      <td>1</td>\n",
       "      <td>3</td>\n",
       "      <td>0</td>\n",
       "      <td>low</td>\n",
       "      <td>1.0</td>\n",
       "      <td>1</td>\n",
       "      <td>adult</td>\n",
       "    </tr>\n",
       "    <tr>\n",
       "      <th>1249</th>\n",
       "      <td>3.0</td>\n",
       "      <td>0</td>\n",
       "      <td>30.231444</td>\n",
       "      <td>0.0</td>\n",
       "      <td>0.0</td>\n",
       "      <td>-1</td>\n",
       "      <td>7.7500</td>\n",
       "      <td>-1</td>\n",
       "      <td>1</td>\n",
       "      <td>3</td>\n",
       "      <td>0</td>\n",
       "      <td>low</td>\n",
       "      <td>1.0</td>\n",
       "      <td>1</td>\n",
       "      <td>adult</td>\n",
       "    </tr>\n",
       "    <tr>\n",
       "      <th>88</th>\n",
       "      <td>1.0</td>\n",
       "      <td>1</td>\n",
       "      <td>33.000000</td>\n",
       "      <td>0.0</td>\n",
       "      <td>0.0</td>\n",
       "      <td>11</td>\n",
       "      <td>42.9646</td>\n",
       "      <td>0</td>\n",
       "      <td>2</td>\n",
       "      <td>3</td>\n",
       "      <td>0</td>\n",
       "      <td>high</td>\n",
       "      <td>1.0</td>\n",
       "      <td>1</td>\n",
       "      <td>adult</td>\n",
       "    </tr>\n",
       "  </tbody>\n",
       "</table>\n",
       "<p>393 rows × 15 columns</p>\n",
       "</div>"
      ],
      "text/plain": [
       "      pclass sex        age  sibsp  parch  ticket     fare  cabin embarked  \\\n",
       "1139     3.0   0  38.000000    0.0    0.0      -1   7.8958      0        2   \n",
       "533      2.0   1  21.000000    0.0    1.0      -1  21.0000      0        2   \n",
       "459      2.0   0  42.000000    1.0    0.0     359  27.0000      0        2   \n",
       "1150     3.0   0  30.231444    0.0    0.0     269  14.5000      0        2   \n",
       "393      2.0   0  25.000000    0.0    0.0     268  31.5000      0        2   \n",
       "...      ...  ..        ...    ...    ...     ...      ...    ...      ...   \n",
       "914      3.0   0  33.000000    0.0    0.0      -1   7.8542      0        2   \n",
       "580      2.0   1  31.000000    0.0    0.0     168  21.0000      0        2   \n",
       "1080     3.0   0  30.231444    0.0    0.0      -1   7.7500      0        1   \n",
       "1249     3.0   0  30.231444    0.0    0.0      -1   7.7500     -1        1   \n",
       "88       1.0   1  33.000000    0.0    0.0      11  42.9646      0        2   \n",
       "\n",
       "      home.dest  나이대 fare_class  familysize  single  child  \n",
       "1139          3    0        low         1.0       1  adult  \n",
       "533          -1    1     medium         2.0       0  adult  \n",
       "459          59    2       high         2.0       0  adult  \n",
       "1150          3    0     medium         1.0       1  adult  \n",
       "393         123    1       high         1.0       1  adult  \n",
       "...         ...  ...        ...         ...     ...    ...  \n",
       "914           3    0        low         1.0       1  adult  \n",
       "580          80    0     medium         1.0       1  adult  \n",
       "1080          3    0        low         1.0       1  adult  \n",
       "1249          3    0        low         1.0       1  adult  \n",
       "88            3    0       high         1.0       1  adult  \n",
       "\n",
       "[393 rows x 15 columns]"
      ]
     },
     "execution_count": 36,
     "metadata": {},
     "output_type": "execute_result"
    }
   ],
   "source": [
    "X_test"
   ]
  },
  {
   "cell_type": "markdown",
   "id": "cef60bd8",
   "metadata": {},
   "source": [
    "### 모델 학습"
   ]
  },
  {
   "cell_type": "code",
   "execution_count": 37,
   "id": "427621ad",
   "metadata": {},
   "outputs": [],
   "source": [
    "from sklearn.ensemble import RandomForestClassifier"
   ]
  },
  {
   "cell_type": "code",
   "execution_count": 38,
   "id": "800143cb",
   "metadata": {},
   "outputs": [
    {
     "ename": "ValueError",
     "evalue": "could not convert string to float: 'medium'",
     "output_type": "error",
     "traceback": [
      "\u001b[1;31m---------------------------------------------------------------------------\u001b[0m",
      "\u001b[1;31mValueError\u001b[0m                                Traceback (most recent call last)",
      "Input \u001b[1;32mIn [38]\u001b[0m, in \u001b[0;36m<cell line: 2>\u001b[1;34m()\u001b[0m\n\u001b[0;32m      1\u001b[0m model \u001b[38;5;241m=\u001b[39m RandomForestClassifier(random_state\u001b[38;5;241m=\u001b[39m\u001b[38;5;241m0\u001b[39m)\n\u001b[1;32m----> 2\u001b[0m \u001b[43mmodel\u001b[49m\u001b[38;5;241;43m.\u001b[39;49m\u001b[43mfit\u001b[49m\u001b[43m(\u001b[49m\u001b[43mX_train\u001b[49m\u001b[43m,\u001b[49m\u001b[43m \u001b[49m\u001b[43my_train\u001b[49m\u001b[43m)\u001b[49m\n",
      "File \u001b[1;32m~\\anaconda3\\lib\\site-packages\\sklearn\\ensemble\\_forest.py:327\u001b[0m, in \u001b[0;36mBaseForest.fit\u001b[1;34m(self, X, y, sample_weight)\u001b[0m\n\u001b[0;32m    325\u001b[0m \u001b[38;5;28;01mif\u001b[39;00m issparse(y):\n\u001b[0;32m    326\u001b[0m     \u001b[38;5;28;01mraise\u001b[39;00m \u001b[38;5;167;01mValueError\u001b[39;00m(\u001b[38;5;124m\"\u001b[39m\u001b[38;5;124msparse multilabel-indicator for y is not supported.\u001b[39m\u001b[38;5;124m\"\u001b[39m)\n\u001b[1;32m--> 327\u001b[0m X, y \u001b[38;5;241m=\u001b[39m \u001b[38;5;28;43mself\u001b[39;49m\u001b[38;5;241;43m.\u001b[39;49m\u001b[43m_validate_data\u001b[49m\u001b[43m(\u001b[49m\n\u001b[0;32m    328\u001b[0m \u001b[43m    \u001b[49m\u001b[43mX\u001b[49m\u001b[43m,\u001b[49m\u001b[43m \u001b[49m\u001b[43my\u001b[49m\u001b[43m,\u001b[49m\u001b[43m \u001b[49m\u001b[43mmulti_output\u001b[49m\u001b[38;5;241;43m=\u001b[39;49m\u001b[38;5;28;43;01mTrue\u001b[39;49;00m\u001b[43m,\u001b[49m\u001b[43m \u001b[49m\u001b[43maccept_sparse\u001b[49m\u001b[38;5;241;43m=\u001b[39;49m\u001b[38;5;124;43m\"\u001b[39;49m\u001b[38;5;124;43mcsc\u001b[39;49m\u001b[38;5;124;43m\"\u001b[39;49m\u001b[43m,\u001b[49m\u001b[43m \u001b[49m\u001b[43mdtype\u001b[49m\u001b[38;5;241;43m=\u001b[39;49m\u001b[43mDTYPE\u001b[49m\n\u001b[0;32m    329\u001b[0m \u001b[43m\u001b[49m\u001b[43m)\u001b[49m\n\u001b[0;32m    330\u001b[0m \u001b[38;5;28;01mif\u001b[39;00m sample_weight \u001b[38;5;129;01mis\u001b[39;00m \u001b[38;5;129;01mnot\u001b[39;00m \u001b[38;5;28;01mNone\u001b[39;00m:\n\u001b[0;32m    331\u001b[0m     sample_weight \u001b[38;5;241m=\u001b[39m _check_sample_weight(sample_weight, X)\n",
      "File \u001b[1;32m~\\anaconda3\\lib\\site-packages\\sklearn\\base.py:581\u001b[0m, in \u001b[0;36mBaseEstimator._validate_data\u001b[1;34m(self, X, y, reset, validate_separately, **check_params)\u001b[0m\n\u001b[0;32m    579\u001b[0m         y \u001b[38;5;241m=\u001b[39m check_array(y, \u001b[38;5;241m*\u001b[39m\u001b[38;5;241m*\u001b[39mcheck_y_params)\n\u001b[0;32m    580\u001b[0m     \u001b[38;5;28;01melse\u001b[39;00m:\n\u001b[1;32m--> 581\u001b[0m         X, y \u001b[38;5;241m=\u001b[39m check_X_y(X, y, \u001b[38;5;241m*\u001b[39m\u001b[38;5;241m*\u001b[39mcheck_params)\n\u001b[0;32m    582\u001b[0m     out \u001b[38;5;241m=\u001b[39m X, y\n\u001b[0;32m    584\u001b[0m \u001b[38;5;28;01mif\u001b[39;00m \u001b[38;5;129;01mnot\u001b[39;00m no_val_X \u001b[38;5;129;01mand\u001b[39;00m check_params\u001b[38;5;241m.\u001b[39mget(\u001b[38;5;124m\"\u001b[39m\u001b[38;5;124mensure_2d\u001b[39m\u001b[38;5;124m\"\u001b[39m, \u001b[38;5;28;01mTrue\u001b[39;00m):\n",
      "File \u001b[1;32m~\\anaconda3\\lib\\site-packages\\sklearn\\utils\\validation.py:964\u001b[0m, in \u001b[0;36mcheck_X_y\u001b[1;34m(X, y, accept_sparse, accept_large_sparse, dtype, order, copy, force_all_finite, ensure_2d, allow_nd, multi_output, ensure_min_samples, ensure_min_features, y_numeric, estimator)\u001b[0m\n\u001b[0;32m    961\u001b[0m \u001b[38;5;28;01mif\u001b[39;00m y \u001b[38;5;129;01mis\u001b[39;00m \u001b[38;5;28;01mNone\u001b[39;00m:\n\u001b[0;32m    962\u001b[0m     \u001b[38;5;28;01mraise\u001b[39;00m \u001b[38;5;167;01mValueError\u001b[39;00m(\u001b[38;5;124m\"\u001b[39m\u001b[38;5;124my cannot be None\u001b[39m\u001b[38;5;124m\"\u001b[39m)\n\u001b[1;32m--> 964\u001b[0m X \u001b[38;5;241m=\u001b[39m \u001b[43mcheck_array\u001b[49m\u001b[43m(\u001b[49m\n\u001b[0;32m    965\u001b[0m \u001b[43m    \u001b[49m\u001b[43mX\u001b[49m\u001b[43m,\u001b[49m\n\u001b[0;32m    966\u001b[0m \u001b[43m    \u001b[49m\u001b[43maccept_sparse\u001b[49m\u001b[38;5;241;43m=\u001b[39;49m\u001b[43maccept_sparse\u001b[49m\u001b[43m,\u001b[49m\n\u001b[0;32m    967\u001b[0m \u001b[43m    \u001b[49m\u001b[43maccept_large_sparse\u001b[49m\u001b[38;5;241;43m=\u001b[39;49m\u001b[43maccept_large_sparse\u001b[49m\u001b[43m,\u001b[49m\n\u001b[0;32m    968\u001b[0m \u001b[43m    \u001b[49m\u001b[43mdtype\u001b[49m\u001b[38;5;241;43m=\u001b[39;49m\u001b[43mdtype\u001b[49m\u001b[43m,\u001b[49m\n\u001b[0;32m    969\u001b[0m \u001b[43m    \u001b[49m\u001b[43morder\u001b[49m\u001b[38;5;241;43m=\u001b[39;49m\u001b[43morder\u001b[49m\u001b[43m,\u001b[49m\n\u001b[0;32m    970\u001b[0m \u001b[43m    \u001b[49m\u001b[43mcopy\u001b[49m\u001b[38;5;241;43m=\u001b[39;49m\u001b[43mcopy\u001b[49m\u001b[43m,\u001b[49m\n\u001b[0;32m    971\u001b[0m \u001b[43m    \u001b[49m\u001b[43mforce_all_finite\u001b[49m\u001b[38;5;241;43m=\u001b[39;49m\u001b[43mforce_all_finite\u001b[49m\u001b[43m,\u001b[49m\n\u001b[0;32m    972\u001b[0m \u001b[43m    \u001b[49m\u001b[43mensure_2d\u001b[49m\u001b[38;5;241;43m=\u001b[39;49m\u001b[43mensure_2d\u001b[49m\u001b[43m,\u001b[49m\n\u001b[0;32m    973\u001b[0m \u001b[43m    \u001b[49m\u001b[43mallow_nd\u001b[49m\u001b[38;5;241;43m=\u001b[39;49m\u001b[43mallow_nd\u001b[49m\u001b[43m,\u001b[49m\n\u001b[0;32m    974\u001b[0m \u001b[43m    \u001b[49m\u001b[43mensure_min_samples\u001b[49m\u001b[38;5;241;43m=\u001b[39;49m\u001b[43mensure_min_samples\u001b[49m\u001b[43m,\u001b[49m\n\u001b[0;32m    975\u001b[0m \u001b[43m    \u001b[49m\u001b[43mensure_min_features\u001b[49m\u001b[38;5;241;43m=\u001b[39;49m\u001b[43mensure_min_features\u001b[49m\u001b[43m,\u001b[49m\n\u001b[0;32m    976\u001b[0m \u001b[43m    \u001b[49m\u001b[43mestimator\u001b[49m\u001b[38;5;241;43m=\u001b[39;49m\u001b[43mestimator\u001b[49m\u001b[43m,\u001b[49m\n\u001b[0;32m    977\u001b[0m \u001b[43m\u001b[49m\u001b[43m)\u001b[49m\n\u001b[0;32m    979\u001b[0m y \u001b[38;5;241m=\u001b[39m _check_y(y, multi_output\u001b[38;5;241m=\u001b[39mmulti_output, y_numeric\u001b[38;5;241m=\u001b[39my_numeric)\n\u001b[0;32m    981\u001b[0m check_consistent_length(X, y)\n",
      "File \u001b[1;32m~\\anaconda3\\lib\\site-packages\\sklearn\\utils\\validation.py:746\u001b[0m, in \u001b[0;36mcheck_array\u001b[1;34m(array, accept_sparse, accept_large_sparse, dtype, order, copy, force_all_finite, ensure_2d, allow_nd, ensure_min_samples, ensure_min_features, estimator)\u001b[0m\n\u001b[0;32m    744\u001b[0m         array \u001b[38;5;241m=\u001b[39m array\u001b[38;5;241m.\u001b[39mastype(dtype, casting\u001b[38;5;241m=\u001b[39m\u001b[38;5;124m\"\u001b[39m\u001b[38;5;124munsafe\u001b[39m\u001b[38;5;124m\"\u001b[39m, copy\u001b[38;5;241m=\u001b[39m\u001b[38;5;28;01mFalse\u001b[39;00m)\n\u001b[0;32m    745\u001b[0m     \u001b[38;5;28;01melse\u001b[39;00m:\n\u001b[1;32m--> 746\u001b[0m         array \u001b[38;5;241m=\u001b[39m \u001b[43mnp\u001b[49m\u001b[38;5;241;43m.\u001b[39;49m\u001b[43masarray\u001b[49m\u001b[43m(\u001b[49m\u001b[43marray\u001b[49m\u001b[43m,\u001b[49m\u001b[43m \u001b[49m\u001b[43morder\u001b[49m\u001b[38;5;241;43m=\u001b[39;49m\u001b[43morder\u001b[49m\u001b[43m,\u001b[49m\u001b[43m \u001b[49m\u001b[43mdtype\u001b[49m\u001b[38;5;241;43m=\u001b[39;49m\u001b[43mdtype\u001b[49m\u001b[43m)\u001b[49m\n\u001b[0;32m    747\u001b[0m \u001b[38;5;28;01mexcept\u001b[39;00m ComplexWarning \u001b[38;5;28;01mas\u001b[39;00m complex_warning:\n\u001b[0;32m    748\u001b[0m     \u001b[38;5;28;01mraise\u001b[39;00m \u001b[38;5;167;01mValueError\u001b[39;00m(\n\u001b[0;32m    749\u001b[0m         \u001b[38;5;124m\"\u001b[39m\u001b[38;5;124mComplex data not supported\u001b[39m\u001b[38;5;130;01m\\n\u001b[39;00m\u001b[38;5;132;01m{}\u001b[39;00m\u001b[38;5;130;01m\\n\u001b[39;00m\u001b[38;5;124m\"\u001b[39m\u001b[38;5;241m.\u001b[39mformat(array)\n\u001b[0;32m    750\u001b[0m     ) \u001b[38;5;28;01mfrom\u001b[39;00m \u001b[38;5;21;01mcomplex_warning\u001b[39;00m\n",
      "File \u001b[1;32m~\\anaconda3\\lib\\site-packages\\pandas\\core\\generic.py:2064\u001b[0m, in \u001b[0;36mNDFrame.__array__\u001b[1;34m(self, dtype)\u001b[0m\n\u001b[0;32m   2063\u001b[0m \u001b[38;5;28;01mdef\u001b[39;00m \u001b[38;5;21m__array__\u001b[39m(\u001b[38;5;28mself\u001b[39m, dtype: npt\u001b[38;5;241m.\u001b[39mDTypeLike \u001b[38;5;241m|\u001b[39m \u001b[38;5;28;01mNone\u001b[39;00m \u001b[38;5;241m=\u001b[39m \u001b[38;5;28;01mNone\u001b[39;00m) \u001b[38;5;241m-\u001b[39m\u001b[38;5;241m>\u001b[39m np\u001b[38;5;241m.\u001b[39mndarray:\n\u001b[1;32m-> 2064\u001b[0m     \u001b[38;5;28;01mreturn\u001b[39;00m \u001b[43mnp\u001b[49m\u001b[38;5;241;43m.\u001b[39;49m\u001b[43masarray\u001b[49m\u001b[43m(\u001b[49m\u001b[38;5;28;43mself\u001b[39;49m\u001b[38;5;241;43m.\u001b[39;49m\u001b[43m_values\u001b[49m\u001b[43m,\u001b[49m\u001b[43m \u001b[49m\u001b[43mdtype\u001b[49m\u001b[38;5;241;43m=\u001b[39;49m\u001b[43mdtype\u001b[49m\u001b[43m)\u001b[49m\n",
      "\u001b[1;31mValueError\u001b[0m: could not convert string to float: 'medium'"
     ]
    }
   ],
   "source": [
    "model = RandomForestClassifier(random_state=0)\n",
    "model.fit(X_train, y_train) # 모델 학습"
   ]
  },
  {
   "cell_type": "markdown",
   "id": "f4463609",
   "metadata": {},
   "source": [
    "### 모델 평가"
   ]
  },
  {
   "cell_type": "code",
   "execution_count": null,
   "id": "0795b8b8",
   "metadata": {},
   "outputs": [],
   "source": [
    "from sklearn.metrics import accuracy_score, roc_auc_score"
   ]
  },
  {
   "cell_type": "code",
   "execution_count": null,
   "id": "27dc5846",
   "metadata": {},
   "outputs": [],
   "source": [
    "model.predict(X_test) # 클래스 예측"
   ]
  },
  {
   "cell_type": "code",
   "execution_count": null,
   "id": "0dac697d",
   "metadata": {},
   "outputs": [],
   "source": [
    "model.predict_proba(X_test) # 각 클래스의 확률 예측"
   ]
  },
  {
   "cell_type": "code",
   "execution_count": null,
   "id": "023befc5",
   "metadata": {},
   "outputs": [],
   "source": [
    "preds = model.predict(X_test)\n",
    "acc_score = accuracy_score(y_test, preds) # 성능 측정 (정확도)\n",
    "\n",
    "probas = model.predict_proba(X_test)[:,1]\n",
    "auc_score = roc_auc_score(y_test, probas) # 성능 측정 (ROC_AUC)\n",
    "\n",
    "print('Accuracy:\\t', acc_score)\n",
    "print('ROC_AUC:\\t', auc_score)"
   ]
  }
 ],
 "metadata": {
  "kernelspec": {
   "display_name": "Python 3 (ipykernel)",
   "language": "python",
   "name": "python3"
  },
  "language_info": {
   "codemirror_mode": {
    "name": "ipython",
    "version": 3
   },
   "file_extension": ".py",
   "mimetype": "text/x-python",
   "name": "python",
   "nbconvert_exporter": "python",
   "pygments_lexer": "ipython3",
   "version": "3.9.12"
  }
 },
 "nbformat": 4,
 "nbformat_minor": 5
}
