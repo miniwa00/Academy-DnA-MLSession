{
 "cells": [
  {
   "cell_type": "code",
   "execution_count": 163,
   "id": "96d334e4",
   "metadata": {},
   "outputs": [],
   "source": [
    "import pandas as pd\n",
    "import numpy as np\n",
    "import matplotlib.pyplot as plt\n",
    "import seaborn as sns\n",
    "import math"
   ]
  },
  {
   "cell_type": "markdown",
   "id": "9d4dd537",
   "metadata": {},
   "source": [
    "### scikit-learn 모듈\n",
    "- Data Cleansing & Feature Engineering\n",
    "  - `sklearn.preprocessing`: 데이터 전처리 (인코딩, 정규화 등)\n",
    "  - `sklearn.feature_selection`: feature 선택\n",
    "  - `sklearn.feature_extraction`: feature 추출 (이미지, 텍스트로 부터 추출)\n",
    "- Model Evaluation\n",
    "  - `sklearn.model_selection`: 데이터 분리, 검증 및 모델 튜닝\n",
    "  - `sklearn.metrics`: 성능 평가\n",
    "- Supervised Learning Algorithm\n",
    "  - `sklearn.linear_model`: 선형 모델\n",
    "  - `sklearn.svm`: 서포트 벡터 머신\n",
    "  - `sklearn.tree`: 의사결정나무\n",
    "  - `sklearn.ensemble`: 앙상블 알고리즘\n",
    "- Unsupervised Learning Algorithm\n",
    "  - `sklearn.clsuter`: 군집 분석\n",
    "  - `sklearn.decomposition`: 차원 축소\n",
    "- Utility&Dataset\n",
    "  - `sklearn.pipeline`: 워크플로우 효율화\n",
    "  - `sklearn.datasets`: 예제 데이터셋"
   ]
  },
  {
   "cell_type": "markdown",
   "id": "ab958f43",
   "metadata": {},
   "source": [
    "### 데이터 불러오기\n",
    "```python\n",
    "train = pd.read_csv('train.csv')\n",
    "```"
   ]
  },
  {
   "cell_type": "markdown",
   "id": "1b8d1817",
   "metadata": {},
   "source": [
    "#### feature\n",
    "- `pclass`: 자리 등급 (1등석, 2등석, 3등석)\n",
    "- `name`: 승객 이름\n",
    "- `sex`: 승객 성별\n",
    "- `age`: 승객 나이\n",
    "- `sibsp`: 동승한 자매/배우자 수\n",
    "- `parch`: 동승한 부모/자식 수\n",
    "- `ticket`: 티켓 번호\n",
    "- `fare`: 승객 요금\n",
    "- `cabin`: 방 호수\n",
    "- `embarked`: 탑승지\n",
    "- ~`boat`: 탈출한 보트 번호~ <font color='darkgreen'>: target과 직접적인 연관이 있으므로 제외</font>\n",
    "- ~`body`: 사망자 확인 번호~ : <font color='darkgreen'>target과 직접적인 연관이 있으므로 제외</font>\n",
    "- `home.dest`: 고향/목적지\n",
    "\n",
    "#### target\n",
    "- `survived`: 생존 여부"
   ]
  },
  {
   "cell_type": "code",
   "execution_count": 164,
   "id": "2a99a8c1",
   "metadata": {},
   "outputs": [],
   "source": [
    "# 타이타닉 생존자 데이터\n",
    "from sklearn.datasets import fetch_openml"
   ]
  },
  {
   "cell_type": "code",
   "execution_count": 165,
   "id": "d1e1fcd2",
   "metadata": {},
   "outputs": [],
   "source": [
    "data = fetch_openml('titanic', version=1)"
   ]
  },
  {
   "cell_type": "code",
   "execution_count": 166,
   "id": "8ada845e",
   "metadata": {},
   "outputs": [
    {
     "data": {
      "text/plain": [
       "dict_keys(['data', 'target', 'frame', 'categories', 'feature_names', 'target_names', 'DESCR', 'details', 'url'])"
      ]
     },
     "execution_count": 166,
     "metadata": {},
     "output_type": "execute_result"
    }
   ],
   "source": [
    "data.keys()"
   ]
  },
  {
   "cell_type": "code",
   "execution_count": 170,
   "id": "eb3b6367",
   "metadata": {},
   "outputs": [],
   "source": [
    "X = data.data.drop(columns=['boat', 'body','name'])\n",
    "y = data.target"
   ]
  },
  {
   "cell_type": "code",
   "execution_count": 171,
   "id": "9f25a3b1",
   "metadata": {},
   "outputs": [
    {
     "data": {
      "text/html": [
       "<div>\n",
       "<style scoped>\n",
       "    .dataframe tbody tr th:only-of-type {\n",
       "        vertical-align: middle;\n",
       "    }\n",
       "\n",
       "    .dataframe tbody tr th {\n",
       "        vertical-align: top;\n",
       "    }\n",
       "\n",
       "    .dataframe thead th {\n",
       "        text-align: right;\n",
       "    }\n",
       "</style>\n",
       "<table border=\"1\" class=\"dataframe\">\n",
       "  <thead>\n",
       "    <tr style=\"text-align: right;\">\n",
       "      <th></th>\n",
       "      <th>pclass</th>\n",
       "      <th>sex</th>\n",
       "      <th>age</th>\n",
       "      <th>sibsp</th>\n",
       "      <th>parch</th>\n",
       "      <th>ticket</th>\n",
       "      <th>fare</th>\n",
       "      <th>cabin</th>\n",
       "      <th>embarked</th>\n",
       "      <th>home.dest</th>\n",
       "    </tr>\n",
       "  </thead>\n",
       "  <tbody>\n",
       "    <tr>\n",
       "      <th>0</th>\n",
       "      <td>1.0</td>\n",
       "      <td>female</td>\n",
       "      <td>29.0000</td>\n",
       "      <td>0.0</td>\n",
       "      <td>0.0</td>\n",
       "      <td>24160</td>\n",
       "      <td>211.3375</td>\n",
       "      <td>B5</td>\n",
       "      <td>S</td>\n",
       "      <td>St Louis, MO</td>\n",
       "    </tr>\n",
       "    <tr>\n",
       "      <th>1</th>\n",
       "      <td>1.0</td>\n",
       "      <td>male</td>\n",
       "      <td>0.9167</td>\n",
       "      <td>1.0</td>\n",
       "      <td>2.0</td>\n",
       "      <td>113781</td>\n",
       "      <td>151.5500</td>\n",
       "      <td>C22 C26</td>\n",
       "      <td>S</td>\n",
       "      <td>Montreal, PQ / Chesterville, ON</td>\n",
       "    </tr>\n",
       "    <tr>\n",
       "      <th>2</th>\n",
       "      <td>1.0</td>\n",
       "      <td>female</td>\n",
       "      <td>2.0000</td>\n",
       "      <td>1.0</td>\n",
       "      <td>2.0</td>\n",
       "      <td>113781</td>\n",
       "      <td>151.5500</td>\n",
       "      <td>C22 C26</td>\n",
       "      <td>S</td>\n",
       "      <td>Montreal, PQ / Chesterville, ON</td>\n",
       "    </tr>\n",
       "  </tbody>\n",
       "</table>\n",
       "</div>"
      ],
      "text/plain": [
       "   pclass     sex      age  sibsp  parch  ticket      fare    cabin embarked  \\\n",
       "0     1.0  female  29.0000    0.0    0.0   24160  211.3375       B5        S   \n",
       "1     1.0    male   0.9167    1.0    2.0  113781  151.5500  C22 C26        S   \n",
       "2     1.0  female   2.0000    1.0    2.0  113781  151.5500  C22 C26        S   \n",
       "\n",
       "                         home.dest  \n",
       "0                     St Louis, MO  \n",
       "1  Montreal, PQ / Chesterville, ON  \n",
       "2  Montreal, PQ / Chesterville, ON  "
      ]
     },
     "metadata": {},
     "output_type": "display_data"
    },
    {
     "data": {
      "text/plain": [
       "0    1\n",
       "1    1\n",
       "2    0\n",
       "Name: survived, dtype: category\n",
       "Categories (2, object): ['0', '1']"
      ]
     },
     "metadata": {},
     "output_type": "display_data"
    }
   ],
   "source": [
    "display(X.head(3))\n",
    "display(y.head(3))"
   ]
  },
  {
   "cell_type": "markdown",
   "id": "0983ae22",
   "metadata": {},
   "source": [
    "### 데이터 분리"
   ]
  },
  {
   "cell_type": "code",
   "execution_count": 134,
   "id": "a6e2fe6f",
   "metadata": {},
   "outputs": [],
   "source": [
    "from sklearn.model_selection import train_test_split"
   ]
  },
  {
   "cell_type": "code",
   "execution_count": 135,
   "id": "b5a0a0b0",
   "metadata": {},
   "outputs": [],
   "source": [
    "X_train, X_test, y_train, y_test = train_test_split(X, y, test_size=.3, random_state=0)"
   ]
  },
  {
   "cell_type": "markdown",
   "id": "3d679d54",
   "metadata": {},
   "source": [
    "### EDA(탐색적 데이터 분석)"
   ]
  },
  {
   "cell_type": "code",
   "execution_count": 175,
   "id": "67b42114",
   "metadata": {},
   "outputs": [
    {
     "name": "stdout",
     "output_type": "stream",
     "text": [
      "<class 'pandas.core.frame.DataFrame'>\n",
      "Int64Index: 916 entries, 501 to 684\n",
      "Data columns (total 11 columns):\n",
      " #   Column     Non-Null Count  Dtype   \n",
      "---  ------     --------------  -----   \n",
      " 0   pclass     916 non-null    object  \n",
      " 1   sex        916 non-null    category\n",
      " 2   age        916 non-null    float64 \n",
      " 3   sibsp      916 non-null    float64 \n",
      " 4   parch      916 non-null    float64 \n",
      " 5   ticket     916 non-null    int64   \n",
      " 6   fare       0 non-null      float64 \n",
      " 7   cabin      916 non-null    int64   \n",
      " 8   embarked   916 non-null    category\n",
      " 9   home.dest  916 non-null    int64   \n",
      " 10  나이대        916 non-null    int64   \n",
      "dtypes: category(2), float64(4), int64(4), object(1)\n",
      "memory usage: 73.6+ KB\n"
     ]
    }
   ],
   "source": [
    "X_train.info()"
   ]
  },
  {
   "cell_type": "code",
   "execution_count": null,
   "id": "e47ee503",
   "metadata": {},
   "outputs": [],
   "source": []
  },
  {
   "cell_type": "code",
   "execution_count": 176,
   "id": "7a795827",
   "metadata": {},
   "outputs": [
    {
     "name": "stderr",
     "output_type": "stream",
     "text": [
      "C:\\Users\\miniw\\anaconda3\\lib\\site-packages\\IPython\\core\\pylabtools.py:151: UserWarning: Glyph 45208 (\\N{HANGUL SYLLABLE NA}) missing from current font.\n",
      "  fig.canvas.print_figure(bytes_io, **kw)\n",
      "C:\\Users\\miniw\\anaconda3\\lib\\site-packages\\IPython\\core\\pylabtools.py:151: UserWarning: Glyph 51060 (\\N{HANGUL SYLLABLE I}) missing from current font.\n",
      "  fig.canvas.print_figure(bytes_io, **kw)\n",
      "C:\\Users\\miniw\\anaconda3\\lib\\site-packages\\IPython\\core\\pylabtools.py:151: UserWarning: Glyph 45824 (\\N{HANGUL SYLLABLE DAE}) missing from current font.\n",
      "  fig.canvas.print_figure(bytes_io, **kw)\n"
     ]
    },
    {
     "data": {
      "image/png": "[encoded data removed]",
      "text/plain": [
       "<Figure size 432x288 with 1 Axes>"
      ]
     },
     "metadata": {
      "needs_background": "light"
     },
     "output_type": "display_data"
    }
   ],
   "source": [
    "X_train.isna().sum().plot.bar()\n",
    "plt.title('NaN value')\n",
    "plt.show()"
   ]
  },
  {
   "cell_type": "code",
   "execution_count": 138,
   "id": "6ea7b861",
   "metadata": {},
   "outputs": [
    {
     "data": {
      "image/png": "[encoded data removed]",
      "text/plain": [
       "<Figure size 432x288 with 1 Axes>"
      ]
     },
     "metadata": {
      "needs_background": "light"
     },
     "output_type": "display_data"
    }
   ],
   "source": [
    "d = pd.concat([X_train.sex, y_train], axis=1)\n",
    "sns.countplot(data=d, x='sex', hue='survived')\n",
    "plt.show()"
   ]
  },
  {
   "cell_type": "code",
   "execution_count": 139,
   "id": "7360ce4f",
   "metadata": {},
   "outputs": [
    {
     "data": {
      "image/png": "[encoded data removed]",
      "text/plain": [
       "<Figure size 432x288 with 1 Axes>"
      ]
     },
     "metadata": {
      "needs_background": "light"
     },
     "output_type": "display_data"
    }
   ],
   "source": [
    "X_train.fare.plot.box()\n",
    "plt.show()"
   ]
  },
  {
   "cell_type": "markdown",
   "id": "71dbfdfc",
   "metadata": {},
   "source": [
    "### 데이터 전처리\n",
    "검증, 평가 데이터셋에도 **\"동일\"**한 전처리를 수행해줘야 함"
   ]
  },
  {
   "cell_type": "markdown",
   "id": "8dca7677",
   "metadata": {},
   "source": [
    "이상치 처리"
   ]
  },
  {
   "cell_type": "code",
   "execution_count": 140,
   "id": "bca83f54",
   "metadata": {},
   "outputs": [
    {
     "name": "stdout",
     "output_type": "stream",
     "text": [
      "42.9646\n"
     ]
    }
   ],
   "source": [
    "upper = X_train.fare.quantile(.25) + 1.5*(X_train.fare.quantile(.75) - X_train.fare.quantile(.25))\n",
    "print(upper)\n",
    "#상한값 설정"
   ]
  },
  {
   "cell_type": "code",
   "execution_count": 141,
   "id": "e1da8528",
   "metadata": {},
   "outputs": [],
   "source": [
    "X_train.fare = X_train.fare.clip(upper=upper)\n",
    "#상한값 이사의 것들은 모두 상한값으로 변경"
   ]
  },
  {
   "cell_type": "code",
   "execution_count": 142,
   "id": "9a23390d",
   "metadata": {},
   "outputs": [
    {
     "data": {
      "image/png": "[encoded data removed]",
      "text/plain": [
       "<Figure size 432x288 with 1 Axes>"
      ]
     },
     "metadata": {
      "needs_background": "light"
     },
     "output_type": "display_data"
    }
   ],
   "source": [
    "X_train.fare.plot.box()\n",
    "plt.show()"
   ]
  },
  {
   "cell_type": "code",
   "execution_count": 143,
   "id": "20df6c41",
   "metadata": {},
   "outputs": [],
   "source": [
    "X_test.fare = X_test.fare.clip(upper=upper)"
   ]
  },
  {
   "cell_type": "markdown",
   "id": "f7114b0a",
   "metadata": {},
   "source": [
    "결측값 처리"
   ]
  },
  {
   "cell_type": "code",
   "execution_count": 159,
   "id": "060fb32a",
   "metadata": {},
   "outputs": [],
   "source": [
    "# mean -> 평균, mode -> 최빈값\n",
    "# fillna -> 결측값 대체 함수\n",
    "X_train['age'] = X_train.age.fillna(X_train.age.mean())\n",
    "X_train['cabin'] = X_train.cabin.fillna(X_train.cabin.mode()[0])\n",
    "X_train['embarked'] = X_train.embarked.fillna(X_train.embarked.mode()[0])\n",
    "X_train['home.dest'] = X_train['home.dest'].fillna('결측치')\n",
    "X_train['pclass'] = X_train['pclass'].round"
   ]
  },
  {
   "cell_type": "code",
   "execution_count": 160,
   "id": "decefff3",
   "metadata": {},
   "outputs": [],
   "source": [
    "X_test['age'] = X_test.age.fillna(X_train.age.mean())\n",
    "X_test['fare'] = X_test.fare.fillna(X_train.fare.mean())\n",
    "X_test['cabin'] = X_test.cabin.fillna(X_train.cabin.mode()[0])\n",
    "X_test['embarked'] = X_test.embarked.fillna(X_train.embarked.mode()[0])\n",
    "X_test['home.dest'] = X_test['home.dest'].fillna('결측치')\n",
    "X_test['pclass'] = X_test['pclass'].round()"
   ]
  },
  {
   "cell_type": "markdown",
   "id": "90c3a024",
   "metadata": {},
   "source": [
    "범주형 변수 처리"
   ]
  },
  {
   "cell_type": "code",
   "execution_count": 161,
   "id": "7b9e0d74",
   "metadata": {},
   "outputs": [],
   "source": [
    "X_train.sex = X_train.sex.replace(['male', 'female'], [0, 1])\n",
    "X_test.sex = X_test.sex.replace(['male', 'female'], [0, 1])\n",
    "\n",
    "value2idx = {x:i for i, x in enumerate(X_train.ticket.unique())}\n",
    "X_train['ticket'] = X_train.ticket.map(lambda x: value2idx[x])\n",
    "X_test['ticket'] = X_test.ticket.map(lambda x: value2idx.get(x,-1))\n",
    "\n",
    "value2idx = {x:i for i, x in enumerate(X_train.cabin.unique())}\n",
    "X_train['cabin'] = X_train.cabin.map(lambda x: value2idx[x])\n",
    "X_test['cabin'] = X_test.cabin.map(lambda x: value2idx.get(x, -1))\n",
    "\n",
    "value2idx = {x:i for i, x in enumerate(X_train.embarked.cat.categories)}\n",
    "X_train['embarked'] = X_train.embarked.map(lambda x: value2idx[x])\n",
    "X_test['embarked'] = X_test.embarked.map(lambda x: value2idx.get(x, -1))\n",
    "\n",
    "value2idx = {x:i for i, x in enumerate(X_train['home.dest'].unique())}\n",
    "X_train['home.dest'] = X_train['home.dest'].map(lambda x: value2idx[x])\n",
    "X_test['home.dest'] = X_test['home.dest'].map(lambda x: value2idx.get(x, -1))"
   ]
  },
  {
   "cell_type": "code",
   "execution_count": 162,
   "id": "f87fcaaf",
   "metadata": {},
   "outputs": [
    {
     "ename": "KeyError",
     "evalue": "\"['name'] not found in axis\"",
     "output_type": "error",
     "traceback": [
      "\u001b[1;31m---------------------------------------------------------------------------\u001b[0m",
      "\u001b[1;31mKeyError\u001b[0m                                  Traceback (most recent call last)",
      "Input \u001b[1;32mIn [162]\u001b[0m, in \u001b[0;36m<cell line: 2>\u001b[1;34m()\u001b[0m\n\u001b[0;32m      1\u001b[0m \u001b[38;5;66;03m# name열 삭제\u001b[39;00m\n\u001b[1;32m----> 2\u001b[0m X_train \u001b[38;5;241m=\u001b[39m \u001b[43mX_train\u001b[49m\u001b[38;5;241;43m.\u001b[39;49m\u001b[43mdrop\u001b[49m\u001b[43m(\u001b[49m\u001b[43mcolumns\u001b[49m\u001b[38;5;241;43m=\u001b[39;49m\u001b[38;5;124;43m'\u001b[39;49m\u001b[38;5;124;43mname\u001b[39;49m\u001b[38;5;124;43m'\u001b[39;49m\u001b[43m)\u001b[49m\n\u001b[0;32m      3\u001b[0m X_test \u001b[38;5;241m=\u001b[39m X_test\u001b[38;5;241m.\u001b[39mdrop(columns\u001b[38;5;241m=\u001b[39m\u001b[38;5;124m'\u001b[39m\u001b[38;5;124mname\u001b[39m\u001b[38;5;124m'\u001b[39m)\n",
      "File \u001b[1;32m~\\anaconda3\\lib\\site-packages\\pandas\\util\\_decorators.py:311\u001b[0m, in \u001b[0;36mdeprecate_nonkeyword_arguments.<locals>.decorate.<locals>.wrapper\u001b[1;34m(*args, **kwargs)\u001b[0m\n\u001b[0;32m    305\u001b[0m \u001b[38;5;28;01mif\u001b[39;00m \u001b[38;5;28mlen\u001b[39m(args) \u001b[38;5;241m>\u001b[39m num_allow_args:\n\u001b[0;32m    306\u001b[0m     warnings\u001b[38;5;241m.\u001b[39mwarn(\n\u001b[0;32m    307\u001b[0m         msg\u001b[38;5;241m.\u001b[39mformat(arguments\u001b[38;5;241m=\u001b[39marguments),\n\u001b[0;32m    308\u001b[0m         \u001b[38;5;167;01mFutureWarning\u001b[39;00m,\n\u001b[0;32m    309\u001b[0m         stacklevel\u001b[38;5;241m=\u001b[39mstacklevel,\n\u001b[0;32m    310\u001b[0m     )\n\u001b[1;32m--> 311\u001b[0m \u001b[38;5;28;01mreturn\u001b[39;00m func(\u001b[38;5;241m*\u001b[39margs, \u001b[38;5;241m*\u001b[39m\u001b[38;5;241m*\u001b[39mkwargs)\n",
      "File \u001b[1;32m~\\anaconda3\\lib\\site-packages\\pandas\\core\\frame.py:4954\u001b[0m, in \u001b[0;36mDataFrame.drop\u001b[1;34m(self, labels, axis, index, columns, level, inplace, errors)\u001b[0m\n\u001b[0;32m   4806\u001b[0m \u001b[38;5;129m@deprecate_nonkeyword_arguments\u001b[39m(version\u001b[38;5;241m=\u001b[39m\u001b[38;5;28;01mNone\u001b[39;00m, allowed_args\u001b[38;5;241m=\u001b[39m[\u001b[38;5;124m\"\u001b[39m\u001b[38;5;124mself\u001b[39m\u001b[38;5;124m\"\u001b[39m, \u001b[38;5;124m\"\u001b[39m\u001b[38;5;124mlabels\u001b[39m\u001b[38;5;124m\"\u001b[39m])\n\u001b[0;32m   4807\u001b[0m \u001b[38;5;28;01mdef\u001b[39;00m \u001b[38;5;21mdrop\u001b[39m(\n\u001b[0;32m   4808\u001b[0m     \u001b[38;5;28mself\u001b[39m,\n\u001b[1;32m   (...)\u001b[0m\n\u001b[0;32m   4815\u001b[0m     errors: \u001b[38;5;28mstr\u001b[39m \u001b[38;5;241m=\u001b[39m \u001b[38;5;124m\"\u001b[39m\u001b[38;5;124mraise\u001b[39m\u001b[38;5;124m\"\u001b[39m,\n\u001b[0;32m   4816\u001b[0m ):\n\u001b[0;32m   4817\u001b[0m     \u001b[38;5;124;03m\"\"\"\u001b[39;00m\n\u001b[0;32m   4818\u001b[0m \u001b[38;5;124;03m    Drop specified labels from rows or columns.\u001b[39;00m\n\u001b[0;32m   4819\u001b[0m \n\u001b[1;32m   (...)\u001b[0m\n\u001b[0;32m   4952\u001b[0m \u001b[38;5;124;03m            weight  1.0     0.8\u001b[39;00m\n\u001b[0;32m   4953\u001b[0m \u001b[38;5;124;03m    \"\"\"\u001b[39;00m\n\u001b[1;32m-> 4954\u001b[0m     \u001b[38;5;28;01mreturn\u001b[39;00m \u001b[38;5;28;43msuper\u001b[39;49m\u001b[43m(\u001b[49m\u001b[43m)\u001b[49m\u001b[38;5;241;43m.\u001b[39;49m\u001b[43mdrop\u001b[49m\u001b[43m(\u001b[49m\n\u001b[0;32m   4955\u001b[0m \u001b[43m        \u001b[49m\u001b[43mlabels\u001b[49m\u001b[38;5;241;43m=\u001b[39;49m\u001b[43mlabels\u001b[49m\u001b[43m,\u001b[49m\n\u001b[0;32m   4956\u001b[0m \u001b[43m        \u001b[49m\u001b[43maxis\u001b[49m\u001b[38;5;241;43m=\u001b[39;49m\u001b[43maxis\u001b[49m\u001b[43m,\u001b[49m\n\u001b[0;32m   4957\u001b[0m \u001b[43m        \u001b[49m\u001b[43mindex\u001b[49m\u001b[38;5;241;43m=\u001b[39;49m\u001b[43mindex\u001b[49m\u001b[43m,\u001b[49m\n\u001b[0;32m   4958\u001b[0m \u001b[43m        \u001b[49m\u001b[43mcolumns\u001b[49m\u001b[38;5;241;43m=\u001b[39;49m\u001b[43mcolumns\u001b[49m\u001b[43m,\u001b[49m\n\u001b[0;32m   4959\u001b[0m \u001b[43m        \u001b[49m\u001b[43mlevel\u001b[49m\u001b[38;5;241;43m=\u001b[39;49m\u001b[43mlevel\u001b[49m\u001b[43m,\u001b[49m\n\u001b[0;32m   4960\u001b[0m \u001b[43m        \u001b[49m\u001b[43minplace\u001b[49m\u001b[38;5;241;43m=\u001b[39;49m\u001b[43minplace\u001b[49m\u001b[43m,\u001b[49m\n\u001b[0;32m   4961\u001b[0m \u001b[43m        \u001b[49m\u001b[43merrors\u001b[49m\u001b[38;5;241;43m=\u001b[39;49m\u001b[43merrors\u001b[49m\u001b[43m,\u001b[49m\n\u001b[0;32m   4962\u001b[0m \u001b[43m    \u001b[49m\u001b[43m)\u001b[49m\n",
      "File \u001b[1;32m~\\anaconda3\\lib\\site-packages\\pandas\\core\\generic.py:4267\u001b[0m, in \u001b[0;36mNDFrame.drop\u001b[1;34m(self, labels, axis, index, columns, level, inplace, errors)\u001b[0m\n\u001b[0;32m   4265\u001b[0m \u001b[38;5;28;01mfor\u001b[39;00m axis, labels \u001b[38;5;129;01min\u001b[39;00m axes\u001b[38;5;241m.\u001b[39mitems():\n\u001b[0;32m   4266\u001b[0m     \u001b[38;5;28;01mif\u001b[39;00m labels \u001b[38;5;129;01mis\u001b[39;00m \u001b[38;5;129;01mnot\u001b[39;00m \u001b[38;5;28;01mNone\u001b[39;00m:\n\u001b[1;32m-> 4267\u001b[0m         obj \u001b[38;5;241m=\u001b[39m \u001b[43mobj\u001b[49m\u001b[38;5;241;43m.\u001b[39;49m\u001b[43m_drop_axis\u001b[49m\u001b[43m(\u001b[49m\u001b[43mlabels\u001b[49m\u001b[43m,\u001b[49m\u001b[43m \u001b[49m\u001b[43maxis\u001b[49m\u001b[43m,\u001b[49m\u001b[43m \u001b[49m\u001b[43mlevel\u001b[49m\u001b[38;5;241;43m=\u001b[39;49m\u001b[43mlevel\u001b[49m\u001b[43m,\u001b[49m\u001b[43m \u001b[49m\u001b[43merrors\u001b[49m\u001b[38;5;241;43m=\u001b[39;49m\u001b[43merrors\u001b[49m\u001b[43m)\u001b[49m\n\u001b[0;32m   4269\u001b[0m \u001b[38;5;28;01mif\u001b[39;00m inplace:\n\u001b[0;32m   4270\u001b[0m     \u001b[38;5;28mself\u001b[39m\u001b[38;5;241m.\u001b[39m_update_inplace(obj)\n",
      "File \u001b[1;32m~\\anaconda3\\lib\\site-packages\\pandas\\core\\generic.py:4311\u001b[0m, in \u001b[0;36mNDFrame._drop_axis\u001b[1;34m(self, labels, axis, level, errors, consolidate, only_slice)\u001b[0m\n\u001b[0;32m   4309\u001b[0m         new_axis \u001b[38;5;241m=\u001b[39m axis\u001b[38;5;241m.\u001b[39mdrop(labels, level\u001b[38;5;241m=\u001b[39mlevel, errors\u001b[38;5;241m=\u001b[39merrors)\n\u001b[0;32m   4310\u001b[0m     \u001b[38;5;28;01melse\u001b[39;00m:\n\u001b[1;32m-> 4311\u001b[0m         new_axis \u001b[38;5;241m=\u001b[39m \u001b[43maxis\u001b[49m\u001b[38;5;241;43m.\u001b[39;49m\u001b[43mdrop\u001b[49m\u001b[43m(\u001b[49m\u001b[43mlabels\u001b[49m\u001b[43m,\u001b[49m\u001b[43m \u001b[49m\u001b[43merrors\u001b[49m\u001b[38;5;241;43m=\u001b[39;49m\u001b[43merrors\u001b[49m\u001b[43m)\u001b[49m\n\u001b[0;32m   4312\u001b[0m     indexer \u001b[38;5;241m=\u001b[39m axis\u001b[38;5;241m.\u001b[39mget_indexer(new_axis)\n\u001b[0;32m   4314\u001b[0m \u001b[38;5;66;03m# Case for non-unique axis\u001b[39;00m\n\u001b[0;32m   4315\u001b[0m \u001b[38;5;28;01melse\u001b[39;00m:\n",
      "File \u001b[1;32m~\\anaconda3\\lib\\site-packages\\pandas\\core\\indexes\\base.py:6644\u001b[0m, in \u001b[0;36mIndex.drop\u001b[1;34m(self, labels, errors)\u001b[0m\n\u001b[0;32m   6642\u001b[0m \u001b[38;5;28;01mif\u001b[39;00m mask\u001b[38;5;241m.\u001b[39many():\n\u001b[0;32m   6643\u001b[0m     \u001b[38;5;28;01mif\u001b[39;00m errors \u001b[38;5;241m!=\u001b[39m \u001b[38;5;124m\"\u001b[39m\u001b[38;5;124mignore\u001b[39m\u001b[38;5;124m\"\u001b[39m:\n\u001b[1;32m-> 6644\u001b[0m         \u001b[38;5;28;01mraise\u001b[39;00m \u001b[38;5;167;01mKeyError\u001b[39;00m(\u001b[38;5;124mf\u001b[39m\u001b[38;5;124m\"\u001b[39m\u001b[38;5;132;01m{\u001b[39;00m\u001b[38;5;28mlist\u001b[39m(labels[mask])\u001b[38;5;132;01m}\u001b[39;00m\u001b[38;5;124m not found in axis\u001b[39m\u001b[38;5;124m\"\u001b[39m)\n\u001b[0;32m   6645\u001b[0m     indexer \u001b[38;5;241m=\u001b[39m indexer[\u001b[38;5;241m~\u001b[39mmask]\n\u001b[0;32m   6646\u001b[0m \u001b[38;5;28;01mreturn\u001b[39;00m \u001b[38;5;28mself\u001b[39m\u001b[38;5;241m.\u001b[39mdelete(indexer)\n",
      "\u001b[1;31mKeyError\u001b[0m: \"['name'] not found in axis\""
     ]
    }
   ],
   "source": [
    "# name열 삭제\n",
    "X_train = X_train.drop(columns='name')\n",
    "X_test = X_test.drop(columns='name')"
   ]
  },
  {
   "cell_type": "markdown",
   "id": "96bd69f4",
   "metadata": {},
   "source": [
    "### feature 생성"
   ]
  },
  {
   "cell_type": "code",
   "execution_count": 152,
   "id": "33a67431",
   "metadata": {},
   "outputs": [],
   "source": [
    "# feature 생성 예시\n",
    "X_train['나이대'] = X_train.age.map(lambda x: str(x)[0]+'0대')\n",
    "\n",
    "value2idx = {x:i for i, x in enumerate(X_train.나이대.unique())}\n",
    "X_train['나이대'] = X_train.나이대.map(lambda x: value2idx[x])\n",
    "\n",
    "X_test['나이대'] = X_test.age.map(lambda x: str(x)[0]+'0대')\n",
    "\n",
    "value2idx = {x:i for i, x in enumerate(X_test.나이대.unique())}\n",
    "X_test['나이대'] = X_test.나이대.map(lambda x: value2idx[x])"
   ]
  },
  {
   "cell_type": "code",
   "execution_count": 153,
   "id": "7d3fdfc6",
   "metadata": {},
   "outputs": [],
   "source": [
    "### 과제: feature를 생성하여 모델의 성능을 높이시오."
   ]
  },
  {
   "cell_type": "code",
   "execution_count": 156,
   "id": "f0bb5a4e",
   "metadata": {},
   "outputs": [
    {
     "data": {
      "text/html": [
       "<div>\n",
       "<style scoped>\n",
       "    .dataframe tbody tr th:only-of-type {\n",
       "        vertical-align: middle;\n",
       "    }\n",
       "\n",
       "    .dataframe tbody tr th {\n",
       "        vertical-align: top;\n",
       "    }\n",
       "\n",
       "    .dataframe thead th {\n",
       "        text-align: right;\n",
       "    }\n",
       "</style>\n",
       "<table border=\"1\" class=\"dataframe\">\n",
       "  <thead>\n",
       "    <tr style=\"text-align: right;\">\n",
       "      <th></th>\n",
       "      <th>pclass</th>\n",
       "      <th>sex</th>\n",
       "      <th>age</th>\n",
       "      <th>sibsp</th>\n",
       "      <th>parch</th>\n",
       "      <th>ticket</th>\n",
       "      <th>fare</th>\n",
       "      <th>cabin</th>\n",
       "      <th>embarked</th>\n",
       "      <th>home.dest</th>\n",
       "      <th>나이대</th>\n",
       "    </tr>\n",
       "  </thead>\n",
       "  <tbody>\n",
       "    <tr>\n",
       "      <th>501</th>\n",
       "      <td>2.0</td>\n",
       "      <td>1</td>\n",
       "      <td>13.000000</td>\n",
       "      <td>0.0</td>\n",
       "      <td>1.0</td>\n",
       "      <td>0</td>\n",
       "      <td>NaN</td>\n",
       "      <td>0</td>\n",
       "      <td>2</td>\n",
       "      <td>0</td>\n",
       "      <td>0</td>\n",
       "    </tr>\n",
       "    <tr>\n",
       "      <th>588</th>\n",
       "      <td>2.0</td>\n",
       "      <td>1</td>\n",
       "      <td>4.000000</td>\n",
       "      <td>1.0</td>\n",
       "      <td>1.0</td>\n",
       "      <td>1</td>\n",
       "      <td>NaN</td>\n",
       "      <td>0</td>\n",
       "      <td>2</td>\n",
       "      <td>1</td>\n",
       "      <td>1</td>\n",
       "    </tr>\n",
       "    <tr>\n",
       "      <th>402</th>\n",
       "      <td>2.0</td>\n",
       "      <td>1</td>\n",
       "      <td>30.000000</td>\n",
       "      <td>1.0</td>\n",
       "      <td>0.0</td>\n",
       "      <td>2</td>\n",
       "      <td>NaN</td>\n",
       "      <td>0</td>\n",
       "      <td>0</td>\n",
       "      <td>2</td>\n",
       "      <td>2</td>\n",
       "    </tr>\n",
       "    <tr>\n",
       "      <th>1193</th>\n",
       "      <td>3.0</td>\n",
       "      <td>0</td>\n",
       "      <td>30.231444</td>\n",
       "      <td>0.0</td>\n",
       "      <td>0.0</td>\n",
       "      <td>3</td>\n",
       "      <td>NaN</td>\n",
       "      <td>0</td>\n",
       "      <td>1</td>\n",
       "      <td>3</td>\n",
       "      <td>2</td>\n",
       "    </tr>\n",
       "    <tr>\n",
       "      <th>686</th>\n",
       "      <td>3.0</td>\n",
       "      <td>1</td>\n",
       "      <td>22.000000</td>\n",
       "      <td>0.0</td>\n",
       "      <td>0.0</td>\n",
       "      <td>4</td>\n",
       "      <td>NaN</td>\n",
       "      <td>0</td>\n",
       "      <td>1</td>\n",
       "      <td>4</td>\n",
       "      <td>3</td>\n",
       "    </tr>\n",
       "    <tr>\n",
       "      <th>...</th>\n",
       "      <td>...</td>\n",
       "      <td>...</td>\n",
       "      <td>...</td>\n",
       "      <td>...</td>\n",
       "      <td>...</td>\n",
       "      <td>...</td>\n",
       "      <td>...</td>\n",
       "      <td>...</td>\n",
       "      <td>...</td>\n",
       "      <td>...</td>\n",
       "      <td>...</td>\n",
       "    </tr>\n",
       "    <tr>\n",
       "      <th>763</th>\n",
       "      <td>3.0</td>\n",
       "      <td>1</td>\n",
       "      <td>0.166700</td>\n",
       "      <td>1.0</td>\n",
       "      <td>2.0</td>\n",
       "      <td>98</td>\n",
       "      <td>NaN</td>\n",
       "      <td>0</td>\n",
       "      <td>2</td>\n",
       "      <td>51</td>\n",
       "      <td>4</td>\n",
       "    </tr>\n",
       "    <tr>\n",
       "      <th>835</th>\n",
       "      <td>3.0</td>\n",
       "      <td>0</td>\n",
       "      <td>30.231444</td>\n",
       "      <td>0.0</td>\n",
       "      <td>0.0</td>\n",
       "      <td>696</td>\n",
       "      <td>NaN</td>\n",
       "      <td>0</td>\n",
       "      <td>2</td>\n",
       "      <td>3</td>\n",
       "      <td>2</td>\n",
       "    </tr>\n",
       "    <tr>\n",
       "      <th>1216</th>\n",
       "      <td>3.0</td>\n",
       "      <td>1</td>\n",
       "      <td>30.231444</td>\n",
       "      <td>0.0</td>\n",
       "      <td>0.0</td>\n",
       "      <td>697</td>\n",
       "      <td>NaN</td>\n",
       "      <td>0</td>\n",
       "      <td>1</td>\n",
       "      <td>3</td>\n",
       "      <td>2</td>\n",
       "    </tr>\n",
       "    <tr>\n",
       "      <th>559</th>\n",
       "      <td>2.0</td>\n",
       "      <td>1</td>\n",
       "      <td>20.000000</td>\n",
       "      <td>0.0</td>\n",
       "      <td>0.0</td>\n",
       "      <td>296</td>\n",
       "      <td>NaN</td>\n",
       "      <td>0</td>\n",
       "      <td>2</td>\n",
       "      <td>159</td>\n",
       "      <td>3</td>\n",
       "    </tr>\n",
       "    <tr>\n",
       "      <th>684</th>\n",
       "      <td>3.0</td>\n",
       "      <td>1</td>\n",
       "      <td>32.000000</td>\n",
       "      <td>1.0</td>\n",
       "      <td>1.0</td>\n",
       "      <td>397</td>\n",
       "      <td>NaN</td>\n",
       "      <td>0</td>\n",
       "      <td>1</td>\n",
       "      <td>185</td>\n",
       "      <td>2</td>\n",
       "    </tr>\n",
       "  </tbody>\n",
       "</table>\n",
       "<p>916 rows × 11 columns</p>\n",
       "</div>"
      ],
      "text/plain": [
       "      pclass sex        age  sibsp  parch  ticket  fare  cabin embarked  \\\n",
       "501      2.0   1  13.000000    0.0    1.0       0   NaN      0        2   \n",
       "588      2.0   1   4.000000    1.0    1.0       1   NaN      0        2   \n",
       "402      2.0   1  30.000000    1.0    0.0       2   NaN      0        0   \n",
       "1193     3.0   0  30.231444    0.0    0.0       3   NaN      0        1   \n",
       "686      3.0   1  22.000000    0.0    0.0       4   NaN      0        1   \n",
       "...      ...  ..        ...    ...    ...     ...   ...    ...      ...   \n",
       "763      3.0   1   0.166700    1.0    2.0      98   NaN      0        2   \n",
       "835      3.0   0  30.231444    0.0    0.0     696   NaN      0        2   \n",
       "1216     3.0   1  30.231444    0.0    0.0     697   NaN      0        1   \n",
       "559      2.0   1  20.000000    0.0    0.0     296   NaN      0        2   \n",
       "684      3.0   1  32.000000    1.0    1.0     397   NaN      0        1   \n",
       "\n",
       "      home.dest  나이대  \n",
       "501           0    0  \n",
       "588           1    1  \n",
       "402           2    2  \n",
       "1193          3    2  \n",
       "686           4    3  \n",
       "...         ...  ...  \n",
       "763          51    4  \n",
       "835           3    2  \n",
       "1216          3    2  \n",
       "559         159    3  \n",
       "684         185    2  \n",
       "\n",
       "[916 rows x 11 columns]"
      ]
     },
     "execution_count": 156,
     "metadata": {},
     "output_type": "execute_result"
    }
   ],
   "source": [
    "X_train"
   ]
  },
  {
   "cell_type": "markdown",
   "id": "cef60bd8",
   "metadata": {},
   "source": [
    "### 모델 학습"
   ]
  },
  {
   "cell_type": "code",
   "execution_count": 126,
   "id": "427621ad",
   "metadata": {},
   "outputs": [],
   "source": [
    "from sklearn.ensemble import RandomForestClassifier"
   ]
  },
  {
   "cell_type": "code",
   "execution_count": 127,
   "id": "800143cb",
   "metadata": {},
   "outputs": [
    {
     "ename": "ValueError",
     "evalue": "Input contains NaN, infinity or a value too large for dtype('float32').",
     "output_type": "error",
     "traceback": [
      "\u001b[1;31m---------------------------------------------------------------------------\u001b[0m",
      "\u001b[1;31mValueError\u001b[0m                                Traceback (most recent call last)",
      "Input \u001b[1;32mIn [127]\u001b[0m, in \u001b[0;36m<cell line: 2>\u001b[1;34m()\u001b[0m\n\u001b[0;32m      1\u001b[0m model \u001b[38;5;241m=\u001b[39m RandomForestClassifier(random_state\u001b[38;5;241m=\u001b[39m\u001b[38;5;241m0\u001b[39m)\n\u001b[1;32m----> 2\u001b[0m \u001b[43mmodel\u001b[49m\u001b[38;5;241;43m.\u001b[39;49m\u001b[43mfit\u001b[49m\u001b[43m(\u001b[49m\u001b[43mX_train\u001b[49m\u001b[43m,\u001b[49m\u001b[43m \u001b[49m\u001b[43my_train\u001b[49m\u001b[43m)\u001b[49m\n",
      "File \u001b[1;32m~\\anaconda3\\lib\\site-packages\\sklearn\\ensemble\\_forest.py:327\u001b[0m, in \u001b[0;36mBaseForest.fit\u001b[1;34m(self, X, y, sample_weight)\u001b[0m\n\u001b[0;32m    325\u001b[0m \u001b[38;5;28;01mif\u001b[39;00m issparse(y):\n\u001b[0;32m    326\u001b[0m     \u001b[38;5;28;01mraise\u001b[39;00m \u001b[38;5;167;01mValueError\u001b[39;00m(\u001b[38;5;124m\"\u001b[39m\u001b[38;5;124msparse multilabel-indicator for y is not supported.\u001b[39m\u001b[38;5;124m\"\u001b[39m)\n\u001b[1;32m--> 327\u001b[0m X, y \u001b[38;5;241m=\u001b[39m \u001b[38;5;28;43mself\u001b[39;49m\u001b[38;5;241;43m.\u001b[39;49m\u001b[43m_validate_data\u001b[49m\u001b[43m(\u001b[49m\n\u001b[0;32m    328\u001b[0m \u001b[43m    \u001b[49m\u001b[43mX\u001b[49m\u001b[43m,\u001b[49m\u001b[43m \u001b[49m\u001b[43my\u001b[49m\u001b[43m,\u001b[49m\u001b[43m \u001b[49m\u001b[43mmulti_output\u001b[49m\u001b[38;5;241;43m=\u001b[39;49m\u001b[38;5;28;43;01mTrue\u001b[39;49;00m\u001b[43m,\u001b[49m\u001b[43m \u001b[49m\u001b[43maccept_sparse\u001b[49m\u001b[38;5;241;43m=\u001b[39;49m\u001b[38;5;124;43m\"\u001b[39;49m\u001b[38;5;124;43mcsc\u001b[39;49m\u001b[38;5;124;43m\"\u001b[39;49m\u001b[43m,\u001b[49m\u001b[43m \u001b[49m\u001b[43mdtype\u001b[49m\u001b[38;5;241;43m=\u001b[39;49m\u001b[43mDTYPE\u001b[49m\n\u001b[0;32m    329\u001b[0m \u001b[43m\u001b[49m\u001b[43m)\u001b[49m\n\u001b[0;32m    330\u001b[0m \u001b[38;5;28;01mif\u001b[39;00m sample_weight \u001b[38;5;129;01mis\u001b[39;00m \u001b[38;5;129;01mnot\u001b[39;00m \u001b[38;5;28;01mNone\u001b[39;00m:\n\u001b[0;32m    331\u001b[0m     sample_weight \u001b[38;5;241m=\u001b[39m _check_sample_weight(sample_weight, X)\n",
      "File \u001b[1;32m~\\anaconda3\\lib\\site-packages\\sklearn\\base.py:581\u001b[0m, in \u001b[0;36mBaseEstimator._validate_data\u001b[1;34m(self, X, y, reset, validate_separately, **check_params)\u001b[0m\n\u001b[0;32m    579\u001b[0m         y \u001b[38;5;241m=\u001b[39m check_array(y, \u001b[38;5;241m*\u001b[39m\u001b[38;5;241m*\u001b[39mcheck_y_params)\n\u001b[0;32m    580\u001b[0m     \u001b[38;5;28;01melse\u001b[39;00m:\n\u001b[1;32m--> 581\u001b[0m         X, y \u001b[38;5;241m=\u001b[39m check_X_y(X, y, \u001b[38;5;241m*\u001b[39m\u001b[38;5;241m*\u001b[39mcheck_params)\n\u001b[0;32m    582\u001b[0m     out \u001b[38;5;241m=\u001b[39m X, y\n\u001b[0;32m    584\u001b[0m \u001b[38;5;28;01mif\u001b[39;00m \u001b[38;5;129;01mnot\u001b[39;00m no_val_X \u001b[38;5;129;01mand\u001b[39;00m check_params\u001b[38;5;241m.\u001b[39mget(\u001b[38;5;124m\"\u001b[39m\u001b[38;5;124mensure_2d\u001b[39m\u001b[38;5;124m\"\u001b[39m, \u001b[38;5;28;01mTrue\u001b[39;00m):\n",
      "File \u001b[1;32m~\\anaconda3\\lib\\site-packages\\sklearn\\utils\\validation.py:964\u001b[0m, in \u001b[0;36mcheck_X_y\u001b[1;34m(X, y, accept_sparse, accept_large_sparse, dtype, order, copy, force_all_finite, ensure_2d, allow_nd, multi_output, ensure_min_samples, ensure_min_features, y_numeric, estimator)\u001b[0m\n\u001b[0;32m    961\u001b[0m \u001b[38;5;28;01mif\u001b[39;00m y \u001b[38;5;129;01mis\u001b[39;00m \u001b[38;5;28;01mNone\u001b[39;00m:\n\u001b[0;32m    962\u001b[0m     \u001b[38;5;28;01mraise\u001b[39;00m \u001b[38;5;167;01mValueError\u001b[39;00m(\u001b[38;5;124m\"\u001b[39m\u001b[38;5;124my cannot be None\u001b[39m\u001b[38;5;124m\"\u001b[39m)\n\u001b[1;32m--> 964\u001b[0m X \u001b[38;5;241m=\u001b[39m \u001b[43mcheck_array\u001b[49m\u001b[43m(\u001b[49m\n\u001b[0;32m    965\u001b[0m \u001b[43m    \u001b[49m\u001b[43mX\u001b[49m\u001b[43m,\u001b[49m\n\u001b[0;32m    966\u001b[0m \u001b[43m    \u001b[49m\u001b[43maccept_sparse\u001b[49m\u001b[38;5;241;43m=\u001b[39;49m\u001b[43maccept_sparse\u001b[49m\u001b[43m,\u001b[49m\n\u001b[0;32m    967\u001b[0m \u001b[43m    \u001b[49m\u001b[43maccept_large_sparse\u001b[49m\u001b[38;5;241;43m=\u001b[39;49m\u001b[43maccept_large_sparse\u001b[49m\u001b[43m,\u001b[49m\n\u001b[0;32m    968\u001b[0m \u001b[43m    \u001b[49m\u001b[43mdtype\u001b[49m\u001b[38;5;241;43m=\u001b[39;49m\u001b[43mdtype\u001b[49m\u001b[43m,\u001b[49m\n\u001b[0;32m    969\u001b[0m \u001b[43m    \u001b[49m\u001b[43morder\u001b[49m\u001b[38;5;241;43m=\u001b[39;49m\u001b[43morder\u001b[49m\u001b[43m,\u001b[49m\n\u001b[0;32m    970\u001b[0m \u001b[43m    \u001b[49m\u001b[43mcopy\u001b[49m\u001b[38;5;241;43m=\u001b[39;49m\u001b[43mcopy\u001b[49m\u001b[43m,\u001b[49m\n\u001b[0;32m    971\u001b[0m \u001b[43m    \u001b[49m\u001b[43mforce_all_finite\u001b[49m\u001b[38;5;241;43m=\u001b[39;49m\u001b[43mforce_all_finite\u001b[49m\u001b[43m,\u001b[49m\n\u001b[0;32m    972\u001b[0m \u001b[43m    \u001b[49m\u001b[43mensure_2d\u001b[49m\u001b[38;5;241;43m=\u001b[39;49m\u001b[43mensure_2d\u001b[49m\u001b[43m,\u001b[49m\n\u001b[0;32m    973\u001b[0m \u001b[43m    \u001b[49m\u001b[43mallow_nd\u001b[49m\u001b[38;5;241;43m=\u001b[39;49m\u001b[43mallow_nd\u001b[49m\u001b[43m,\u001b[49m\n\u001b[0;32m    974\u001b[0m \u001b[43m    \u001b[49m\u001b[43mensure_min_samples\u001b[49m\u001b[38;5;241;43m=\u001b[39;49m\u001b[43mensure_min_samples\u001b[49m\u001b[43m,\u001b[49m\n\u001b[0;32m    975\u001b[0m \u001b[43m    \u001b[49m\u001b[43mensure_min_features\u001b[49m\u001b[38;5;241;43m=\u001b[39;49m\u001b[43mensure_min_features\u001b[49m\u001b[43m,\u001b[49m\n\u001b[0;32m    976\u001b[0m \u001b[43m    \u001b[49m\u001b[43mestimator\u001b[49m\u001b[38;5;241;43m=\u001b[39;49m\u001b[43mestimator\u001b[49m\u001b[43m,\u001b[49m\n\u001b[0;32m    977\u001b[0m \u001b[43m\u001b[49m\u001b[43m)\u001b[49m\n\u001b[0;32m    979\u001b[0m y \u001b[38;5;241m=\u001b[39m _check_y(y, multi_output\u001b[38;5;241m=\u001b[39mmulti_output, y_numeric\u001b[38;5;241m=\u001b[39my_numeric)\n\u001b[0;32m    981\u001b[0m check_consistent_length(X, y)\n",
      "File \u001b[1;32m~\\anaconda3\\lib\\site-packages\\sklearn\\utils\\validation.py:800\u001b[0m, in \u001b[0;36mcheck_array\u001b[1;34m(array, accept_sparse, accept_large_sparse, dtype, order, copy, force_all_finite, ensure_2d, allow_nd, ensure_min_samples, ensure_min_features, estimator)\u001b[0m\n\u001b[0;32m    794\u001b[0m         \u001b[38;5;28;01mraise\u001b[39;00m \u001b[38;5;167;01mValueError\u001b[39;00m(\n\u001b[0;32m    795\u001b[0m             \u001b[38;5;124m\"\u001b[39m\u001b[38;5;124mFound array with dim \u001b[39m\u001b[38;5;132;01m%d\u001b[39;00m\u001b[38;5;124m. \u001b[39m\u001b[38;5;132;01m%s\u001b[39;00m\u001b[38;5;124m expected <= 2.\u001b[39m\u001b[38;5;124m\"\u001b[39m\n\u001b[0;32m    796\u001b[0m             \u001b[38;5;241m%\u001b[39m (array\u001b[38;5;241m.\u001b[39mndim, estimator_name)\n\u001b[0;32m    797\u001b[0m         )\n\u001b[0;32m    799\u001b[0m     \u001b[38;5;28;01mif\u001b[39;00m force_all_finite:\n\u001b[1;32m--> 800\u001b[0m         \u001b[43m_assert_all_finite\u001b[49m\u001b[43m(\u001b[49m\u001b[43marray\u001b[49m\u001b[43m,\u001b[49m\u001b[43m \u001b[49m\u001b[43mallow_nan\u001b[49m\u001b[38;5;241;43m=\u001b[39;49m\u001b[43mforce_all_finite\u001b[49m\u001b[43m \u001b[49m\u001b[38;5;241;43m==\u001b[39;49m\u001b[43m \u001b[49m\u001b[38;5;124;43m\"\u001b[39;49m\u001b[38;5;124;43mallow-nan\u001b[39;49m\u001b[38;5;124;43m\"\u001b[39;49m\u001b[43m)\u001b[49m\n\u001b[0;32m    802\u001b[0m \u001b[38;5;28;01mif\u001b[39;00m ensure_min_samples \u001b[38;5;241m>\u001b[39m \u001b[38;5;241m0\u001b[39m:\n\u001b[0;32m    803\u001b[0m     n_samples \u001b[38;5;241m=\u001b[39m _num_samples(array)\n",
      "File \u001b[1;32m~\\anaconda3\\lib\\site-packages\\sklearn\\utils\\validation.py:114\u001b[0m, in \u001b[0;36m_assert_all_finite\u001b[1;34m(X, allow_nan, msg_dtype)\u001b[0m\n\u001b[0;32m    107\u001b[0m     \u001b[38;5;28;01mif\u001b[39;00m (\n\u001b[0;32m    108\u001b[0m         allow_nan\n\u001b[0;32m    109\u001b[0m         \u001b[38;5;129;01mand\u001b[39;00m np\u001b[38;5;241m.\u001b[39misinf(X)\u001b[38;5;241m.\u001b[39many()\n\u001b[0;32m    110\u001b[0m         \u001b[38;5;129;01mor\u001b[39;00m \u001b[38;5;129;01mnot\u001b[39;00m allow_nan\n\u001b[0;32m    111\u001b[0m         \u001b[38;5;129;01mand\u001b[39;00m \u001b[38;5;129;01mnot\u001b[39;00m np\u001b[38;5;241m.\u001b[39misfinite(X)\u001b[38;5;241m.\u001b[39mall()\n\u001b[0;32m    112\u001b[0m     ):\n\u001b[0;32m    113\u001b[0m         type_err \u001b[38;5;241m=\u001b[39m \u001b[38;5;124m\"\u001b[39m\u001b[38;5;124minfinity\u001b[39m\u001b[38;5;124m\"\u001b[39m \u001b[38;5;28;01mif\u001b[39;00m allow_nan \u001b[38;5;28;01melse\u001b[39;00m \u001b[38;5;124m\"\u001b[39m\u001b[38;5;124mNaN, infinity\u001b[39m\u001b[38;5;124m\"\u001b[39m\n\u001b[1;32m--> 114\u001b[0m         \u001b[38;5;28;01mraise\u001b[39;00m \u001b[38;5;167;01mValueError\u001b[39;00m(\n\u001b[0;32m    115\u001b[0m             msg_err\u001b[38;5;241m.\u001b[39mformat(\n\u001b[0;32m    116\u001b[0m                 type_err, msg_dtype \u001b[38;5;28;01mif\u001b[39;00m msg_dtype \u001b[38;5;129;01mis\u001b[39;00m \u001b[38;5;129;01mnot\u001b[39;00m \u001b[38;5;28;01mNone\u001b[39;00m \u001b[38;5;28;01melse\u001b[39;00m X\u001b[38;5;241m.\u001b[39mdtype\n\u001b[0;32m    117\u001b[0m             )\n\u001b[0;32m    118\u001b[0m         )\n\u001b[0;32m    119\u001b[0m \u001b[38;5;66;03m# for object dtype data, we only check for NaNs (GH-13254)\u001b[39;00m\n\u001b[0;32m    120\u001b[0m \u001b[38;5;28;01melif\u001b[39;00m X\u001b[38;5;241m.\u001b[39mdtype \u001b[38;5;241m==\u001b[39m np\u001b[38;5;241m.\u001b[39mdtype(\u001b[38;5;124m\"\u001b[39m\u001b[38;5;124mobject\u001b[39m\u001b[38;5;124m\"\u001b[39m) \u001b[38;5;129;01mand\u001b[39;00m \u001b[38;5;129;01mnot\u001b[39;00m allow_nan:\n",
      "\u001b[1;31mValueError\u001b[0m: Input contains NaN, infinity or a value too large for dtype('float32')."
     ]
    }
   ],
   "source": [
    "model = RandomForestClassifier(random_state=0)\n",
    "model.fit(X_train, y_train) # 모델 학습"
   ]
  },
  {
   "cell_type": "markdown",
   "id": "f4463609",
   "metadata": {},
   "source": [
    "### 모델 평가"
   ]
  },
  {
   "cell_type": "code",
   "execution_count": null,
   "id": "0795b8b8",
   "metadata": {},
   "outputs": [],
   "source": [
    "from sklearn.metrics import accuracy_score, roc_auc_score"
   ]
  },
  {
   "cell_type": "code",
   "execution_count": 26,
   "id": "27dc5846",
   "metadata": {
    "scrolled": true
   },
   "outputs": [
    {
     "data": {
      "text/plain": [
       "array(['0', '1', '0', '0', '0', '1', '0', '1', '0', '0', '0', '0', '0',\n",
       "       '0', '1', '0', '1', '1', '1', '0', '0', '0', '0', '1', '0', '1',\n",
       "       '0', '0', '0', '1', '1', '1', '1', '0', '1', '0', '0', '0', '0',\n",
       "       '0', '0', '0', '0', '1', '1', '0', '0', '1', '1', '0', '1', '0',\n",
       "       '0', '0', '0', '0', '1', '0', '1', '1', '0', '0', '0', '1', '0',\n",
       "       '1', '0', '0', '0', '1', '1', '0', '1', '0', '1', '1', '0', '1',\n",
       "       '1', '0', '0', '0', '0', '1', '1', '1', '0', '0', '0', '1', '0',\n",
       "       '0', '0', '0', '0', '0', '0', '0', '0', '1', '0', '0', '0', '0',\n",
       "       '0', '0', '0', '0', '0', '0', '1', '1', '0', '0', '1', '0', '0',\n",
       "       '0', '0', '1', '0', '0', '1', '0', '0', '0', '0', '0', '1', '0',\n",
       "       '0', '0', '0', '0', '0', '0', '0', '1', '0', '1', '0', '1', '0',\n",
       "       '0', '0', '1', '1', '0', '1', '1', '0', '0', '0', '1', '0', '0',\n",
       "       '1', '1', '0', '0', '0', '0', '0', '0', '0', '1', '0', '0', '0',\n",
       "       '0', '0', '0', '1', '0', '1', '0', '0', '1', '1', '1', '1', '0',\n",
       "       '0', '1', '1', '0', '1', '0', '0', '0', '1', '0', '1', '0', '1',\n",
       "       '1', '0', '1', '0', '0', '0', '0', '0', '1', '1', '1', '0', '0',\n",
       "       '0', '0', '1', '0', '0', '0', '1', '0', '0', '0', '0', '0', '1',\n",
       "       '1', '1', '1', '1', '0', '1', '1', '0', '1', '1', '1', '0', '1',\n",
       "       '0', '0', '1', '0', '0', '1', '0', '0', '0', '0', '0', '0', '1',\n",
       "       '0', '1', '0', '0', '0', '1', '0', '0', '0', '1', '0', '0', '0',\n",
       "       '0', '0', '0', '1', '0', '1', '0', '0', '0', '0', '1', '1', '0',\n",
       "       '0', '0', '1', '1', '1', '0', '0', '0', '1', '0', '0', '1', '0',\n",
       "       '0', '0', '1', '1', '1', '0', '1', '1', '1', '0', '0', '0', '1',\n",
       "       '0', '0', '1', '0', '0', '1', '0', '1', '0', '1', '0', '1', '0',\n",
       "       '0', '0', '0', '1', '0', '1', '1', '1', '0', '0', '1', '0', '1',\n",
       "       '0', '0', '0', '0', '0', '1', '0', '0', '1', '0', '1', '0', '0',\n",
       "       '1', '0', '1', '0', '1', '1', '1', '0', '0', '1', '0', '0', '1',\n",
       "       '1', '1', '1', '0', '0', '1', '0', '1', '0', '0', '0', '0', '0',\n",
       "       '0', '1', '1', '0', '0', '0', '0', '0', '0', '0', '0', '0', '0',\n",
       "       '0', '0', '1', '0', '0', '1', '0', '0', '1', '1', '0', '0', '1',\n",
       "       '0', '0', '1'], dtype=object)"
      ]
     },
     "execution_count": 26,
     "metadata": {},
     "output_type": "execute_result"
    }
   ],
   "source": [
    "model.predict(X_test) # 클래스 예측"
   ]
  },
  {
   "cell_type": "code",
   "execution_count": 27,
   "id": "0dac697d",
   "metadata": {},
   "outputs": [
    {
     "data": {
      "text/plain": [
       "array([[0.73, 0.27],\n",
       "       [0.02, 0.98],\n",
       "       [0.89, 0.11],\n",
       "       [0.99, 0.01],\n",
       "       [0.88, 0.12],\n",
       "       [0.3 , 0.7 ],\n",
       "       [0.58, 0.42],\n",
       "       [0.46, 0.54],\n",
       "       [0.65, 0.35],\n",
       "       [0.85, 0.15],\n",
       "       [0.69, 0.31],\n",
       "       [0.6 , 0.4 ],\n",
       "       [0.53, 0.47],\n",
       "       [0.55, 0.45],\n",
       "       [0.03, 0.97],\n",
       "       [0.74, 0.26],\n",
       "       [0.13, 0.87],\n",
       "       [0.48, 0.52],\n",
       "       [0.21, 0.79],\n",
       "       [0.8 , 0.2 ],\n",
       "       [0.62, 0.38],\n",
       "       [0.92, 0.08],\n",
       "       [0.75, 0.25],\n",
       "       [0.06, 0.94],\n",
       "       [0.53, 0.47],\n",
       "       [0.12, 0.88],\n",
       "       [0.58, 0.42],\n",
       "       [0.79, 0.21],\n",
       "       [0.95, 0.05],\n",
       "       [0.4 , 0.6 ],\n",
       "       [0.48, 0.52],\n",
       "       [0.02, 0.98],\n",
       "       [0.09, 0.91],\n",
       "       [0.57, 0.43],\n",
       "       [0.14, 0.86],\n",
       "       [0.76, 0.24],\n",
       "       [0.77, 0.23],\n",
       "       [0.79, 0.21],\n",
       "       [0.8 , 0.2 ],\n",
       "       [0.73, 0.27],\n",
       "       [0.81, 0.19],\n",
       "       [0.6 , 0.4 ],\n",
       "       [0.89, 0.11],\n",
       "       [0.44, 0.56],\n",
       "       [0.48, 0.52],\n",
       "       [0.97, 0.03],\n",
       "       [0.8 , 0.2 ],\n",
       "       [0.12, 0.88],\n",
       "       [0.3 , 0.7 ],\n",
       "       [0.86, 0.14],\n",
       "       [0.2 , 0.8 ],\n",
       "       [0.83, 0.17],\n",
       "       [0.72, 0.28],\n",
       "       [0.63, 0.37],\n",
       "       [0.68, 0.32],\n",
       "       [0.85, 0.15],\n",
       "       [0.06, 0.94],\n",
       "       [0.56, 0.44],\n",
       "       [0.23, 0.77],\n",
       "       [0.21, 0.79],\n",
       "       [0.71, 0.29],\n",
       "       [0.55, 0.45],\n",
       "       [0.83, 0.17],\n",
       "       [0.28, 0.72],\n",
       "       [0.91, 0.09],\n",
       "       [0.14, 0.86],\n",
       "       [0.65, 0.35],\n",
       "       [0.8 , 0.2 ],\n",
       "       [0.72, 0.28],\n",
       "       [0.33, 0.67],\n",
       "       [0.05, 0.95],\n",
       "       [0.77, 0.23],\n",
       "       [0.43, 0.57],\n",
       "       [0.62, 0.38],\n",
       "       [0.15, 0.85],\n",
       "       [0.07, 0.93],\n",
       "       [0.58, 0.42],\n",
       "       [0.11, 0.89],\n",
       "       [0.27, 0.73],\n",
       "       [0.69, 0.31],\n",
       "       [0.54, 0.46],\n",
       "       [0.51, 0.49],\n",
       "       [0.72, 0.28],\n",
       "       [0.46, 0.54],\n",
       "       [0.35, 0.65],\n",
       "       [0.08, 0.92],\n",
       "       [0.75, 0.25],\n",
       "       [0.64, 0.36],\n",
       "       [1.  , 0.  ],\n",
       "       [0.35, 0.65],\n",
       "       [0.8 , 0.2 ],\n",
       "       [0.8 , 0.2 ],\n",
       "       [0.81, 0.19],\n",
       "       [0.73, 0.27],\n",
       "       [0.84, 0.16],\n",
       "       [0.95, 0.05],\n",
       "       [0.54, 0.46],\n",
       "       [0.52, 0.48],\n",
       "       [0.76, 0.24],\n",
       "       [0.13, 0.87],\n",
       "       [0.73, 0.27],\n",
       "       [0.53, 0.47],\n",
       "       [0.58, 0.42],\n",
       "       [0.52, 0.48],\n",
       "       [0.75, 0.25],\n",
       "       [0.74, 0.26],\n",
       "       [0.61, 0.39],\n",
       "       [0.84, 0.16],\n",
       "       [0.7 , 0.3 ],\n",
       "       [0.74, 0.26],\n",
       "       [0.49, 0.51],\n",
       "       [0.41, 0.59],\n",
       "       [0.66, 0.34],\n",
       "       [0.51, 0.49],\n",
       "       [0.39, 0.61],\n",
       "       [0.65, 0.35],\n",
       "       [0.74, 0.26],\n",
       "       [0.56, 0.44],\n",
       "       [0.54, 0.46],\n",
       "       [0.09, 0.91],\n",
       "       [0.57, 0.43],\n",
       "       [0.81, 0.19],\n",
       "       [0.42, 0.58],\n",
       "       [0.83, 0.17],\n",
       "       [0.79, 0.21],\n",
       "       [0.69, 0.31],\n",
       "       [0.75, 0.25],\n",
       "       [0.65, 0.35],\n",
       "       [0.33, 0.67],\n",
       "       [0.57, 0.43],\n",
       "       [0.84, 0.16],\n",
       "       [0.56, 0.44],\n",
       "       [0.73, 0.27],\n",
       "       [0.67, 0.33],\n",
       "       [0.52, 0.48],\n",
       "       [0.73, 0.27],\n",
       "       [0.75, 0.25],\n",
       "       [0.17, 0.83],\n",
       "       [0.59, 0.41],\n",
       "       [0.22, 0.78],\n",
       "       [0.91, 0.09],\n",
       "       [0.1 , 0.9 ],\n",
       "       [0.76, 0.24],\n",
       "       [0.62, 0.38],\n",
       "       [0.6 , 0.4 ],\n",
       "       [0.43, 0.57],\n",
       "       [0.08, 0.92],\n",
       "       [0.84, 0.16],\n",
       "       [0.19, 0.81],\n",
       "       [0.42, 0.58],\n",
       "       [0.86, 0.14],\n",
       "       [0.63, 0.37],\n",
       "       [0.68, 0.32],\n",
       "       [0.09, 0.91],\n",
       "       [0.78, 0.22],\n",
       "       [0.81, 0.19],\n",
       "       [0.3 , 0.7 ],\n",
       "       [0.2 , 0.8 ],\n",
       "       [0.67, 0.33],\n",
       "       [0.51, 0.49],\n",
       "       [0.73, 0.27],\n",
       "       [0.51, 0.49],\n",
       "       [0.58, 0.42],\n",
       "       [0.75, 0.25],\n",
       "       [0.67, 0.33],\n",
       "       [0.3 , 0.7 ],\n",
       "       [0.69, 0.31],\n",
       "       [0.53, 0.47],\n",
       "       [0.67, 0.33],\n",
       "       [0.73, 0.27],\n",
       "       [0.83, 0.17],\n",
       "       [0.51, 0.49],\n",
       "       [0.17, 0.83],\n",
       "       [0.67, 0.33],\n",
       "       [0.12, 0.88],\n",
       "       [0.74, 0.26],\n",
       "       [0.7 , 0.3 ],\n",
       "       [0.13, 0.87],\n",
       "       [0.15, 0.85],\n",
       "       [0.05, 0.95],\n",
       "       [0.09, 0.91],\n",
       "       [0.69, 0.31],\n",
       "       [0.54, 0.46],\n",
       "       [0.49, 0.51],\n",
       "       [0.11, 0.89],\n",
       "       [0.59, 0.41],\n",
       "       [0.15, 0.85],\n",
       "       [0.81, 0.19],\n",
       "       [0.67, 0.33],\n",
       "       [0.82, 0.18],\n",
       "       [0.44, 0.56],\n",
       "       [0.83, 0.17],\n",
       "       [0.12, 0.88],\n",
       "       [0.81, 0.19],\n",
       "       [0.46, 0.54],\n",
       "       [0.46, 0.54],\n",
       "       [0.55, 0.45],\n",
       "       [0.07, 0.93],\n",
       "       [0.75, 0.25],\n",
       "       [0.53, 0.47],\n",
       "       [0.83, 0.17],\n",
       "       [0.85, 0.15],\n",
       "       [0.73, 0.27],\n",
       "       [0.17, 0.83],\n",
       "       [0.41, 0.59],\n",
       "       [0.44, 0.56],\n",
       "       [0.59, 0.41],\n",
       "       [0.83, 0.17],\n",
       "       [0.52, 0.48],\n",
       "       [0.8 , 0.2 ],\n",
       "       [0.17, 0.83],\n",
       "       [0.65, 0.35],\n",
       "       [0.79, 0.21],\n",
       "       [0.68, 0.32],\n",
       "       [0.19, 0.81],\n",
       "       [0.93, 0.07],\n",
       "       [0.74, 0.26],\n",
       "       [0.74, 0.26],\n",
       "       [0.54, 0.46],\n",
       "       [0.71, 0.29],\n",
       "       [0.03, 0.97],\n",
       "       [0.43, 0.57],\n",
       "       [0.1 , 0.9 ],\n",
       "       [0.11, 0.89],\n",
       "       [0.04, 0.96],\n",
       "       [0.78, 0.22],\n",
       "       [0.21, 0.79],\n",
       "       [0.19, 0.81],\n",
       "       [0.71, 0.29],\n",
       "       [0.23, 0.77],\n",
       "       [0.18, 0.82],\n",
       "       [0.45, 0.55],\n",
       "       [0.65, 0.35],\n",
       "       [0.41, 0.59],\n",
       "       [0.67, 0.33],\n",
       "       [0.83, 0.17],\n",
       "       [0.16, 0.84],\n",
       "       [0.69, 0.31],\n",
       "       [0.64, 0.36],\n",
       "       [0.23, 0.77],\n",
       "       [0.77, 0.23],\n",
       "       [0.53, 0.47],\n",
       "       [0.82, 0.18],\n",
       "       [0.7 , 0.3 ],\n",
       "       [0.58, 0.42],\n",
       "       [0.69, 0.31],\n",
       "       [0.49, 0.51],\n",
       "       [0.58, 0.42],\n",
       "       [0.32, 0.68],\n",
       "       [0.97, 0.03],\n",
       "       [0.71, 0.29],\n",
       "       [0.85, 0.15],\n",
       "       [0.21, 0.79],\n",
       "       [0.8 , 0.2 ],\n",
       "       [0.51, 0.49],\n",
       "       [0.8 , 0.2 ],\n",
       "       [0.14, 0.86],\n",
       "       [0.73, 0.27],\n",
       "       [0.84, 0.16],\n",
       "       [0.69, 0.31],\n",
       "       [0.71, 0.29],\n",
       "       [0.85, 0.15],\n",
       "       [0.75, 0.25],\n",
       "       [0.08, 0.92],\n",
       "       [0.83, 0.17],\n",
       "       [0.35, 0.65],\n",
       "       [0.63, 0.37],\n",
       "       [0.57, 0.43],\n",
       "       [0.71, 0.29],\n",
       "       [0.75, 0.25],\n",
       "       [0.48, 0.52],\n",
       "       [0.05, 0.95],\n",
       "       [0.57, 0.43],\n",
       "       [0.63, 0.37],\n",
       "       [0.84, 0.16],\n",
       "       [0.09, 0.91],\n",
       "       [0.12, 0.88],\n",
       "       [0.09, 0.91],\n",
       "       [0.97, 0.03],\n",
       "       [0.51, 0.49],\n",
       "       [0.69, 0.31],\n",
       "       [0.32, 0.68],\n",
       "       [0.56, 0.44],\n",
       "       [0.85, 0.15],\n",
       "       [0.3 , 0.7 ],\n",
       "       [0.75, 0.25],\n",
       "       [0.76, 0.24],\n",
       "       [0.77, 0.23],\n",
       "       [0.21, 0.79],\n",
       "       [0.49, 0.51],\n",
       "       [0.45, 0.55],\n",
       "       [0.81, 0.19],\n",
       "       [0.1 , 0.9 ],\n",
       "       [0.17, 0.83],\n",
       "       [0.11, 0.89],\n",
       "       [0.69, 0.31],\n",
       "       [0.53, 0.47],\n",
       "       [0.91, 0.09],\n",
       "       [0.42, 0.58],\n",
       "       [0.73, 0.27],\n",
       "       [0.58, 0.42],\n",
       "       [0.19, 0.81],\n",
       "       [0.75, 0.25],\n",
       "       [0.58, 0.42],\n",
       "       [0.32, 0.68],\n",
       "       [0.73, 0.27],\n",
       "       [0.07, 0.93],\n",
       "       [0.82, 0.18],\n",
       "       [0.39, 0.61],\n",
       "       [0.83, 0.17],\n",
       "       [0.08, 0.92],\n",
       "       [0.54, 0.46],\n",
       "       [0.76, 0.24],\n",
       "       [0.79, 0.21],\n",
       "       [0.8 , 0.2 ],\n",
       "       [0.05, 0.95],\n",
       "       [0.75, 0.25],\n",
       "       [0.02, 0.98],\n",
       "       [0.48, 0.52],\n",
       "       [0.06, 0.94],\n",
       "       [0.73, 0.27],\n",
       "       [0.75, 0.25],\n",
       "       [0.26, 0.74],\n",
       "       [0.74, 0.26],\n",
       "       [0.12, 0.88],\n",
       "       [0.59, 0.41],\n",
       "       [0.8 , 0.2 ],\n",
       "       [0.66, 0.34],\n",
       "       [0.57, 0.43],\n",
       "       [0.67, 0.33],\n",
       "       [0.19, 0.81],\n",
       "       [0.69, 0.31],\n",
       "       [0.83, 0.17],\n",
       "       [0.25, 0.75],\n",
       "       [0.69, 0.31],\n",
       "       [0.15, 0.85],\n",
       "       [0.52, 0.48],\n",
       "       [0.66, 0.34],\n",
       "       [0.14, 0.86],\n",
       "       [0.65, 0.35],\n",
       "       [0.14, 0.86],\n",
       "       [0.81, 0.19],\n",
       "       [0.39, 0.61],\n",
       "       [0.12, 0.88],\n",
       "       [0.04, 0.96],\n",
       "       [0.58, 0.42],\n",
       "       [0.77, 0.23],\n",
       "       [0.38, 0.62],\n",
       "       [0.84, 0.16],\n",
       "       [0.78, 0.22],\n",
       "       [0.28, 0.72],\n",
       "       [0.12, 0.88],\n",
       "       [0.35, 0.65],\n",
       "       [0.25, 0.75],\n",
       "       [0.63, 0.37],\n",
       "       [0.73, 0.27],\n",
       "       [0.4 , 0.6 ],\n",
       "       [0.73, 0.27],\n",
       "       [0.15, 0.85],\n",
       "       [0.54, 0.46],\n",
       "       [0.75, 0.25],\n",
       "       [0.7 , 0.3 ],\n",
       "       [0.54, 0.46],\n",
       "       [0.84, 0.16],\n",
       "       [0.74, 0.26],\n",
       "       [0.07, 0.93],\n",
       "       [0.  , 1.  ],\n",
       "       [0.84, 0.16],\n",
       "       [0.81, 0.19],\n",
       "       [0.72, 0.28],\n",
       "       [0.6 , 0.4 ],\n",
       "       [0.66, 0.34],\n",
       "       [0.78, 0.22],\n",
       "       [0.83, 0.17],\n",
       "       [0.57, 0.43],\n",
       "       [0.52, 0.48],\n",
       "       [0.99, 0.01],\n",
       "       [0.82, 0.18],\n",
       "       [0.89, 0.11],\n",
       "       [0.3 , 0.7 ],\n",
       "       [0.8 , 0.2 ],\n",
       "       [0.65, 0.35],\n",
       "       [0.47, 0.53],\n",
       "       [0.84, 0.16],\n",
       "       [0.72, 0.28],\n",
       "       [0.11, 0.89],\n",
       "       [0.37, 0.63],\n",
       "       [0.97, 0.03],\n",
       "       [0.67, 0.33],\n",
       "       [0.39, 0.61],\n",
       "       [0.69, 0.31],\n",
       "       [0.69, 0.31],\n",
       "       [0.1 , 0.9 ]])"
      ]
     },
     "execution_count": 27,
     "metadata": {},
     "output_type": "execute_result"
    }
   ],
   "source": [
    "model.predict_proba(X_test) # 각 클래스의 확률 예측"
   ]
  },
  {
   "cell_type": "code",
   "execution_count": 28,
   "id": "023befc5",
   "metadata": {},
   "outputs": [
    {
     "name": "stdout",
     "output_type": "stream",
     "text": [
      "Accuracy:\t 0.8015267175572519\n",
      "ROC_AUC:\t 0.8430673082241027\n"
     ]
    }
   ],
   "source": [
    "preds = model.predict(X_test)\n",
    "acc_score = accuracy_score(y_test, preds) # 성능 측정 (정확도)\n",
    "\n",
    "probas = model.predict_proba(X_test)[:,1]\n",
    "auc_score = roc_auc_score(y_test, probas) # 성능 측정 (ROC_AUC)\n",
    "\n",
    "print('Accuracy:\\t', acc_score)\n",
    "print('ROC_AUC:\\t', auc_score)"
   ]
  }
 ],
 "metadata": {
  "kernelspec": {
   "display_name": "Python 3 (ipykernel)",
   "language": "python",
   "name": "python3"
  },
  "language_info": {
   "codemirror_mode": {
    "name": "ipython",
    "version": 3
   },
   "file_extension": ".py",
   "mimetype": "text/x-python",
   "name": "python",
   "nbconvert_exporter": "python",
   "pygments_lexer": "ipython3",
   "version": "3.9.12"
  }
 },
 "nbformat": 4,
 "nbformat_minor": 5
}
