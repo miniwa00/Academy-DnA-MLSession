{
 "cells": [
  {
   "cell_type": "code",
   "execution_count": 2,
   "id": "96d334e4",
   "metadata": {},
   "outputs": [],
   "source": [
    "import pandas as pd\n",
    "import numpy as np\n",
    "import matplotlib.pyplot as plt\n",
    "import seaborn as sns"
   ]
  },
  {
   "cell_type": "markdown",
   "id": "9d4dd537",
   "metadata": {},
   "source": [
    "### scikit-learn 모듈\n",
    "- Data Cleansing & Feature Engineering\n",
    "  - `sklearn.preprocessing`: 데이터 전처리 (인코딩, 정규화 등)\n",
    "  - `sklearn.feature_selection`: feature 선택\n",
    "  - `sklearn.feature_extraction`: feature 추출 (이미지, 텍스트로 부터 추출)\n",
    "- Model Evaluation\n",
    "  - `sklearn.model_selection`: 데이터 분리, 검증 및 모델 튜닝\n",
    "  - `sklearn.metrics`: 성능 평가\n",
    "- Supervised Learning Algorithm\n",
    "  - `sklearn.linear_model`: 선형 모델\n",
    "  - `sklearn.svm`: 서포트 벡터 머신\n",
    "  - `sklearn.tree`: 의사결정나무\n",
    "  - `sklearn.ensemble`: 앙상블 알고리즘\n",
    "- Unsupervised Learning Algorithm\n",
    "  - `sklearn.clsuter`: 군집 분석\n",
    "  - `sklearn.decomposition`: 차원 축소\n",
    "- Utility&Dataset\n",
    "  - `sklearn.pipeline`: 워크플로우 효율화\n",
    "  - `sklearn.datasets`: 예제 데이터셋"
   ]
  },
  {
   "cell_type": "markdown",
   "id": "ab958f43",
   "metadata": {},
   "source": [
    "### 데이터 불러오기\n",
    "```python\n",
    "train = pd.read_csv('train.csv')\n",
    "```"
   ]
  },
  {
   "cell_type": "markdown",
   "id": "1b8d1817",
   "metadata": {},
   "source": [
    "#### feature\n",
    "- `pclass`: 자리 등급 (1등석, 2등석, 3등석)\n",
    "- `name`: 승객 이름\n",
    "- `sex`: 승객 성별\n",
    "- `age`: 승객 나이\n",
    "- `sibsp`: 동승한 자매/배우자 수\n",
    "- `parch`: 동승한 부모/자식 수\n",
    "- `ticket`: 티켓 번호\n",
    "- `fare`: 승객 요금\n",
    "- `cabin`: 방 호수\n",
    "- `embarked`: 탑승지\n",
    "- ~`boat`: 탈출한 보트 번호~ <font color='darkgreen'>: target과 직접적인 연관이 있으므로 제외</font>\n",
    "- ~`body`: 사망자 확인 번호~ : <font color='darkgreen'>target과 직접적인 연관이 있으므로 제외</font>\n",
    "- `home.dest`: 고향/목적지\n",
    "\n",
    "#### target\n",
    "- `survived`: 생존 여부"
   ]
  },
  {
   "cell_type": "code",
   "execution_count": 3,
   "id": "2a99a8c1",
   "metadata": {},
   "outputs": [],
   "source": [
    "# 타이타닉 생존자 데이터\n",
    "from sklearn.datasets import fetch_openml"
   ]
  },
  {
   "cell_type": "code",
   "execution_count": 4,
   "id": "d1e1fcd2",
   "metadata": {},
   "outputs": [],
   "source": [
    "data = fetch_openml('titanic', version=1)"
   ]
  },
  {
   "cell_type": "code",
   "execution_count": 5,
   "id": "8ada845e",
   "metadata": {},
   "outputs": [
    {
     "data": {
      "text/plain": [
       "dict_keys(['data', 'target', 'frame', 'categories', 'feature_names', 'target_names', 'DESCR', 'details', 'url'])"
      ]
     },
     "execution_count": 5,
     "metadata": {},
     "output_type": "execute_result"
    }
   ],
   "source": [
    "data.keys()"
   ]
  },
  {
   "cell_type": "code",
   "execution_count": 6,
   "id": "eb3b6367",
   "metadata": {},
   "outputs": [],
   "source": [
    "X = data.data.drop(columns=['boat', 'body','name'])\n",
    "y = data.target"
   ]
  },
  {
   "cell_type": "code",
   "execution_count": 7,
   "id": "9f25a3b1",
   "metadata": {},
   "outputs": [
    {
     "data": {
      "text/html": [
       "<div>\n",
       "<style scoped>\n",
       "    .dataframe tbody tr th:only-of-type {\n",
       "        vertical-align: middle;\n",
       "    }\n",
       "\n",
       "    .dataframe tbody tr th {\n",
       "        vertical-align: top;\n",
       "    }\n",
       "\n",
       "    .dataframe thead th {\n",
       "        text-align: right;\n",
       "    }\n",
       "</style>\n",
       "<table border=\"1\" class=\"dataframe\">\n",
       "  <thead>\n",
       "    <tr style=\"text-align: right;\">\n",
       "      <th></th>\n",
       "      <th>pclass</th>\n",
       "      <th>sex</th>\n",
       "      <th>age</th>\n",
       "      <th>sibsp</th>\n",
       "      <th>parch</th>\n",
       "      <th>ticket</th>\n",
       "      <th>fare</th>\n",
       "      <th>cabin</th>\n",
       "      <th>embarked</th>\n",
       "      <th>home.dest</th>\n",
       "    </tr>\n",
       "  </thead>\n",
       "  <tbody>\n",
       "    <tr>\n",
       "      <th>0</th>\n",
       "      <td>1.0</td>\n",
       "      <td>female</td>\n",
       "      <td>29.0000</td>\n",
       "      <td>0.0</td>\n",
       "      <td>0.0</td>\n",
       "      <td>24160</td>\n",
       "      <td>211.3375</td>\n",
       "      <td>B5</td>\n",
       "      <td>S</td>\n",
       "      <td>St Louis, MO</td>\n",
       "    </tr>\n",
       "    <tr>\n",
       "      <th>1</th>\n",
       "      <td>1.0</td>\n",
       "      <td>male</td>\n",
       "      <td>0.9167</td>\n",
       "      <td>1.0</td>\n",
       "      <td>2.0</td>\n",
       "      <td>113781</td>\n",
       "      <td>151.5500</td>\n",
       "      <td>C22 C26</td>\n",
       "      <td>S</td>\n",
       "      <td>Montreal, PQ / Chesterville, ON</td>\n",
       "    </tr>\n",
       "    <tr>\n",
       "      <th>2</th>\n",
       "      <td>1.0</td>\n",
       "      <td>female</td>\n",
       "      <td>2.0000</td>\n",
       "      <td>1.0</td>\n",
       "      <td>2.0</td>\n",
       "      <td>113781</td>\n",
       "      <td>151.5500</td>\n",
       "      <td>C22 C26</td>\n",
       "      <td>S</td>\n",
       "      <td>Montreal, PQ / Chesterville, ON</td>\n",
       "    </tr>\n",
       "  </tbody>\n",
       "</table>\n",
       "</div>"
      ],
      "text/plain": [
       "   pclass     sex      age  sibsp  parch  ticket      fare    cabin embarked  \\\n",
       "0     1.0  female  29.0000    0.0    0.0   24160  211.3375       B5        S   \n",
       "1     1.0    male   0.9167    1.0    2.0  113781  151.5500  C22 C26        S   \n",
       "2     1.0  female   2.0000    1.0    2.0  113781  151.5500  C22 C26        S   \n",
       "\n",
       "                         home.dest  \n",
       "0                     St Louis, MO  \n",
       "1  Montreal, PQ / Chesterville, ON  \n",
       "2  Montreal, PQ / Chesterville, ON  "
      ]
     },
     "metadata": {},
     "output_type": "display_data"
    },
    {
     "data": {
      "text/plain": [
       "0    1\n",
       "1    1\n",
       "2    0\n",
       "Name: survived, dtype: category\n",
       "Categories (2, object): ['0', '1']"
      ]
     },
     "metadata": {},
     "output_type": "display_data"
    }
   ],
   "source": [
    "display(X.head(3))\n",
    "display(y.head(3))"
   ]
  },
  {
   "cell_type": "markdown",
   "id": "0983ae22",
   "metadata": {},
   "source": [
    "### 데이터 분리"
   ]
  },
  {
   "cell_type": "code",
   "execution_count": 8,
   "id": "a6e2fe6f",
   "metadata": {},
   "outputs": [],
   "source": [
    "from sklearn.model_selection import train_test_split"
   ]
  },
  {
   "cell_type": "code",
   "execution_count": 9,
   "id": "b5a0a0b0",
   "metadata": {},
   "outputs": [],
   "source": [
    "X_train, X_test, y_train, y_test = train_test_split(X, y, test_size=.3, random_state=0)"
   ]
  },
  {
   "cell_type": "markdown",
   "id": "3d679d54",
   "metadata": {},
   "source": [
    "### EDA(탐색적 데이터 분석)"
   ]
  },
  {
   "cell_type": "code",
   "execution_count": 10,
   "id": "67b42114",
   "metadata": {},
   "outputs": [
    {
     "name": "stdout",
     "output_type": "stream",
     "text": [
      "<class 'pandas.core.frame.DataFrame'>\n",
      "Int64Index: 916 entries, 501 to 684\n",
      "Data columns (total 10 columns):\n",
      " #   Column     Non-Null Count  Dtype   \n",
      "---  ------     --------------  -----   \n",
      " 0   pclass     916 non-null    float64 \n",
      " 1   sex        916 non-null    category\n",
      " 2   age        741 non-null    float64 \n",
      " 3   sibsp      916 non-null    float64 \n",
      " 4   parch      916 non-null    float64 \n",
      " 5   ticket     916 non-null    object  \n",
      " 6   fare       916 non-null    float64 \n",
      " 7   cabin      214 non-null    object  \n",
      " 8   embarked   914 non-null    category\n",
      " 9   home.dest  527 non-null    object  \n",
      "dtypes: category(2), float64(5), object(3)\n",
      "memory usage: 66.4+ KB\n"
     ]
    }
   ],
   "source": [
    "X_train.info()"
   ]
  },
  {
   "cell_type": "code",
   "execution_count": 11,
   "id": "fc893d76",
   "metadata": {},
   "outputs": [
    {
     "data": {
      "text/html": [
       "<div>\n",
       "<style scoped>\n",
       "    .dataframe tbody tr th:only-of-type {\n",
       "        vertical-align: middle;\n",
       "    }\n",
       "\n",
       "    .dataframe tbody tr th {\n",
       "        vertical-align: top;\n",
       "    }\n",
       "\n",
       "    .dataframe thead th {\n",
       "        text-align: right;\n",
       "    }\n",
       "</style>\n",
       "<table border=\"1\" class=\"dataframe\">\n",
       "  <thead>\n",
       "    <tr style=\"text-align: right;\">\n",
       "      <th></th>\n",
       "      <th>pclass</th>\n",
       "      <th>sex</th>\n",
       "      <th>age</th>\n",
       "      <th>sibsp</th>\n",
       "      <th>parch</th>\n",
       "      <th>ticket</th>\n",
       "      <th>fare</th>\n",
       "      <th>cabin</th>\n",
       "      <th>embarked</th>\n",
       "      <th>home.dest</th>\n",
       "    </tr>\n",
       "  </thead>\n",
       "  <tbody>\n",
       "    <tr>\n",
       "      <th>501</th>\n",
       "      <td>2.0</td>\n",
       "      <td>female</td>\n",
       "      <td>13.0000</td>\n",
       "      <td>0.0</td>\n",
       "      <td>1.0</td>\n",
       "      <td>250644</td>\n",
       "      <td>19.5000</td>\n",
       "      <td>None</td>\n",
       "      <td>S</td>\n",
       "      <td>England / Bennington, VT</td>\n",
       "    </tr>\n",
       "    <tr>\n",
       "      <th>588</th>\n",
       "      <td>2.0</td>\n",
       "      <td>female</td>\n",
       "      <td>4.0000</td>\n",
       "      <td>1.0</td>\n",
       "      <td>1.0</td>\n",
       "      <td>29103</td>\n",
       "      <td>23.0000</td>\n",
       "      <td>None</td>\n",
       "      <td>S</td>\n",
       "      <td>Cornwall / Akron, OH</td>\n",
       "    </tr>\n",
       "    <tr>\n",
       "      <th>402</th>\n",
       "      <td>2.0</td>\n",
       "      <td>female</td>\n",
       "      <td>30.0000</td>\n",
       "      <td>1.0</td>\n",
       "      <td>0.0</td>\n",
       "      <td>SC/PARIS 2148</td>\n",
       "      <td>13.8583</td>\n",
       "      <td>None</td>\n",
       "      <td>C</td>\n",
       "      <td>Barcelona, Spain / Havana, Cuba</td>\n",
       "    </tr>\n",
       "    <tr>\n",
       "      <th>1193</th>\n",
       "      <td>3.0</td>\n",
       "      <td>male</td>\n",
       "      <td>NaN</td>\n",
       "      <td>0.0</td>\n",
       "      <td>0.0</td>\n",
       "      <td>36209</td>\n",
       "      <td>7.7250</td>\n",
       "      <td>None</td>\n",
       "      <td>Q</td>\n",
       "      <td>None</td>\n",
       "    </tr>\n",
       "    <tr>\n",
       "      <th>686</th>\n",
       "      <td>3.0</td>\n",
       "      <td>female</td>\n",
       "      <td>22.0000</td>\n",
       "      <td>0.0</td>\n",
       "      <td>0.0</td>\n",
       "      <td>334914</td>\n",
       "      <td>7.7250</td>\n",
       "      <td>None</td>\n",
       "      <td>Q</td>\n",
       "      <td>Kingwilliamstown, Co Cork, Ireland Glens Falls...</td>\n",
       "    </tr>\n",
       "    <tr>\n",
       "      <th>...</th>\n",
       "      <td>...</td>\n",
       "      <td>...</td>\n",
       "      <td>...</td>\n",
       "      <td>...</td>\n",
       "      <td>...</td>\n",
       "      <td>...</td>\n",
       "      <td>...</td>\n",
       "      <td>...</td>\n",
       "      <td>...</td>\n",
       "      <td>...</td>\n",
       "    </tr>\n",
       "    <tr>\n",
       "      <th>763</th>\n",
       "      <td>3.0</td>\n",
       "      <td>female</td>\n",
       "      <td>0.1667</td>\n",
       "      <td>1.0</td>\n",
       "      <td>2.0</td>\n",
       "      <td>C.A. 2315</td>\n",
       "      <td>20.5750</td>\n",
       "      <td>None</td>\n",
       "      <td>S</td>\n",
       "      <td>Devon, England Wichita, KS</td>\n",
       "    </tr>\n",
       "    <tr>\n",
       "      <th>835</th>\n",
       "      <td>3.0</td>\n",
       "      <td>male</td>\n",
       "      <td>NaN</td>\n",
       "      <td>0.0</td>\n",
       "      <td>0.0</td>\n",
       "      <td>376563</td>\n",
       "      <td>8.0500</td>\n",
       "      <td>None</td>\n",
       "      <td>S</td>\n",
       "      <td>None</td>\n",
       "    </tr>\n",
       "    <tr>\n",
       "      <th>1216</th>\n",
       "      <td>3.0</td>\n",
       "      <td>female</td>\n",
       "      <td>NaN</td>\n",
       "      <td>0.0</td>\n",
       "      <td>0.0</td>\n",
       "      <td>335432</td>\n",
       "      <td>7.7333</td>\n",
       "      <td>None</td>\n",
       "      <td>Q</td>\n",
       "      <td>None</td>\n",
       "    </tr>\n",
       "    <tr>\n",
       "      <th>559</th>\n",
       "      <td>2.0</td>\n",
       "      <td>female</td>\n",
       "      <td>20.0000</td>\n",
       "      <td>0.0</td>\n",
       "      <td>0.0</td>\n",
       "      <td>C.A. 33112</td>\n",
       "      <td>36.7500</td>\n",
       "      <td>None</td>\n",
       "      <td>S</td>\n",
       "      <td>Cornwall / Hancock, MI</td>\n",
       "    </tr>\n",
       "    <tr>\n",
       "      <th>684</th>\n",
       "      <td>3.0</td>\n",
       "      <td>female</td>\n",
       "      <td>32.0000</td>\n",
       "      <td>1.0</td>\n",
       "      <td>1.0</td>\n",
       "      <td>364849</td>\n",
       "      <td>15.5000</td>\n",
       "      <td>None</td>\n",
       "      <td>Q</td>\n",
       "      <td>Ireland Chicago, IL</td>\n",
       "    </tr>\n",
       "  </tbody>\n",
       "</table>\n",
       "<p>916 rows × 10 columns</p>\n",
       "</div>"
      ],
      "text/plain": [
       "      pclass     sex      age  sibsp  parch         ticket     fare cabin  \\\n",
       "501      2.0  female  13.0000    0.0    1.0         250644  19.5000  None   \n",
       "588      2.0  female   4.0000    1.0    1.0          29103  23.0000  None   \n",
       "402      2.0  female  30.0000    1.0    0.0  SC/PARIS 2148  13.8583  None   \n",
       "1193     3.0    male      NaN    0.0    0.0          36209   7.7250  None   \n",
       "686      3.0  female  22.0000    0.0    0.0         334914   7.7250  None   \n",
       "...      ...     ...      ...    ...    ...            ...      ...   ...   \n",
       "763      3.0  female   0.1667    1.0    2.0      C.A. 2315  20.5750  None   \n",
       "835      3.0    male      NaN    0.0    0.0         376563   8.0500  None   \n",
       "1216     3.0  female      NaN    0.0    0.0         335432   7.7333  None   \n",
       "559      2.0  female  20.0000    0.0    0.0     C.A. 33112  36.7500  None   \n",
       "684      3.0  female  32.0000    1.0    1.0         364849  15.5000  None   \n",
       "\n",
       "     embarked                                          home.dest  \n",
       "501         S                           England / Bennington, VT  \n",
       "588         S                               Cornwall / Akron, OH  \n",
       "402         C                    Barcelona, Spain / Havana, Cuba  \n",
       "1193        Q                                               None  \n",
       "686         Q  Kingwilliamstown, Co Cork, Ireland Glens Falls...  \n",
       "...       ...                                                ...  \n",
       "763         S                         Devon, England Wichita, KS  \n",
       "835         S                                               None  \n",
       "1216        Q                                               None  \n",
       "559         S                             Cornwall / Hancock, MI  \n",
       "684         Q                                Ireland Chicago, IL  \n",
       "\n",
       "[916 rows x 10 columns]"
      ]
     },
     "execution_count": 11,
     "metadata": {},
     "output_type": "execute_result"
    }
   ],
   "source": [
    "X_train"
   ]
  },
  {
   "cell_type": "code",
   "execution_count": 10,
   "id": "7a795827",
   "metadata": {},
   "outputs": [
    {
     "data": {
      "image/png": "[encoded data removed]",
      "text/plain": [
       "<Figure size 640x480 with 1 Axes>"
      ]
     },
     "metadata": {},
     "output_type": "display_data"
    }
   ],
   "source": [
    "X_train.isna().sum().plot.bar()\n",
    "plt.title('NaN value')\n",
    "plt.show()"
   ]
  },
  {
   "cell_type": "code",
   "execution_count": 11,
   "id": "6ea7b861",
   "metadata": {},
   "outputs": [
    {
     "data": {
      "image/png": "[encoded data removed]",
      "text/plain": [
       "<Figure size 640x480 with 1 Axes>"
      ]
     },
     "metadata": {},
     "output_type": "display_data"
    }
   ],
   "source": [
    "d = pd.concat([X_train.sex, y_train], axis=1)\n",
    "sns.countplot(data=d, x='sex', hue='survived')\n",
    "plt.show()"
   ]
  },
  {
   "cell_type": "code",
   "execution_count": 12,
   "id": "7360ce4f",
   "metadata": {},
   "outputs": [
    {
     "data": {
      "image/png": "[encoded data removed]",
      "text/plain": [
       "<Figure size 640x480 with 1 Axes>"
      ]
     },
     "metadata": {},
     "output_type": "display_data"
    }
   ],
   "source": [
    "X_train.fare.plot.box()\n",
    "plt.show()"
   ]
  },
  {
   "cell_type": "markdown",
   "id": "71dbfdfc",
   "metadata": {},
   "source": [
    "### 데이터 전처리\n",
    "검증, 평가 데이터셋에도 **\"동일\"**한 전처리를 수행해줘야 함"
   ]
  },
  {
   "cell_type": "markdown",
   "id": "8dca7677",
   "metadata": {},
   "source": [
    "이상치 처리"
   ]
  },
  {
   "cell_type": "code",
   "execution_count": 13,
   "id": "bca83f54",
   "metadata": {},
   "outputs": [
    {
     "name": "stdout",
     "output_type": "stream",
     "text": [
      "42.9646\n"
     ]
    }
   ],
   "source": [
    "upper = X_train.fare.quantile(.25) + 1.5*(X_train.fare.quantile(.75) - X_train.fare.quantile(.25))\n",
    "print(upper)"
   ]
  },
  {
   "cell_type": "code",
   "execution_count": 14,
   "id": "e1da8528",
   "metadata": {},
   "outputs": [],
   "source": [
    "X_train.fare = X_train.fare.clip(upper=upper)"
   ]
  },
  {
   "cell_type": "code",
   "execution_count": 15,
   "id": "9a23390d",
   "metadata": {},
   "outputs": [
    {
     "data": {
      "image/png": "[encoded data removed]",
      "text/plain": [
       "<Figure size 640x480 with 1 Axes>"
      ]
     },
     "metadata": {},
     "output_type": "display_data"
    }
   ],
   "source": [
    "X_train.fare.plot.box()\n",
    "plt.show()"
   ]
  },
  {
   "cell_type": "code",
   "execution_count": 16,
   "id": "20df6c41",
   "metadata": {},
   "outputs": [],
   "source": [
    "X_test.fare = X_test.fare.clip(upper=upper)"
   ]
  },
  {
   "cell_type": "markdown",
   "id": "f7114b0a",
   "metadata": {},
   "source": [
    "결측값 처리"
   ]
  },
  {
   "cell_type": "code",
   "execution_count": 17,
   "id": "060fb32a",
   "metadata": {},
   "outputs": [],
   "source": [
    "X_train['age'] = X_train.age.fillna(X_train.age.mean())\n",
    "X_train['cabin'] = X_train.cabin.fillna(X_train.cabin.mode()[0])\n",
    "X_train['embarked'] = X_train.embarked.fillna(X_train.embarked.mode()[0])\n",
    "X_train['home.dest'] = X_train['home.dest'].fillna('결측치')"
   ]
  },
  {
   "cell_type": "code",
   "execution_count": 18,
   "id": "decefff3",
   "metadata": {},
   "outputs": [],
   "source": [
    "X_test['age'] = X_test.age.fillna(X_train.age.mean())\n",
    "X_test['fare'] = X_test.fare.fillna(X_train.fare.mean())\n",
    "X_test['cabin'] = X_test.cabin.fillna(X_train.cabin.mode()[0])\n",
    "X_test['embarked'] = X_test.embarked.fillna(X_train.embarked.mode()[0])\n",
    "X_test['home.dest'] = X_test['home.dest'].fillna('결측치')"
   ]
  },
  {
   "cell_type": "markdown",
   "id": "90c3a024",
   "metadata": {},
   "source": [
    "범주형 변수 처리"
   ]
  },
  {
   "cell_type": "code",
   "execution_count": 19,
   "id": "7b9e0d74",
   "metadata": {},
   "outputs": [],
   "source": [
    "X_train.sex = X_train.sex.replace(['male', 'female'], [0, 1])\n",
    "X_test.sex = X_test.sex.replace(['male', 'female'], [0, 1])\n",
    "\n",
    "value2idx = {x:i for i, x in enumerate(X_train.ticket.unique())}\n",
    "X_train['ticket'] = X_train.ticket.map(lambda x: value2idx[x])\n",
    "X_test['ticket'] = X_test.ticket.map(lambda x: value2idx.get(x,-1))\n",
    "\n",
    "value2idx = {x:i for i, x in enumerate(X_train.cabin.unique())}\n",
    "X_train['cabin'] = X_train.cabin.map(lambda x: value2idx[x])\n",
    "X_test['cabin'] = X_test.cabin.map(lambda x: value2idx.get(x, -1))\n",
    "\n",
    "value2idx = {x:i for i, x in enumerate(X_train.embarked.cat.categories)}\n",
    "X_train['embarked'] = X_train.embarked.map(lambda x: value2idx[x])\n",
    "X_test['embarked'] = X_test.embarked.map(lambda x: value2idx.get(x, -1))\n",
    "\n",
    "value2idx = {x:i for i, x in enumerate(X_train['home.dest'].unique())}\n",
    "X_train['home.dest'] = X_train['home.dest'].map(lambda x: value2idx[x])\n",
    "X_test['home.dest'] = X_test['home.dest'].map(lambda x: value2idx.get(x, -1))"
   ]
  },
  {
   "cell_type": "code",
   "execution_count": 20,
   "id": "f87fcaaf",
   "metadata": {},
   "outputs": [],
   "source": [
    "X_train = X_train.drop(columns='name')\n",
    "X_test = X_test.drop(columns='name')"
   ]
  },
  {
   "cell_type": "markdown",
   "id": "96bd69f4",
   "metadata": {},
   "source": [
    "### feature 생성"
   ]
  },
  {
   "cell_type": "code",
   "execution_count": 21,
   "id": "33a67431",
   "metadata": {},
   "outputs": [],
   "source": [
    "# feature 생성 예시\n",
    "X_train['나이대'] = X_train.age.map(lambda x: str(x)[0]+'0대')\n",
    "\n",
    "value2idx = {x:i for i, x in enumerate(X_train.나이대.unique())}\n",
    "X_train['나이대'] = X_train.나이대.map(lambda x: value2idx[x])\n",
    "\n",
    "X_test['나이대'] = X_test.age.map(lambda x: str(x)[0]+'0대')\n",
    "\n",
    "value2idx = {x:i for i, x in enumerate(X_test.나이대.unique())}\n",
    "X_test['나이대'] = X_test.나이대.map(lambda x: value2idx[x])"
   ]
  },
  {
   "cell_type": "code",
   "execution_count": 22,
   "id": "7d3fdfc6",
   "metadata": {},
   "outputs": [],
   "source": [
    "### 과제: feature를 생성하여 모델의 성능을 높이시오.\n"
   ]
  },
  {
   "cell_type": "markdown",
   "id": "cef60bd8",
   "metadata": {},
   "source": [
    "### 모델 학습"
   ]
  },
  {
   "cell_type": "code",
   "execution_count": 23,
   "id": "427621ad",
   "metadata": {},
   "outputs": [],
   "source": [
    "from sklearn.ensemble import RandomForestClassifier"
   ]
  },
  {
   "cell_type": "code",
   "execution_count": 24,
   "id": "800143cb",
   "metadata": {},
   "outputs": [
    {
     "data": {
      "text/html": [
       "<style>#sk-container-id-1 {color: black;background-color: white;}#sk-container-id-1 pre{padding: 0;}#sk-container-id-1 div.sk-toggleable {background-color: white;}#sk-container-id-1 label.sk-toggleable__label {cursor: pointer;display: block;width: 100%;margin-bottom: 0;padding: 0.3em;box-sizing: border-box;text-align: center;}#sk-container-id-1 label.sk-toggleable__label-arrow:before {content: \"▸\";float: left;margin-right: 0.25em;color: #696969;}#sk-container-id-1 label.sk-toggleable__label-arrow:hover:before {color: black;}#sk-container-id-1 div.sk-estimator:hover label.sk-toggleable__label-arrow:before {color: black;}#sk-container-id-1 div.sk-toggleable__content {max-height: 0;max-width: 0;overflow: hidden;text-align: left;background-color: #f0f8ff;}#sk-container-id-1 div.sk-toggleable__content pre {margin: 0.2em;color: black;border-radius: 0.25em;background-color: #f0f8ff;}#sk-container-id-1 input.sk-toggleable__control:checked~div.sk-toggleable__content {max-height: 200px;max-width: 100%;overflow: auto;}#sk-container-id-1 input.sk-toggleable__control:checked~label.sk-toggleable__label-arrow:before {content: \"▾\";}#sk-container-id-1 div.sk-estimator input.sk-toggleable__control:checked~label.sk-toggleable__label {background-color: #d4ebff;}#sk-container-id-1 div.sk-label input.sk-toggleable__control:checked~label.sk-toggleable__label {background-color: #d4ebff;}#sk-container-id-1 input.sk-hidden--visually {border: 0;clip: rect(1px 1px 1px 1px);clip: rect(1px, 1px, 1px, 1px);height: 1px;margin: -1px;overflow: hidden;padding: 0;position: absolute;width: 1px;}#sk-container-id-1 div.sk-estimator {font-family: monospace;background-color: #f0f8ff;border: 1px dotted black;border-radius: 0.25em;box-sizing: border-box;margin-bottom: 0.5em;}#sk-container-id-1 div.sk-estimator:hover {background-color: #d4ebff;}#sk-container-id-1 div.sk-parallel-item::after {content: \"\";width: 100%;border-bottom: 1px solid gray;flex-grow: 1;}#sk-container-id-1 div.sk-label:hover label.sk-toggleable__label {background-color: #d4ebff;}#sk-container-id-1 div.sk-serial::before {content: \"\";position: absolute;border-left: 1px solid gray;box-sizing: border-box;top: 0;bottom: 0;left: 50%;z-index: 0;}#sk-container-id-1 div.sk-serial {display: flex;flex-direction: column;align-items: center;background-color: white;padding-right: 0.2em;padding-left: 0.2em;position: relative;}#sk-container-id-1 div.sk-item {position: relative;z-index: 1;}#sk-container-id-1 div.sk-parallel {display: flex;align-items: stretch;justify-content: center;background-color: white;position: relative;}#sk-container-id-1 div.sk-item::before, #sk-container-id-1 div.sk-parallel-item::before {content: \"\";position: absolute;border-left: 1px solid gray;box-sizing: border-box;top: 0;bottom: 0;left: 50%;z-index: -1;}#sk-container-id-1 div.sk-parallel-item {display: flex;flex-direction: column;z-index: 1;position: relative;background-color: white;}#sk-container-id-1 div.sk-parallel-item:first-child::after {align-self: flex-end;width: 50%;}#sk-container-id-1 div.sk-parallel-item:last-child::after {align-self: flex-start;width: 50%;}#sk-container-id-1 div.sk-parallel-item:only-child::after {width: 0;}#sk-container-id-1 div.sk-dashed-wrapped {border: 1px dashed gray;margin: 0 0.4em 0.5em 0.4em;box-sizing: border-box;padding-bottom: 0.4em;background-color: white;}#sk-container-id-1 div.sk-label label {font-family: monospace;font-weight: bold;display: inline-block;line-height: 1.2em;}#sk-container-id-1 div.sk-label-container {text-align: center;}#sk-container-id-1 div.sk-container {/* jupyter's `normalize.less` sets `[hidden] { display: none; }` but bootstrap.min.css set `[hidden] { display: none !important; }` so we also need the `!important` here to be able to override the default hidden behavior on the sphinx rendered scikit-learn.org. See: https://github.com/scikit-learn/scikit-learn/issues/21755 */display: inline-block !important;position: relative;}#sk-container-id-1 div.sk-text-repr-fallback {display: none;}</style><div id=\"sk-container-id-1\" class=\"sk-top-container\"><div class=\"sk-text-repr-fallback\"><pre>RandomForestClassifier(random_state=0)</pre><b>In a Jupyter environment, please rerun this cell to show the HTML representation or trust the notebook. <br />On GitHub, the HTML representation is unable to render, please try loading this page with nbviewer.org.</b></div><div class=\"sk-container\" hidden><div class=\"sk-item\"><div class=\"sk-estimator sk-toggleable\"><input class=\"sk-toggleable__control sk-hidden--visually\" id=\"sk-estimator-id-1\" type=\"checkbox\" checked><label for=\"sk-estimator-id-1\" class=\"sk-toggleable__label sk-toggleable__label-arrow\">RandomForestClassifier</label><div class=\"sk-toggleable__content\"><pre>RandomForestClassifier(random_state=0)</pre></div></div></div></div></div>"
      ],
      "text/plain": [
       "RandomForestClassifier(random_state=0)"
      ]
     },
     "execution_count": 24,
     "metadata": {},
     "output_type": "execute_result"
    }
   ],
   "source": [
    "model = RandomForestClassifier(random_state=0)\n",
    "model.fit(X_train, y_train) # 모델 학습"
   ]
  },
  {
   "cell_type": "markdown",
   "id": "f4463609",
   "metadata": {},
   "source": [
    "### 모델 평가"
   ]
  },
  {
   "cell_type": "code",
   "execution_count": 25,
   "id": "0795b8b8",
   "metadata": {},
   "outputs": [],
   "source": [
    "from sklearn.metrics import accuracy_score, roc_auc_score"
   ]
  },
  {
   "cell_type": "code",
   "execution_count": 26,
   "id": "27dc5846",
   "metadata": {},
   "outputs": [
    {
     "data": {
      "text/plain": [
       "array(['0', '1', '0', '0', '0', '1', '0', '1', '0', '0', '0', '0', '0',\n",
       "       '0', '1', '0', '1', '1', '1', '0', '0', '0', '0', '1', '0', '1',\n",
       "       '0', '0', '0', '1', '1', '1', '1', '0', '1', '0', '0', '0', '0',\n",
       "       '0', '0', '0', '0', '1', '1', '0', '0', '1', '1', '0', '1', '0',\n",
       "       '0', '0', '0', '0', '1', '0', '1', '1', '0', '0', '0', '1', '0',\n",
       "       '1', '0', '0', '0', '1', '1', '0', '1', '0', '1', '1', '0', '1',\n",
       "       '1', '0', '0', '0', '0', '1', '1', '1', '0', '0', '0', '1', '0',\n",
       "       '0', '0', '0', '0', '0', '0', '0', '0', '1', '0', '0', '0', '0',\n",
       "       '0', '0', '0', '0', '0', '0', '1', '1', '0', '0', '1', '0', '0',\n",
       "       '0', '0', '1', '0', '0', '1', '0', '0', '0', '0', '0', '1', '0',\n",
       "       '0', '0', '0', '0', '0', '0', '0', '1', '0', '1', '0', '1', '0',\n",
       "       '0', '0', '1', '1', '0', '1', '1', '0', '0', '0', '1', '0', '0',\n",
       "       '1', '1', '0', '0', '0', '0', '0', '0', '0', '1', '0', '0', '0',\n",
       "       '0', '0', '0', '1', '0', '1', '0', '0', '1', '1', '1', '1', '0',\n",
       "       '0', '1', '1', '0', '1', '0', '0', '0', '1', '0', '1', '0', '1',\n",
       "       '1', '0', '1', '0', '0', '0', '0', '0', '1', '1', '1', '0', '0',\n",
       "       '0', '0', '1', '0', '0', '0', '1', '0', '0', '0', '0', '0', '1',\n",
       "       '1', '1', '1', '1', '0', '1', '1', '0', '1', '1', '1', '0', '1',\n",
       "       '0', '0', '1', '0', '0', '1', '0', '0', '0', '0', '0', '0', '1',\n",
       "       '0', '1', '0', '0', '0', '1', '0', '0', '0', '1', '0', '0', '0',\n",
       "       '0', '0', '0', '1', '0', '1', '0', '0', '0', '0', '1', '1', '0',\n",
       "       '0', '0', '1', '1', '1', '0', '0', '0', '1', '0', '0', '1', '0',\n",
       "       '0', '0', '1', '1', '1', '0', '1', '1', '1', '0', '0', '0', '1',\n",
       "       '0', '0', '1', '0', '0', '1', '0', '1', '0', '1', '0', '1', '0',\n",
       "       '0', '0', '0', '1', '0', '1', '1', '1', '0', '0', '1', '0', '1',\n",
       "       '0', '0', '0', '0', '0', '1', '0', '0', '1', '0', '1', '0', '0',\n",
       "       '1', '0', '1', '0', '1', '1', '1', '0', '0', '1', '0', '0', '1',\n",
       "       '1', '1', '1', '0', '0', '1', '0', '1', '0', '0', '0', '0', '0',\n",
       "       '0', '1', '1', '0', '0', '0', '0', '0', '0', '0', '0', '0', '0',\n",
       "       '0', '0', '1', '0', '0', '1', '0', '0', '1', '1', '0', '0', '1',\n",
       "       '0', '0', '1'], dtype=object)"
      ]
     },
     "execution_count": 26,
     "metadata": {},
     "output_type": "execute_result"
    }
   ],
   "source": [
    "model.predict(X_test) # 클래스 예측"
   ]
  },
  {
   "cell_type": "code",
   "execution_count": 27,
   "id": "0dac697d",
   "metadata": {},
   "outputs": [
    {
     "data": {
      "text/plain": [
       "array([[0.73, 0.27],\n",
       "       [0.02, 0.98],\n",
       "       [0.89, 0.11],\n",
       "       [0.99, 0.01],\n",
       "       [0.88, 0.12],\n",
       "       [0.3 , 0.7 ],\n",
       "       [0.58, 0.42],\n",
       "       [0.46, 0.54],\n",
       "       [0.65, 0.35],\n",
       "       [0.85, 0.15],\n",
       "       [0.69, 0.31],\n",
       "       [0.6 , 0.4 ],\n",
       "       [0.53, 0.47],\n",
       "       [0.55, 0.45],\n",
       "       [0.03, 0.97],\n",
       "       [0.74, 0.26],\n",
       "       [0.13, 0.87],\n",
       "       [0.48, 0.52],\n",
       "       [0.21, 0.79],\n",
       "       [0.8 , 0.2 ],\n",
       "       [0.62, 0.38],\n",
       "       [0.92, 0.08],\n",
       "       [0.75, 0.25],\n",
       "       [0.06, 0.94],\n",
       "       [0.53, 0.47],\n",
       "       [0.12, 0.88],\n",
       "       [0.58, 0.42],\n",
       "       [0.79, 0.21],\n",
       "       [0.95, 0.05],\n",
       "       [0.4 , 0.6 ],\n",
       "       [0.48, 0.52],\n",
       "       [0.02, 0.98],\n",
       "       [0.09, 0.91],\n",
       "       [0.57, 0.43],\n",
       "       [0.14, 0.86],\n",
       "       [0.76, 0.24],\n",
       "       [0.77, 0.23],\n",
       "       [0.79, 0.21],\n",
       "       [0.8 , 0.2 ],\n",
       "       [0.73, 0.27],\n",
       "       [0.81, 0.19],\n",
       "       [0.6 , 0.4 ],\n",
       "       [0.89, 0.11],\n",
       "       [0.44, 0.56],\n",
       "       [0.48, 0.52],\n",
       "       [0.97, 0.03],\n",
       "       [0.8 , 0.2 ],\n",
       "       [0.12, 0.88],\n",
       "       [0.3 , 0.7 ],\n",
       "       [0.86, 0.14],\n",
       "       [0.2 , 0.8 ],\n",
       "       [0.83, 0.17],\n",
       "       [0.72, 0.28],\n",
       "       [0.63, 0.37],\n",
       "       [0.68, 0.32],\n",
       "       [0.85, 0.15],\n",
       "       [0.06, 0.94],\n",
       "       [0.56, 0.44],\n",
       "       [0.23, 0.77],\n",
       "       [0.21, 0.79],\n",
       "       [0.71, 0.29],\n",
       "       [0.55, 0.45],\n",
       "       [0.83, 0.17],\n",
       "       [0.28, 0.72],\n",
       "       [0.91, 0.09],\n",
       "       [0.14, 0.86],\n",
       "       [0.65, 0.35],\n",
       "       [0.8 , 0.2 ],\n",
       "       [0.72, 0.28],\n",
       "       [0.33, 0.67],\n",
       "       [0.05, 0.95],\n",
       "       [0.77, 0.23],\n",
       "       [0.43, 0.57],\n",
       "       [0.62, 0.38],\n",
       "       [0.15, 0.85],\n",
       "       [0.07, 0.93],\n",
       "       [0.58, 0.42],\n",
       "       [0.11, 0.89],\n",
       "       [0.27, 0.73],\n",
       "       [0.69, 0.31],\n",
       "       [0.54, 0.46],\n",
       "       [0.51, 0.49],\n",
       "       [0.72, 0.28],\n",
       "       [0.46, 0.54],\n",
       "       [0.35, 0.65],\n",
       "       [0.08, 0.92],\n",
       "       [0.75, 0.25],\n",
       "       [0.64, 0.36],\n",
       "       [1.  , 0.  ],\n",
       "       [0.35, 0.65],\n",
       "       [0.8 , 0.2 ],\n",
       "       [0.8 , 0.2 ],\n",
       "       [0.81, 0.19],\n",
       "       [0.73, 0.27],\n",
       "       [0.84, 0.16],\n",
       "       [0.95, 0.05],\n",
       "       [0.54, 0.46],\n",
       "       [0.52, 0.48],\n",
       "       [0.76, 0.24],\n",
       "       [0.13, 0.87],\n",
       "       [0.73, 0.27],\n",
       "       [0.53, 0.47],\n",
       "       [0.58, 0.42],\n",
       "       [0.52, 0.48],\n",
       "       [0.75, 0.25],\n",
       "       [0.74, 0.26],\n",
       "       [0.61, 0.39],\n",
       "       [0.84, 0.16],\n",
       "       [0.7 , 0.3 ],\n",
       "       [0.74, 0.26],\n",
       "       [0.49, 0.51],\n",
       "       [0.41, 0.59],\n",
       "       [0.66, 0.34],\n",
       "       [0.51, 0.49],\n",
       "       [0.39, 0.61],\n",
       "       [0.65, 0.35],\n",
       "       [0.74, 0.26],\n",
       "       [0.56, 0.44],\n",
       "       [0.54, 0.46],\n",
       "       [0.09, 0.91],\n",
       "       [0.57, 0.43],\n",
       "       [0.81, 0.19],\n",
       "       [0.42, 0.58],\n",
       "       [0.83, 0.17],\n",
       "       [0.79, 0.21],\n",
       "       [0.69, 0.31],\n",
       "       [0.75, 0.25],\n",
       "       [0.65, 0.35],\n",
       "       [0.33, 0.67],\n",
       "       [0.57, 0.43],\n",
       "       [0.84, 0.16],\n",
       "       [0.56, 0.44],\n",
       "       [0.73, 0.27],\n",
       "       [0.67, 0.33],\n",
       "       [0.52, 0.48],\n",
       "       [0.73, 0.27],\n",
       "       [0.75, 0.25],\n",
       "       [0.17, 0.83],\n",
       "       [0.59, 0.41],\n",
       "       [0.22, 0.78],\n",
       "       [0.91, 0.09],\n",
       "       [0.1 , 0.9 ],\n",
       "       [0.76, 0.24],\n",
       "       [0.62, 0.38],\n",
       "       [0.6 , 0.4 ],\n",
       "       [0.43, 0.57],\n",
       "       [0.08, 0.92],\n",
       "       [0.84, 0.16],\n",
       "       [0.19, 0.81],\n",
       "       [0.42, 0.58],\n",
       "       [0.86, 0.14],\n",
       "       [0.63, 0.37],\n",
       "       [0.68, 0.32],\n",
       "       [0.09, 0.91],\n",
       "       [0.78, 0.22],\n",
       "       [0.81, 0.19],\n",
       "       [0.3 , 0.7 ],\n",
       "       [0.2 , 0.8 ],\n",
       "       [0.67, 0.33],\n",
       "       [0.51, 0.49],\n",
       "       [0.73, 0.27],\n",
       "       [0.51, 0.49],\n",
       "       [0.58, 0.42],\n",
       "       [0.75, 0.25],\n",
       "       [0.67, 0.33],\n",
       "       [0.3 , 0.7 ],\n",
       "       [0.69, 0.31],\n",
       "       [0.53, 0.47],\n",
       "       [0.67, 0.33],\n",
       "       [0.73, 0.27],\n",
       "       [0.83, 0.17],\n",
       "       [0.51, 0.49],\n",
       "       [0.17, 0.83],\n",
       "       [0.67, 0.33],\n",
       "       [0.12, 0.88],\n",
       "       [0.74, 0.26],\n",
       "       [0.7 , 0.3 ],\n",
       "       [0.13, 0.87],\n",
       "       [0.15, 0.85],\n",
       "       [0.05, 0.95],\n",
       "       [0.09, 0.91],\n",
       "       [0.69, 0.31],\n",
       "       [0.54, 0.46],\n",
       "       [0.49, 0.51],\n",
       "       [0.11, 0.89],\n",
       "       [0.59, 0.41],\n",
       "       [0.15, 0.85],\n",
       "       [0.81, 0.19],\n",
       "       [0.67, 0.33],\n",
       "       [0.82, 0.18],\n",
       "       [0.44, 0.56],\n",
       "       [0.83, 0.17],\n",
       "       [0.12, 0.88],\n",
       "       [0.81, 0.19],\n",
       "       [0.46, 0.54],\n",
       "       [0.46, 0.54],\n",
       "       [0.55, 0.45],\n",
       "       [0.07, 0.93],\n",
       "       [0.75, 0.25],\n",
       "       [0.53, 0.47],\n",
       "       [0.83, 0.17],\n",
       "       [0.85, 0.15],\n",
       "       [0.73, 0.27],\n",
       "       [0.17, 0.83],\n",
       "       [0.41, 0.59],\n",
       "       [0.44, 0.56],\n",
       "       [0.59, 0.41],\n",
       "       [0.83, 0.17],\n",
       "       [0.52, 0.48],\n",
       "       [0.8 , 0.2 ],\n",
       "       [0.17, 0.83],\n",
       "       [0.65, 0.35],\n",
       "       [0.79, 0.21],\n",
       "       [0.68, 0.32],\n",
       "       [0.19, 0.81],\n",
       "       [0.93, 0.07],\n",
       "       [0.74, 0.26],\n",
       "       [0.74, 0.26],\n",
       "       [0.54, 0.46],\n",
       "       [0.71, 0.29],\n",
       "       [0.03, 0.97],\n",
       "       [0.43, 0.57],\n",
       "       [0.1 , 0.9 ],\n",
       "       [0.11, 0.89],\n",
       "       [0.04, 0.96],\n",
       "       [0.78, 0.22],\n",
       "       [0.21, 0.79],\n",
       "       [0.19, 0.81],\n",
       "       [0.71, 0.29],\n",
       "       [0.23, 0.77],\n",
       "       [0.18, 0.82],\n",
       "       [0.45, 0.55],\n",
       "       [0.65, 0.35],\n",
       "       [0.41, 0.59],\n",
       "       [0.67, 0.33],\n",
       "       [0.83, 0.17],\n",
       "       [0.16, 0.84],\n",
       "       [0.69, 0.31],\n",
       "       [0.64, 0.36],\n",
       "       [0.23, 0.77],\n",
       "       [0.77, 0.23],\n",
       "       [0.53, 0.47],\n",
       "       [0.82, 0.18],\n",
       "       [0.7 , 0.3 ],\n",
       "       [0.58, 0.42],\n",
       "       [0.69, 0.31],\n",
       "       [0.49, 0.51],\n",
       "       [0.58, 0.42],\n",
       "       [0.32, 0.68],\n",
       "       [0.97, 0.03],\n",
       "       [0.71, 0.29],\n",
       "       [0.85, 0.15],\n",
       "       [0.21, 0.79],\n",
       "       [0.8 , 0.2 ],\n",
       "       [0.51, 0.49],\n",
       "       [0.8 , 0.2 ],\n",
       "       [0.14, 0.86],\n",
       "       [0.73, 0.27],\n",
       "       [0.84, 0.16],\n",
       "       [0.69, 0.31],\n",
       "       [0.71, 0.29],\n",
       "       [0.85, 0.15],\n",
       "       [0.75, 0.25],\n",
       "       [0.08, 0.92],\n",
       "       [0.83, 0.17],\n",
       "       [0.35, 0.65],\n",
       "       [0.63, 0.37],\n",
       "       [0.57, 0.43],\n",
       "       [0.71, 0.29],\n",
       "       [0.75, 0.25],\n",
       "       [0.48, 0.52],\n",
       "       [0.05, 0.95],\n",
       "       [0.57, 0.43],\n",
       "       [0.63, 0.37],\n",
       "       [0.84, 0.16],\n",
       "       [0.09, 0.91],\n",
       "       [0.12, 0.88],\n",
       "       [0.09, 0.91],\n",
       "       [0.97, 0.03],\n",
       "       [0.51, 0.49],\n",
       "       [0.69, 0.31],\n",
       "       [0.32, 0.68],\n",
       "       [0.56, 0.44],\n",
       "       [0.85, 0.15],\n",
       "       [0.3 , 0.7 ],\n",
       "       [0.75, 0.25],\n",
       "       [0.76, 0.24],\n",
       "       [0.77, 0.23],\n",
       "       [0.21, 0.79],\n",
       "       [0.49, 0.51],\n",
       "       [0.45, 0.55],\n",
       "       [0.81, 0.19],\n",
       "       [0.1 , 0.9 ],\n",
       "       [0.17, 0.83],\n",
       "       [0.11, 0.89],\n",
       "       [0.69, 0.31],\n",
       "       [0.53, 0.47],\n",
       "       [0.91, 0.09],\n",
       "       [0.42, 0.58],\n",
       "       [0.73, 0.27],\n",
       "       [0.58, 0.42],\n",
       "       [0.19, 0.81],\n",
       "       [0.75, 0.25],\n",
       "       [0.58, 0.42],\n",
       "       [0.32, 0.68],\n",
       "       [0.73, 0.27],\n",
       "       [0.07, 0.93],\n",
       "       [0.82, 0.18],\n",
       "       [0.39, 0.61],\n",
       "       [0.83, 0.17],\n",
       "       [0.08, 0.92],\n",
       "       [0.54, 0.46],\n",
       "       [0.76, 0.24],\n",
       "       [0.79, 0.21],\n",
       "       [0.8 , 0.2 ],\n",
       "       [0.05, 0.95],\n",
       "       [0.75, 0.25],\n",
       "       [0.02, 0.98],\n",
       "       [0.48, 0.52],\n",
       "       [0.06, 0.94],\n",
       "       [0.73, 0.27],\n",
       "       [0.75, 0.25],\n",
       "       [0.26, 0.74],\n",
       "       [0.74, 0.26],\n",
       "       [0.12, 0.88],\n",
       "       [0.59, 0.41],\n",
       "       [0.8 , 0.2 ],\n",
       "       [0.66, 0.34],\n",
       "       [0.57, 0.43],\n",
       "       [0.67, 0.33],\n",
       "       [0.19, 0.81],\n",
       "       [0.69, 0.31],\n",
       "       [0.83, 0.17],\n",
       "       [0.25, 0.75],\n",
       "       [0.69, 0.31],\n",
       "       [0.15, 0.85],\n",
       "       [0.52, 0.48],\n",
       "       [0.66, 0.34],\n",
       "       [0.14, 0.86],\n",
       "       [0.65, 0.35],\n",
       "       [0.14, 0.86],\n",
       "       [0.81, 0.19],\n",
       "       [0.39, 0.61],\n",
       "       [0.12, 0.88],\n",
       "       [0.04, 0.96],\n",
       "       [0.58, 0.42],\n",
       "       [0.77, 0.23],\n",
       "       [0.38, 0.62],\n",
       "       [0.84, 0.16],\n",
       "       [0.78, 0.22],\n",
       "       [0.28, 0.72],\n",
       "       [0.12, 0.88],\n",
       "       [0.35, 0.65],\n",
       "       [0.25, 0.75],\n",
       "       [0.63, 0.37],\n",
       "       [0.73, 0.27],\n",
       "       [0.4 , 0.6 ],\n",
       "       [0.73, 0.27],\n",
       "       [0.15, 0.85],\n",
       "       [0.54, 0.46],\n",
       "       [0.75, 0.25],\n",
       "       [0.7 , 0.3 ],\n",
       "       [0.54, 0.46],\n",
       "       [0.84, 0.16],\n",
       "       [0.74, 0.26],\n",
       "       [0.07, 0.93],\n",
       "       [0.  , 1.  ],\n",
       "       [0.84, 0.16],\n",
       "       [0.81, 0.19],\n",
       "       [0.72, 0.28],\n",
       "       [0.6 , 0.4 ],\n",
       "       [0.66, 0.34],\n",
       "       [0.78, 0.22],\n",
       "       [0.83, 0.17],\n",
       "       [0.57, 0.43],\n",
       "       [0.52, 0.48],\n",
       "       [0.99, 0.01],\n",
       "       [0.82, 0.18],\n",
       "       [0.89, 0.11],\n",
       "       [0.3 , 0.7 ],\n",
       "       [0.8 , 0.2 ],\n",
       "       [0.65, 0.35],\n",
       "       [0.47, 0.53],\n",
       "       [0.84, 0.16],\n",
       "       [0.72, 0.28],\n",
       "       [0.11, 0.89],\n",
       "       [0.37, 0.63],\n",
       "       [0.97, 0.03],\n",
       "       [0.67, 0.33],\n",
       "       [0.39, 0.61],\n",
       "       [0.69, 0.31],\n",
       "       [0.69, 0.31],\n",
       "       [0.1 , 0.9 ]])"
      ]
     },
     "execution_count": 27,
     "metadata": {},
     "output_type": "execute_result"
    }
   ],
   "source": [
    "model.predict_proba(X_test) # 각 클래스의 확률 예측"
   ]
  },
  {
   "cell_type": "code",
   "execution_count": 28,
   "id": "023befc5",
   "metadata": {},
   "outputs": [
    {
     "name": "stdout",
     "output_type": "stream",
     "text": [
      "Accuracy:\t 0.8015267175572519\n",
      "ROC_AUC:\t 0.8430673082241027\n"
     ]
    }
   ],
   "source": [
    "preds = model.predict(X_test)\n",
    "acc_score = accuracy_score(y_test, preds) # 성능 측정 (정확도)\n",
    "\n",
    "probas = model.predict_proba(X_test)[:,1]\n",
    "auc_score = roc_auc_score(y_test, probas) # 성능 측정 (ROC_AUC)\n",
    "\n",
    "print('Accuracy:\\t', acc_score)\n",
    "print('ROC_AUC:\\t', auc_score)"
   ]
  }
 ],
 "metadata": {
  "kernelspec": {
   "display_name": "Python 3 (ipykernel)",
   "language": "python",
   "name": "python3"
  },
  "language_info": {
   "codemirror_mode": {
    "name": "ipython",
    "version": 3
   },
   "file_extension": ".py",
   "mimetype": "text/x-python",
   "name": "python",
   "nbconvert_exporter": "python",
   "pygments_lexer": "ipython3",
   "version": "3.9.12"
  }
 },
 "nbformat": 4,
 "nbformat_minor": 5
}
